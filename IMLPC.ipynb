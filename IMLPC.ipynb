{
 "cells": [
  {
   "cell_type": "markdown",
   "metadata": {
    "slideshow": {
     "slide_type": "slide"
    }
   },
   "source": [
    "The CIFAR-10 data consists of 60,000 32x32 color images in 10 classes, with 6000 images per class. There are 50,000 training images and 10,000 test images in the official data.\n",
    "The label classes in the dataset are:\n",
    "\n",
    " - airplane \n",
    " - automobile \n",
    " - bird \n",
    " - cat \n",
    " - deer \n",
    " - dog \n",
    " - frog \n",
    " - horse \n",
    " - ship \n",
    " - truck\n",
    "\n",
    "The classes are completely mutually exclusive. There is no overlap between automobiles and trucks. \"Automobile\" includes sedans, SUVs, things of that sort. \"Truck\" includes only big trucks. Neither includes pickup trucks."
   ]
  },
  {
   "cell_type": "markdown",
   "metadata": {
    "slideshow": {
     "slide_type": "slide"
    }
   },
   "source": [
    "<img src=\"files/capture2.png\">"
   ]
  },
  {
   "cell_type": "markdown",
   "metadata": {
    "slideshow": {
     "slide_type": "slide"
    }
   },
   "source": [
    "The basic steps in the project:\n",
    " - Image Preprocessing\n",
    "              - OpenCV, \n",
    "              - PIL, \n",
    "              - Scikit-Image\n",
    "              - Numpy and matplotlib\n",
    " - Modelling and Prediction\n",
    "              - Keras\n",
    "              - TensorFlow\n",
    " - Cross-Validation, model selection and performance improvement\n",
    "              - Scikit Learn"
   ]
  },
  {
   "cell_type": "markdown",
   "metadata": {
    "slideshow": {
     "slide_type": "subslide"
    }
   },
   "source": [
    "Image Preprocessing\n",
    "1. Load the data, what does it represent??\n",
    "2. Check the shape, sample, min, maximum, mean and standard deviation\n",
    "2. EDA :- using PIL, matplotlib, Opencv\n",
    "3. aspect ratio, Scaling, same resolution, normalize inputs\n",
    "4. Reduce Dimensions\n",
    "5. Data Augmentation\n",
    "6. Image Segmentation\n",
    "7. Zero centering images"
   ]
  },
  {
   "cell_type": "markdown",
   "metadata": {
    "slideshow": {
     "slide_type": "slide"
    }
   },
   "source": [
    "<img src=\"files/capture.png\">"
   ]
  },
  {
   "cell_type": "code",
   "execution_count": 1,
   "metadata": {
    "collapsed": true,
    "slideshow": {
     "slide_type": "slide"
    }
   },
   "outputs": [],
   "source": [
    "import os, numpy, cv2, PIL\n",
    "import pandas as pd\n",
    "import tensorflow as tf\n",
    "import numpy as np\n",
    "import matplotlib.pyplot as plt\n",
    "import matplotlib.image as mpimg\n",
    "from math import sqrt\n",
    "from skimage import data\n",
    "from skimage.feature import blob_dog, blob_log, blob_doh\n",
    "from skimage.color import rgb2gray"
   ]
  },
  {
   "cell_type": "code",
   "execution_count": 2,
   "metadata": {
    "slideshow": {
     "slide_type": "subslide"
    }
   },
   "outputs": [
    {
     "data": {
      "text/plain": [
       "list"
      ]
     },
     "execution_count": 2,
     "metadata": {},
     "output_type": "execute_result"
    }
   ],
   "source": [
    "trainlabs = pd.read_csv(\"~\\Downloads\\\\trainLabels.csv\")\n",
    "imagepath = \"C:\\\\Users\\\\Neha\\\\train\"\n",
    "##Reading in Image Data\n",
    "def get_imlist(path):\n",
    "    return[os.path.join(path,f) for f in os.listdir(path) if f.endswith('.png')]\n",
    "images = get_imlist('C:\\\\Users\\\\Neha\\\\train')\n",
    "images\n",
    "images = sorted(images)\n",
    "type(images)"
   ]
  },
  {
   "cell_type": "code",
   "execution_count": 3,
   "metadata": {
    "slideshow": {
     "slide_type": "slide"
    }
   },
   "outputs": [
    {
     "data": {
      "text/plain": [
       "<matplotlib.image.AxesImage at 0x1ec1f650828>"
      ]
     },
     "execution_count": 3,
     "metadata": {},
     "output_type": "execute_result"
    },
    {
     "data": {
      "image/png": "[encoded data removed]",
      "text/plain": [
       "<matplotlib.figure.Figure at 0x1ec1de60ac8>"
      ]
     },
     "metadata": {},
     "output_type": "display_data"
    }
   ],
   "source": [
    "####Sample\n",
    "%matplotlib inline\n",
    "img = mpimg.imread(images[6])\n",
    "plt.imshow(img)"
   ]
  },
  {
   "cell_type": "code",
   "execution_count": 4,
   "metadata": {
    "slideshow": {
     "slide_type": "subslide"
    }
   },
   "outputs": [
    {
     "data": {
      "image/png": "[encoded data removed]",
      "text/plain": [
       "<matplotlib.figure.Figure at 0x1ec1f6265c0>"
      ]
     },
     "metadata": {},
     "output_type": "display_data"
    }
   ],
   "source": [
    "plt.imshow(img, cmap=plt.cm.gray)\n",
    "plt.show()"
   ]
  },
  {
   "cell_type": "code",
   "execution_count": 5,
   "metadata": {
    "slideshow": {
     "slide_type": "skip"
    }
   },
   "outputs": [
    {
     "data": {
      "text/plain": [
       "(32, 32, 3)"
      ]
     },
     "execution_count": 5,
     "metadata": {},
     "output_type": "execute_result"
    }
   ],
   "source": [
    "type(img)\n",
    "img.shape"
   ]
  },
  {
   "cell_type": "markdown",
   "metadata": {
    "slideshow": {
     "slide_type": "fragment"
    }
   },
   "source": [
    "Since the image is a square, no need to make it one!!"
   ]
  },
  {
   "cell_type": "code",
   "execution_count": 6,
   "metadata": {
    "slideshow": {
     "slide_type": "fragment"
    }
   },
   "outputs": [
    {
     "ename": "ValueError",
     "evalue": "axes don't match array",
     "output_type": "error",
     "traceback": [
      "\u001b[1;31m---------------------------------------------------------------------------\u001b[0m",
      "\u001b[1;31mValueError\u001b[0m                                Traceback (most recent call last)",
      "\u001b[1;32m<ipython-input-6-ebf109288779>\u001b[0m in \u001b[0;36m<module>\u001b[1;34m()\u001b[0m\n\u001b[1;32m----> 1\u001b[1;33m \u001b[0mp\u001b[0m \u001b[1;33m=\u001b[0m \u001b[0mimg\u001b[0m\u001b[1;33m.\u001b[0m\u001b[0mtranspose\u001b[0m\u001b[1;33m(\u001b[0m\u001b[1;36m1\u001b[0m\u001b[1;33m,\u001b[0m\u001b[1;36m0\u001b[0m\u001b[1;33m)\u001b[0m\u001b[1;33m\u001b[0m\u001b[0m\n\u001b[0m\u001b[0;32m      2\u001b[0m \u001b[0mplt\u001b[0m\u001b[1;33m.\u001b[0m\u001b[0mimshow\u001b[0m\u001b[1;33m(\u001b[0m\u001b[0mp\u001b[0m\u001b[1;33m)\u001b[0m\u001b[1;33m\u001b[0m\u001b[0m\n\u001b[0;32m      3\u001b[0m \u001b[0mimg\u001b[0m \u001b[1;33m=\u001b[0m \u001b[1;33m(\u001b[0m\u001b[0mimg\u001b[0m\u001b[1;33m-\u001b[0m\u001b[1;36m254\u001b[0m\u001b[1;33m)\u001b[0m\u001b[1;33m/\u001b[0m\u001b[1;33m(\u001b[0m\u001b[1;36m254\u001b[0m\u001b[1;33m-\u001b[0m\u001b[1;36m100\u001b[0m\u001b[1;33m)\u001b[0m\u001b[1;33m\u001b[0m\u001b[0m\n\u001b[0;32m      4\u001b[0m \u001b[0mplt\u001b[0m\u001b[1;33m.\u001b[0m\u001b[0mimshow\u001b[0m\u001b[1;33m(\u001b[0m\u001b[0mimg\u001b[0m\u001b[1;33m)\u001b[0m\u001b[1;33m\u001b[0m\u001b[0m\n",
      "\u001b[1;31mValueError\u001b[0m: axes don't match array"
     ]
    }
   ],
   "source": [
    "p = img.transpose(1,0)\n",
    "plt.imshow(p)\n",
    "img = (img-254)/(254-100)\n",
    "plt.imshow(img)"
   ]
  },
  {
   "cell_type": "code",
   "execution_count": 7,
   "metadata": {
    "slideshow": {
     "slide_type": "fragment"
    }
   },
   "outputs": [
    {
     "name": "stdout",
     "output_type": "stream",
     "text": [
      "shape of image: (32, 32, 3)\n",
      "dtype of image: float32\n"
     ]
    }
   ],
   "source": [
    "print(\"shape of image: {}\".format(img.shape))\n",
    "print(\"dtype of image: {}\".format(img.dtype))"
   ]
  },
  {
   "cell_type": "code",
   "execution_count": 8,
   "metadata": {
    "slideshow": {
     "slide_type": "fragment"
    }
   },
   "outputs": [
    {
     "data": {
      "text/html": [
       "<div>\n",
       "<style>\n",
       "    .dataframe thead tr:only-child th {\n",
       "        text-align: right;\n",
       "    }\n",
       "\n",
       "    .dataframe thead th {\n",
       "        text-align: left;\n",
       "    }\n",
       "\n",
       "    .dataframe tbody tr th {\n",
       "        vertical-align: top;\n",
       "    }\n",
       "</style>\n",
       "<table border=\"1\" class=\"dataframe\">\n",
       "  <thead>\n",
       "    <tr style=\"text-align: right;\">\n",
       "      <th></th>\n",
       "      <th>id</th>\n",
       "      <th>label</th>\n",
       "    </tr>\n",
       "  </thead>\n",
       "  <tbody>\n",
       "    <tr>\n",
       "      <th>0</th>\n",
       "      <td>1</td>\n",
       "      <td>frog</td>\n",
       "    </tr>\n",
       "    <tr>\n",
       "      <th>1</th>\n",
       "      <td>2</td>\n",
       "      <td>truck</td>\n",
       "    </tr>\n",
       "    <tr>\n",
       "      <th>2</th>\n",
       "      <td>3</td>\n",
       "      <td>truck</td>\n",
       "    </tr>\n",
       "    <tr>\n",
       "      <th>3</th>\n",
       "      <td>4</td>\n",
       "      <td>deer</td>\n",
       "    </tr>\n",
       "    <tr>\n",
       "      <th>4</th>\n",
       "      <td>5</td>\n",
       "      <td>automobile</td>\n",
       "    </tr>\n",
       "  </tbody>\n",
       "</table>\n",
       "</div>"
      ],
      "text/plain": [
       "   id       label\n",
       "0   1        frog\n",
       "1   2       truck\n",
       "2   3       truck\n",
       "3   4        deer\n",
       "4   5  automobile"
      ]
     },
     "execution_count": 8,
     "metadata": {},
     "output_type": "execute_result"
    }
   ],
   "source": [
    "trainlabs.head(n=5)"
   ]
  },
  {
   "cell_type": "code",
   "execution_count": 9,
   "metadata": {
    "slideshow": {
     "slide_type": "skip"
    }
   },
   "outputs": [
    {
     "data": {
      "text/plain": [
       "['C:\\\\Users\\\\Neha\\\\train\\\\1.png',\n",
       " 'C:\\\\Users\\\\Neha\\\\train\\\\10.png',\n",
       " 'C:\\\\Users\\\\Neha\\\\train\\\\100.png',\n",
       " 'C:\\\\Users\\\\Neha\\\\train\\\\1000.png',\n",
       " 'C:\\\\Users\\\\Neha\\\\train\\\\10000.png',\n",
       " 'C:\\\\Users\\\\Neha\\\\train\\\\10001.png',\n",
       " 'C:\\\\Users\\\\Neha\\\\train\\\\10002.png',\n",
       " 'C:\\\\Users\\\\Neha\\\\train\\\\10003.png',\n",
       " 'C:\\\\Users\\\\Neha\\\\train\\\\10004.png',\n",
       " 'C:\\\\Users\\\\Neha\\\\train\\\\10005.png',\n",
       " 'C:\\\\Users\\\\Neha\\\\train\\\\10006.png',\n",
       " 'C:\\\\Users\\\\Neha\\\\train\\\\10007.png',\n",
       " 'C:\\\\Users\\\\Neha\\\\train\\\\10008.png',\n",
       " 'C:\\\\Users\\\\Neha\\\\train\\\\10009.png',\n",
       " 'C:\\\\Users\\\\Neha\\\\train\\\\1001.png',\n",
       " 'C:\\\\Users\\\\Neha\\\\train\\\\10010.png',\n",
       " 'C:\\\\Users\\\\Neha\\\\train\\\\10011.png',\n",
       " 'C:\\\\Users\\\\Neha\\\\train\\\\10012.png',\n",
       " 'C:\\\\Users\\\\Neha\\\\train\\\\10013.png',\n",
       " 'C:\\\\Users\\\\Neha\\\\train\\\\10014.png',\n",
       " 'C:\\\\Users\\\\Neha\\\\train\\\\10015.png',\n",
       " 'C:\\\\Users\\\\Neha\\\\train\\\\10016.png',\n",
       " 'C:\\\\Users\\\\Neha\\\\train\\\\10017.png',\n",
       " 'C:\\\\Users\\\\Neha\\\\train\\\\10018.png',\n",
       " 'C:\\\\Users\\\\Neha\\\\train\\\\10019.png',\n",
       " 'C:\\\\Users\\\\Neha\\\\train\\\\1002.png',\n",
       " 'C:\\\\Users\\\\Neha\\\\train\\\\10020.png',\n",
       " 'C:\\\\Users\\\\Neha\\\\train\\\\10021.png',\n",
       " 'C:\\\\Users\\\\Neha\\\\train\\\\10022.png',\n",
       " 'C:\\\\Users\\\\Neha\\\\train\\\\10023.png',\n",
       " 'C:\\\\Users\\\\Neha\\\\train\\\\10024.png',\n",
       " 'C:\\\\Users\\\\Neha\\\\train\\\\10025.png',\n",
       " 'C:\\\\Users\\\\Neha\\\\train\\\\10026.png',\n",
       " 'C:\\\\Users\\\\Neha\\\\train\\\\10027.png',\n",
       " 'C:\\\\Users\\\\Neha\\\\train\\\\10028.png',\n",
       " 'C:\\\\Users\\\\Neha\\\\train\\\\10029.png',\n",
       " 'C:\\\\Users\\\\Neha\\\\train\\\\1003.png',\n",
       " 'C:\\\\Users\\\\Neha\\\\train\\\\10030.png',\n",
       " 'C:\\\\Users\\\\Neha\\\\train\\\\10031.png',\n",
       " 'C:\\\\Users\\\\Neha\\\\train\\\\10032.png',\n",
       " 'C:\\\\Users\\\\Neha\\\\train\\\\10033.png',\n",
       " 'C:\\\\Users\\\\Neha\\\\train\\\\10034.png',\n",
       " 'C:\\\\Users\\\\Neha\\\\train\\\\10035.png',\n",
       " 'C:\\\\Users\\\\Neha\\\\train\\\\10036.png',\n",
       " 'C:\\\\Users\\\\Neha\\\\train\\\\10037.png',\n",
       " 'C:\\\\Users\\\\Neha\\\\train\\\\10038.png',\n",
       " 'C:\\\\Users\\\\Neha\\\\train\\\\10039.png',\n",
       " 'C:\\\\Users\\\\Neha\\\\train\\\\1004.png',\n",
       " 'C:\\\\Users\\\\Neha\\\\train\\\\10040.png',\n",
       " 'C:\\\\Users\\\\Neha\\\\train\\\\10041.png',\n",
       " 'C:\\\\Users\\\\Neha\\\\train\\\\10042.png',\n",
       " 'C:\\\\Users\\\\Neha\\\\train\\\\10043.png',\n",
       " 'C:\\\\Users\\\\Neha\\\\train\\\\10044.png',\n",
       " 'C:\\\\Users\\\\Neha\\\\train\\\\10045.png',\n",
       " 'C:\\\\Users\\\\Neha\\\\train\\\\10046.png',\n",
       " 'C:\\\\Users\\\\Neha\\\\train\\\\10047.png',\n",
       " 'C:\\\\Users\\\\Neha\\\\train\\\\10048.png',\n",
       " 'C:\\\\Users\\\\Neha\\\\train\\\\10049.png',\n",
       " 'C:\\\\Users\\\\Neha\\\\train\\\\1005.png',\n",
       " 'C:\\\\Users\\\\Neha\\\\train\\\\10050.png',\n",
       " 'C:\\\\Users\\\\Neha\\\\train\\\\10051.png',\n",
       " 'C:\\\\Users\\\\Neha\\\\train\\\\10052.png',\n",
       " 'C:\\\\Users\\\\Neha\\\\train\\\\10053.png',\n",
       " 'C:\\\\Users\\\\Neha\\\\train\\\\10054.png',\n",
       " 'C:\\\\Users\\\\Neha\\\\train\\\\10055.png',\n",
       " 'C:\\\\Users\\\\Neha\\\\train\\\\10056.png',\n",
       " 'C:\\\\Users\\\\Neha\\\\train\\\\10057.png',\n",
       " 'C:\\\\Users\\\\Neha\\\\train\\\\10058.png',\n",
       " 'C:\\\\Users\\\\Neha\\\\train\\\\10059.png',\n",
       " 'C:\\\\Users\\\\Neha\\\\train\\\\1006.png',\n",
       " 'C:\\\\Users\\\\Neha\\\\train\\\\10060.png',\n",
       " 'C:\\\\Users\\\\Neha\\\\train\\\\10061.png',\n",
       " 'C:\\\\Users\\\\Neha\\\\train\\\\10062.png',\n",
       " 'C:\\\\Users\\\\Neha\\\\train\\\\10063.png',\n",
       " 'C:\\\\Users\\\\Neha\\\\train\\\\10064.png',\n",
       " 'C:\\\\Users\\\\Neha\\\\train\\\\10065.png',\n",
       " 'C:\\\\Users\\\\Neha\\\\train\\\\10066.png',\n",
       " 'C:\\\\Users\\\\Neha\\\\train\\\\10067.png',\n",
       " 'C:\\\\Users\\\\Neha\\\\train\\\\10068.png',\n",
       " 'C:\\\\Users\\\\Neha\\\\train\\\\10069.png',\n",
       " 'C:\\\\Users\\\\Neha\\\\train\\\\1007.png',\n",
       " 'C:\\\\Users\\\\Neha\\\\train\\\\10070.png',\n",
       " 'C:\\\\Users\\\\Neha\\\\train\\\\10071.png',\n",
       " 'C:\\\\Users\\\\Neha\\\\train\\\\10072.png',\n",
       " 'C:\\\\Users\\\\Neha\\\\train\\\\10073.png',\n",
       " 'C:\\\\Users\\\\Neha\\\\train\\\\10074.png',\n",
       " 'C:\\\\Users\\\\Neha\\\\train\\\\10075.png',\n",
       " 'C:\\\\Users\\\\Neha\\\\train\\\\10076.png',\n",
       " 'C:\\\\Users\\\\Neha\\\\train\\\\10077.png',\n",
       " 'C:\\\\Users\\\\Neha\\\\train\\\\10078.png',\n",
       " 'C:\\\\Users\\\\Neha\\\\train\\\\10079.png',\n",
       " 'C:\\\\Users\\\\Neha\\\\train\\\\1008.png',\n",
       " 'C:\\\\Users\\\\Neha\\\\train\\\\10080.png',\n",
       " 'C:\\\\Users\\\\Neha\\\\train\\\\10081.png',\n",
       " 'C:\\\\Users\\\\Neha\\\\train\\\\10082.png',\n",
       " 'C:\\\\Users\\\\Neha\\\\train\\\\10083.png',\n",
       " 'C:\\\\Users\\\\Neha\\\\train\\\\10084.png',\n",
       " 'C:\\\\Users\\\\Neha\\\\train\\\\10085.png',\n",
       " 'C:\\\\Users\\\\Neha\\\\train\\\\10086.png',\n",
       " 'C:\\\\Users\\\\Neha\\\\train\\\\10087.png',\n",
       " 'C:\\\\Users\\\\Neha\\\\train\\\\10088.png',\n",
       " 'C:\\\\Users\\\\Neha\\\\train\\\\10089.png',\n",
       " 'C:\\\\Users\\\\Neha\\\\train\\\\1009.png',\n",
       " 'C:\\\\Users\\\\Neha\\\\train\\\\10090.png',\n",
       " 'C:\\\\Users\\\\Neha\\\\train\\\\10091.png',\n",
       " 'C:\\\\Users\\\\Neha\\\\train\\\\10092.png',\n",
       " 'C:\\\\Users\\\\Neha\\\\train\\\\10093.png',\n",
       " 'C:\\\\Users\\\\Neha\\\\train\\\\10094.png',\n",
       " 'C:\\\\Users\\\\Neha\\\\train\\\\10095.png',\n",
       " 'C:\\\\Users\\\\Neha\\\\train\\\\10096.png',\n",
       " 'C:\\\\Users\\\\Neha\\\\train\\\\10097.png',\n",
       " 'C:\\\\Users\\\\Neha\\\\train\\\\10098.png',\n",
       " 'C:\\\\Users\\\\Neha\\\\train\\\\10099.png',\n",
       " 'C:\\\\Users\\\\Neha\\\\train\\\\101.png',\n",
       " 'C:\\\\Users\\\\Neha\\\\train\\\\1010.png',\n",
       " 'C:\\\\Users\\\\Neha\\\\train\\\\10100.png',\n",
       " 'C:\\\\Users\\\\Neha\\\\train\\\\10101.png',\n",
       " 'C:\\\\Users\\\\Neha\\\\train\\\\10102.png',\n",
       " 'C:\\\\Users\\\\Neha\\\\train\\\\10103.png',\n",
       " 'C:\\\\Users\\\\Neha\\\\train\\\\10104.png',\n",
       " 'C:\\\\Users\\\\Neha\\\\train\\\\10105.png',\n",
       " 'C:\\\\Users\\\\Neha\\\\train\\\\10106.png',\n",
       " 'C:\\\\Users\\\\Neha\\\\train\\\\10107.png',\n",
       " 'C:\\\\Users\\\\Neha\\\\train\\\\10108.png',\n",
       " 'C:\\\\Users\\\\Neha\\\\train\\\\10109.png',\n",
       " 'C:\\\\Users\\\\Neha\\\\train\\\\1011.png',\n",
       " 'C:\\\\Users\\\\Neha\\\\train\\\\10110.png',\n",
       " 'C:\\\\Users\\\\Neha\\\\train\\\\10111.png',\n",
       " 'C:\\\\Users\\\\Neha\\\\train\\\\10112.png',\n",
       " 'C:\\\\Users\\\\Neha\\\\train\\\\10113.png',\n",
       " 'C:\\\\Users\\\\Neha\\\\train\\\\10114.png',\n",
       " 'C:\\\\Users\\\\Neha\\\\train\\\\10115.png',\n",
       " 'C:\\\\Users\\\\Neha\\\\train\\\\10116.png',\n",
       " 'C:\\\\Users\\\\Neha\\\\train\\\\10117.png',\n",
       " 'C:\\\\Users\\\\Neha\\\\train\\\\10118.png',\n",
       " 'C:\\\\Users\\\\Neha\\\\train\\\\10119.png',\n",
       " 'C:\\\\Users\\\\Neha\\\\train\\\\1012.png',\n",
       " 'C:\\\\Users\\\\Neha\\\\train\\\\10120.png',\n",
       " 'C:\\\\Users\\\\Neha\\\\train\\\\10121.png',\n",
       " 'C:\\\\Users\\\\Neha\\\\train\\\\10122.png',\n",
       " 'C:\\\\Users\\\\Neha\\\\train\\\\10123.png',\n",
       " 'C:\\\\Users\\\\Neha\\\\train\\\\10124.png',\n",
       " 'C:\\\\Users\\\\Neha\\\\train\\\\10125.png',\n",
       " 'C:\\\\Users\\\\Neha\\\\train\\\\10126.png',\n",
       " 'C:\\\\Users\\\\Neha\\\\train\\\\10127.png',\n",
       " 'C:\\\\Users\\\\Neha\\\\train\\\\10128.png',\n",
       " 'C:\\\\Users\\\\Neha\\\\train\\\\10129.png',\n",
       " 'C:\\\\Users\\\\Neha\\\\train\\\\1013.png',\n",
       " 'C:\\\\Users\\\\Neha\\\\train\\\\10130.png',\n",
       " 'C:\\\\Users\\\\Neha\\\\train\\\\10131.png',\n",
       " 'C:\\\\Users\\\\Neha\\\\train\\\\10132.png',\n",
       " 'C:\\\\Users\\\\Neha\\\\train\\\\10133.png',\n",
       " 'C:\\\\Users\\\\Neha\\\\train\\\\10134.png',\n",
       " 'C:\\\\Users\\\\Neha\\\\train\\\\10135.png',\n",
       " 'C:\\\\Users\\\\Neha\\\\train\\\\10136.png',\n",
       " 'C:\\\\Users\\\\Neha\\\\train\\\\10137.png',\n",
       " 'C:\\\\Users\\\\Neha\\\\train\\\\10138.png',\n",
       " 'C:\\\\Users\\\\Neha\\\\train\\\\10139.png',\n",
       " 'C:\\\\Users\\\\Neha\\\\train\\\\1014.png',\n",
       " 'C:\\\\Users\\\\Neha\\\\train\\\\10140.png',\n",
       " 'C:\\\\Users\\\\Neha\\\\train\\\\10141.png',\n",
       " 'C:\\\\Users\\\\Neha\\\\train\\\\10142.png',\n",
       " 'C:\\\\Users\\\\Neha\\\\train\\\\10143.png',\n",
       " 'C:\\\\Users\\\\Neha\\\\train\\\\10144.png',\n",
       " 'C:\\\\Users\\\\Neha\\\\train\\\\10145.png',\n",
       " 'C:\\\\Users\\\\Neha\\\\train\\\\10146.png',\n",
       " 'C:\\\\Users\\\\Neha\\\\train\\\\10147.png',\n",
       " 'C:\\\\Users\\\\Neha\\\\train\\\\10148.png',\n",
       " 'C:\\\\Users\\\\Neha\\\\train\\\\10149.png',\n",
       " 'C:\\\\Users\\\\Neha\\\\train\\\\1015.png',\n",
       " 'C:\\\\Users\\\\Neha\\\\train\\\\10150.png',\n",
       " 'C:\\\\Users\\\\Neha\\\\train\\\\10151.png',\n",
       " 'C:\\\\Users\\\\Neha\\\\train\\\\10152.png',\n",
       " 'C:\\\\Users\\\\Neha\\\\train\\\\10153.png',\n",
       " 'C:\\\\Users\\\\Neha\\\\train\\\\10154.png',\n",
       " 'C:\\\\Users\\\\Neha\\\\train\\\\10155.png',\n",
       " 'C:\\\\Users\\\\Neha\\\\train\\\\10156.png',\n",
       " 'C:\\\\Users\\\\Neha\\\\train\\\\10157.png',\n",
       " 'C:\\\\Users\\\\Neha\\\\train\\\\10158.png',\n",
       " 'C:\\\\Users\\\\Neha\\\\train\\\\10159.png',\n",
       " 'C:\\\\Users\\\\Neha\\\\train\\\\1016.png',\n",
       " 'C:\\\\Users\\\\Neha\\\\train\\\\10160.png',\n",
       " 'C:\\\\Users\\\\Neha\\\\train\\\\10161.png',\n",
       " 'C:\\\\Users\\\\Neha\\\\train\\\\10162.png',\n",
       " 'C:\\\\Users\\\\Neha\\\\train\\\\10163.png',\n",
       " 'C:\\\\Users\\\\Neha\\\\train\\\\10164.png',\n",
       " 'C:\\\\Users\\\\Neha\\\\train\\\\10165.png',\n",
       " 'C:\\\\Users\\\\Neha\\\\train\\\\10166.png',\n",
       " 'C:\\\\Users\\\\Neha\\\\train\\\\10167.png',\n",
       " 'C:\\\\Users\\\\Neha\\\\train\\\\10168.png',\n",
       " 'C:\\\\Users\\\\Neha\\\\train\\\\10169.png',\n",
       " 'C:\\\\Users\\\\Neha\\\\train\\\\1017.png',\n",
       " 'C:\\\\Users\\\\Neha\\\\train\\\\10170.png',\n",
       " 'C:\\\\Users\\\\Neha\\\\train\\\\10171.png',\n",
       " 'C:\\\\Users\\\\Neha\\\\train\\\\10172.png',\n",
       " 'C:\\\\Users\\\\Neha\\\\train\\\\10173.png',\n",
       " 'C:\\\\Users\\\\Neha\\\\train\\\\10174.png',\n",
       " 'C:\\\\Users\\\\Neha\\\\train\\\\10175.png',\n",
       " 'C:\\\\Users\\\\Neha\\\\train\\\\10176.png',\n",
       " 'C:\\\\Users\\\\Neha\\\\train\\\\10177.png',\n",
       " 'C:\\\\Users\\\\Neha\\\\train\\\\10178.png',\n",
       " 'C:\\\\Users\\\\Neha\\\\train\\\\10179.png',\n",
       " 'C:\\\\Users\\\\Neha\\\\train\\\\1018.png',\n",
       " 'C:\\\\Users\\\\Neha\\\\train\\\\10180.png',\n",
       " 'C:\\\\Users\\\\Neha\\\\train\\\\10181.png',\n",
       " 'C:\\\\Users\\\\Neha\\\\train\\\\10182.png',\n",
       " 'C:\\\\Users\\\\Neha\\\\train\\\\10183.png',\n",
       " 'C:\\\\Users\\\\Neha\\\\train\\\\10184.png',\n",
       " 'C:\\\\Users\\\\Neha\\\\train\\\\10185.png',\n",
       " 'C:\\\\Users\\\\Neha\\\\train\\\\10186.png',\n",
       " 'C:\\\\Users\\\\Neha\\\\train\\\\10187.png',\n",
       " 'C:\\\\Users\\\\Neha\\\\train\\\\10188.png',\n",
       " 'C:\\\\Users\\\\Neha\\\\train\\\\10189.png',\n",
       " 'C:\\\\Users\\\\Neha\\\\train\\\\1019.png',\n",
       " 'C:\\\\Users\\\\Neha\\\\train\\\\10190.png',\n",
       " 'C:\\\\Users\\\\Neha\\\\train\\\\10191.png',\n",
       " 'C:\\\\Users\\\\Neha\\\\train\\\\10192.png',\n",
       " 'C:\\\\Users\\\\Neha\\\\train\\\\10193.png',\n",
       " 'C:\\\\Users\\\\Neha\\\\train\\\\10194.png',\n",
       " 'C:\\\\Users\\\\Neha\\\\train\\\\10195.png',\n",
       " 'C:\\\\Users\\\\Neha\\\\train\\\\10196.png',\n",
       " 'C:\\\\Users\\\\Neha\\\\train\\\\10197.png',\n",
       " 'C:\\\\Users\\\\Neha\\\\train\\\\10198.png',\n",
       " 'C:\\\\Users\\\\Neha\\\\train\\\\10199.png',\n",
       " 'C:\\\\Users\\\\Neha\\\\train\\\\102.png',\n",
       " 'C:\\\\Users\\\\Neha\\\\train\\\\1020.png',\n",
       " 'C:\\\\Users\\\\Neha\\\\train\\\\10200.png',\n",
       " 'C:\\\\Users\\\\Neha\\\\train\\\\10201.png',\n",
       " 'C:\\\\Users\\\\Neha\\\\train\\\\10202.png',\n",
       " 'C:\\\\Users\\\\Neha\\\\train\\\\10203.png',\n",
       " 'C:\\\\Users\\\\Neha\\\\train\\\\10204.png',\n",
       " 'C:\\\\Users\\\\Neha\\\\train\\\\10205.png',\n",
       " 'C:\\\\Users\\\\Neha\\\\train\\\\10206.png',\n",
       " 'C:\\\\Users\\\\Neha\\\\train\\\\10207.png',\n",
       " 'C:\\\\Users\\\\Neha\\\\train\\\\10208.png',\n",
       " 'C:\\\\Users\\\\Neha\\\\train\\\\10209.png',\n",
       " 'C:\\\\Users\\\\Neha\\\\train\\\\1021.png',\n",
       " 'C:\\\\Users\\\\Neha\\\\train\\\\10210.png',\n",
       " 'C:\\\\Users\\\\Neha\\\\train\\\\10211.png',\n",
       " 'C:\\\\Users\\\\Neha\\\\train\\\\10212.png',\n",
       " 'C:\\\\Users\\\\Neha\\\\train\\\\10213.png',\n",
       " 'C:\\\\Users\\\\Neha\\\\train\\\\10214.png',\n",
       " 'C:\\\\Users\\\\Neha\\\\train\\\\10215.png',\n",
       " 'C:\\\\Users\\\\Neha\\\\train\\\\10216.png',\n",
       " 'C:\\\\Users\\\\Neha\\\\train\\\\10217.png',\n",
       " 'C:\\\\Users\\\\Neha\\\\train\\\\10218.png',\n",
       " 'C:\\\\Users\\\\Neha\\\\train\\\\10219.png',\n",
       " 'C:\\\\Users\\\\Neha\\\\train\\\\1022.png',\n",
       " 'C:\\\\Users\\\\Neha\\\\train\\\\10220.png',\n",
       " 'C:\\\\Users\\\\Neha\\\\train\\\\10221.png',\n",
       " 'C:\\\\Users\\\\Neha\\\\train\\\\10222.png',\n",
       " 'C:\\\\Users\\\\Neha\\\\train\\\\10223.png',\n",
       " 'C:\\\\Users\\\\Neha\\\\train\\\\10224.png',\n",
       " 'C:\\\\Users\\\\Neha\\\\train\\\\10225.png',\n",
       " 'C:\\\\Users\\\\Neha\\\\train\\\\10226.png',\n",
       " 'C:\\\\Users\\\\Neha\\\\train\\\\10227.png',\n",
       " 'C:\\\\Users\\\\Neha\\\\train\\\\10228.png',\n",
       " 'C:\\\\Users\\\\Neha\\\\train\\\\10229.png',\n",
       " 'C:\\\\Users\\\\Neha\\\\train\\\\1023.png',\n",
       " 'C:\\\\Users\\\\Neha\\\\train\\\\10230.png',\n",
       " 'C:\\\\Users\\\\Neha\\\\train\\\\10231.png',\n",
       " 'C:\\\\Users\\\\Neha\\\\train\\\\10232.png',\n",
       " 'C:\\\\Users\\\\Neha\\\\train\\\\10233.png',\n",
       " 'C:\\\\Users\\\\Neha\\\\train\\\\10234.png',\n",
       " 'C:\\\\Users\\\\Neha\\\\train\\\\10235.png',\n",
       " 'C:\\\\Users\\\\Neha\\\\train\\\\10236.png',\n",
       " 'C:\\\\Users\\\\Neha\\\\train\\\\10237.png',\n",
       " 'C:\\\\Users\\\\Neha\\\\train\\\\10238.png',\n",
       " 'C:\\\\Users\\\\Neha\\\\train\\\\10239.png',\n",
       " 'C:\\\\Users\\\\Neha\\\\train\\\\1024.png',\n",
       " 'C:\\\\Users\\\\Neha\\\\train\\\\10240.png',\n",
       " 'C:\\\\Users\\\\Neha\\\\train\\\\10241.png',\n",
       " 'C:\\\\Users\\\\Neha\\\\train\\\\10242.png',\n",
       " 'C:\\\\Users\\\\Neha\\\\train\\\\10243.png',\n",
       " 'C:\\\\Users\\\\Neha\\\\train\\\\10244.png',\n",
       " 'C:\\\\Users\\\\Neha\\\\train\\\\10245.png',\n",
       " 'C:\\\\Users\\\\Neha\\\\train\\\\10246.png',\n",
       " 'C:\\\\Users\\\\Neha\\\\train\\\\10247.png',\n",
       " 'C:\\\\Users\\\\Neha\\\\train\\\\10248.png',\n",
       " 'C:\\\\Users\\\\Neha\\\\train\\\\10249.png',\n",
       " 'C:\\\\Users\\\\Neha\\\\train\\\\1025.png',\n",
       " 'C:\\\\Users\\\\Neha\\\\train\\\\10250.png',\n",
       " 'C:\\\\Users\\\\Neha\\\\train\\\\10251.png',\n",
       " 'C:\\\\Users\\\\Neha\\\\train\\\\10252.png',\n",
       " 'C:\\\\Users\\\\Neha\\\\train\\\\10253.png',\n",
       " 'C:\\\\Users\\\\Neha\\\\train\\\\10254.png',\n",
       " 'C:\\\\Users\\\\Neha\\\\train\\\\10255.png',\n",
       " 'C:\\\\Users\\\\Neha\\\\train\\\\10256.png',\n",
       " 'C:\\\\Users\\\\Neha\\\\train\\\\10257.png',\n",
       " 'C:\\\\Users\\\\Neha\\\\train\\\\10258.png',\n",
       " 'C:\\\\Users\\\\Neha\\\\train\\\\10259.png',\n",
       " 'C:\\\\Users\\\\Neha\\\\train\\\\1026.png',\n",
       " 'C:\\\\Users\\\\Neha\\\\train\\\\10260.png',\n",
       " 'C:\\\\Users\\\\Neha\\\\train\\\\10261.png',\n",
       " 'C:\\\\Users\\\\Neha\\\\train\\\\10262.png',\n",
       " 'C:\\\\Users\\\\Neha\\\\train\\\\10263.png',\n",
       " 'C:\\\\Users\\\\Neha\\\\train\\\\10264.png',\n",
       " 'C:\\\\Users\\\\Neha\\\\train\\\\10265.png',\n",
       " 'C:\\\\Users\\\\Neha\\\\train\\\\10266.png',\n",
       " 'C:\\\\Users\\\\Neha\\\\train\\\\10267.png',\n",
       " 'C:\\\\Users\\\\Neha\\\\train\\\\10268.png',\n",
       " 'C:\\\\Users\\\\Neha\\\\train\\\\10269.png',\n",
       " 'C:\\\\Users\\\\Neha\\\\train\\\\1027.png',\n",
       " 'C:\\\\Users\\\\Neha\\\\train\\\\10270.png',\n",
       " 'C:\\\\Users\\\\Neha\\\\train\\\\10271.png',\n",
       " 'C:\\\\Users\\\\Neha\\\\train\\\\10272.png',\n",
       " 'C:\\\\Users\\\\Neha\\\\train\\\\10273.png',\n",
       " 'C:\\\\Users\\\\Neha\\\\train\\\\10274.png',\n",
       " 'C:\\\\Users\\\\Neha\\\\train\\\\10275.png',\n",
       " 'C:\\\\Users\\\\Neha\\\\train\\\\10276.png',\n",
       " 'C:\\\\Users\\\\Neha\\\\train\\\\10277.png',\n",
       " 'C:\\\\Users\\\\Neha\\\\train\\\\10278.png',\n",
       " 'C:\\\\Users\\\\Neha\\\\train\\\\10279.png',\n",
       " 'C:\\\\Users\\\\Neha\\\\train\\\\1028.png',\n",
       " 'C:\\\\Users\\\\Neha\\\\train\\\\10280.png',\n",
       " 'C:\\\\Users\\\\Neha\\\\train\\\\10281.png',\n",
       " 'C:\\\\Users\\\\Neha\\\\train\\\\10282.png',\n",
       " 'C:\\\\Users\\\\Neha\\\\train\\\\10283.png',\n",
       " 'C:\\\\Users\\\\Neha\\\\train\\\\10284.png',\n",
       " 'C:\\\\Users\\\\Neha\\\\train\\\\10285.png',\n",
       " 'C:\\\\Users\\\\Neha\\\\train\\\\10286.png',\n",
       " 'C:\\\\Users\\\\Neha\\\\train\\\\10287.png',\n",
       " 'C:\\\\Users\\\\Neha\\\\train\\\\10288.png',\n",
       " 'C:\\\\Users\\\\Neha\\\\train\\\\10289.png',\n",
       " 'C:\\\\Users\\\\Neha\\\\train\\\\1029.png',\n",
       " 'C:\\\\Users\\\\Neha\\\\train\\\\10290.png',\n",
       " 'C:\\\\Users\\\\Neha\\\\train\\\\10291.png',\n",
       " 'C:\\\\Users\\\\Neha\\\\train\\\\10292.png',\n",
       " 'C:\\\\Users\\\\Neha\\\\train\\\\10293.png',\n",
       " 'C:\\\\Users\\\\Neha\\\\train\\\\10294.png',\n",
       " 'C:\\\\Users\\\\Neha\\\\train\\\\10295.png',\n",
       " 'C:\\\\Users\\\\Neha\\\\train\\\\10296.png',\n",
       " 'C:\\\\Users\\\\Neha\\\\train\\\\10297.png',\n",
       " 'C:\\\\Users\\\\Neha\\\\train\\\\10298.png',\n",
       " 'C:\\\\Users\\\\Neha\\\\train\\\\10299.png',\n",
       " 'C:\\\\Users\\\\Neha\\\\train\\\\103.png',\n",
       " 'C:\\\\Users\\\\Neha\\\\train\\\\1030.png',\n",
       " 'C:\\\\Users\\\\Neha\\\\train\\\\10300.png',\n",
       " 'C:\\\\Users\\\\Neha\\\\train\\\\10301.png',\n",
       " 'C:\\\\Users\\\\Neha\\\\train\\\\10302.png',\n",
       " 'C:\\\\Users\\\\Neha\\\\train\\\\10303.png',\n",
       " 'C:\\\\Users\\\\Neha\\\\train\\\\10304.png',\n",
       " 'C:\\\\Users\\\\Neha\\\\train\\\\10305.png',\n",
       " 'C:\\\\Users\\\\Neha\\\\train\\\\10306.png',\n",
       " 'C:\\\\Users\\\\Neha\\\\train\\\\10307.png',\n",
       " 'C:\\\\Users\\\\Neha\\\\train\\\\10308.png',\n",
       " 'C:\\\\Users\\\\Neha\\\\train\\\\10309.png',\n",
       " 'C:\\\\Users\\\\Neha\\\\train\\\\1031.png',\n",
       " 'C:\\\\Users\\\\Neha\\\\train\\\\10310.png',\n",
       " 'C:\\\\Users\\\\Neha\\\\train\\\\10311.png',\n",
       " 'C:\\\\Users\\\\Neha\\\\train\\\\10312.png',\n",
       " 'C:\\\\Users\\\\Neha\\\\train\\\\10313.png',\n",
       " 'C:\\\\Users\\\\Neha\\\\train\\\\10314.png',\n",
       " 'C:\\\\Users\\\\Neha\\\\train\\\\10315.png',\n",
       " 'C:\\\\Users\\\\Neha\\\\train\\\\10316.png',\n",
       " 'C:\\\\Users\\\\Neha\\\\train\\\\10317.png',\n",
       " 'C:\\\\Users\\\\Neha\\\\train\\\\10318.png',\n",
       " 'C:\\\\Users\\\\Neha\\\\train\\\\10319.png',\n",
       " 'C:\\\\Users\\\\Neha\\\\train\\\\1032.png',\n",
       " 'C:\\\\Users\\\\Neha\\\\train\\\\10320.png',\n",
       " 'C:\\\\Users\\\\Neha\\\\train\\\\10321.png',\n",
       " 'C:\\\\Users\\\\Neha\\\\train\\\\10322.png',\n",
       " 'C:\\\\Users\\\\Neha\\\\train\\\\10323.png',\n",
       " 'C:\\\\Users\\\\Neha\\\\train\\\\10324.png',\n",
       " 'C:\\\\Users\\\\Neha\\\\train\\\\10325.png',\n",
       " 'C:\\\\Users\\\\Neha\\\\train\\\\10326.png',\n",
       " 'C:\\\\Users\\\\Neha\\\\train\\\\10327.png',\n",
       " 'C:\\\\Users\\\\Neha\\\\train\\\\10328.png',\n",
       " 'C:\\\\Users\\\\Neha\\\\train\\\\10329.png',\n",
       " 'C:\\\\Users\\\\Neha\\\\train\\\\1033.png',\n",
       " 'C:\\\\Users\\\\Neha\\\\train\\\\10330.png',\n",
       " 'C:\\\\Users\\\\Neha\\\\train\\\\10331.png',\n",
       " 'C:\\\\Users\\\\Neha\\\\train\\\\10332.png',\n",
       " 'C:\\\\Users\\\\Neha\\\\train\\\\10333.png',\n",
       " 'C:\\\\Users\\\\Neha\\\\train\\\\10334.png',\n",
       " 'C:\\\\Users\\\\Neha\\\\train\\\\10335.png',\n",
       " 'C:\\\\Users\\\\Neha\\\\train\\\\10336.png',\n",
       " 'C:\\\\Users\\\\Neha\\\\train\\\\10337.png',\n",
       " 'C:\\\\Users\\\\Neha\\\\train\\\\10338.png',\n",
       " 'C:\\\\Users\\\\Neha\\\\train\\\\10339.png',\n",
       " 'C:\\\\Users\\\\Neha\\\\train\\\\1034.png',\n",
       " 'C:\\\\Users\\\\Neha\\\\train\\\\10340.png',\n",
       " 'C:\\\\Users\\\\Neha\\\\train\\\\10341.png',\n",
       " 'C:\\\\Users\\\\Neha\\\\train\\\\10342.png',\n",
       " 'C:\\\\Users\\\\Neha\\\\train\\\\10343.png',\n",
       " 'C:\\\\Users\\\\Neha\\\\train\\\\10344.png',\n",
       " 'C:\\\\Users\\\\Neha\\\\train\\\\10345.png',\n",
       " 'C:\\\\Users\\\\Neha\\\\train\\\\10346.png',\n",
       " 'C:\\\\Users\\\\Neha\\\\train\\\\10347.png',\n",
       " 'C:\\\\Users\\\\Neha\\\\train\\\\10348.png',\n",
       " 'C:\\\\Users\\\\Neha\\\\train\\\\10349.png',\n",
       " 'C:\\\\Users\\\\Neha\\\\train\\\\1035.png',\n",
       " 'C:\\\\Users\\\\Neha\\\\train\\\\10350.png',\n",
       " 'C:\\\\Users\\\\Neha\\\\train\\\\10351.png',\n",
       " 'C:\\\\Users\\\\Neha\\\\train\\\\10352.png',\n",
       " 'C:\\\\Users\\\\Neha\\\\train\\\\10353.png',\n",
       " 'C:\\\\Users\\\\Neha\\\\train\\\\10354.png',\n",
       " 'C:\\\\Users\\\\Neha\\\\train\\\\10355.png',\n",
       " 'C:\\\\Users\\\\Neha\\\\train\\\\10356.png',\n",
       " 'C:\\\\Users\\\\Neha\\\\train\\\\10357.png',\n",
       " 'C:\\\\Users\\\\Neha\\\\train\\\\10358.png',\n",
       " 'C:\\\\Users\\\\Neha\\\\train\\\\10359.png',\n",
       " 'C:\\\\Users\\\\Neha\\\\train\\\\1036.png',\n",
       " 'C:\\\\Users\\\\Neha\\\\train\\\\10360.png',\n",
       " 'C:\\\\Users\\\\Neha\\\\train\\\\10361.png',\n",
       " 'C:\\\\Users\\\\Neha\\\\train\\\\10362.png',\n",
       " 'C:\\\\Users\\\\Neha\\\\train\\\\10363.png',\n",
       " 'C:\\\\Users\\\\Neha\\\\train\\\\10364.png',\n",
       " 'C:\\\\Users\\\\Neha\\\\train\\\\10365.png',\n",
       " 'C:\\\\Users\\\\Neha\\\\train\\\\10366.png',\n",
       " 'C:\\\\Users\\\\Neha\\\\train\\\\10367.png',\n",
       " 'C:\\\\Users\\\\Neha\\\\train\\\\10368.png',\n",
       " 'C:\\\\Users\\\\Neha\\\\train\\\\10369.png',\n",
       " 'C:\\\\Users\\\\Neha\\\\train\\\\1037.png',\n",
       " 'C:\\\\Users\\\\Neha\\\\train\\\\10370.png',\n",
       " 'C:\\\\Users\\\\Neha\\\\train\\\\10371.png',\n",
       " 'C:\\\\Users\\\\Neha\\\\train\\\\10372.png',\n",
       " 'C:\\\\Users\\\\Neha\\\\train\\\\10373.png',\n",
       " 'C:\\\\Users\\\\Neha\\\\train\\\\10374.png',\n",
       " 'C:\\\\Users\\\\Neha\\\\train\\\\10375.png',\n",
       " 'C:\\\\Users\\\\Neha\\\\train\\\\10376.png',\n",
       " 'C:\\\\Users\\\\Neha\\\\train\\\\10377.png',\n",
       " 'C:\\\\Users\\\\Neha\\\\train\\\\10378.png',\n",
       " 'C:\\\\Users\\\\Neha\\\\train\\\\10379.png',\n",
       " 'C:\\\\Users\\\\Neha\\\\train\\\\1038.png',\n",
       " 'C:\\\\Users\\\\Neha\\\\train\\\\10380.png',\n",
       " 'C:\\\\Users\\\\Neha\\\\train\\\\10381.png',\n",
       " 'C:\\\\Users\\\\Neha\\\\train\\\\10382.png',\n",
       " 'C:\\\\Users\\\\Neha\\\\train\\\\10383.png',\n",
       " 'C:\\\\Users\\\\Neha\\\\train\\\\10384.png',\n",
       " 'C:\\\\Users\\\\Neha\\\\train\\\\10385.png',\n",
       " 'C:\\\\Users\\\\Neha\\\\train\\\\10386.png',\n",
       " 'C:\\\\Users\\\\Neha\\\\train\\\\10387.png',\n",
       " 'C:\\\\Users\\\\Neha\\\\train\\\\10388.png',\n",
       " 'C:\\\\Users\\\\Neha\\\\train\\\\10389.png',\n",
       " 'C:\\\\Users\\\\Neha\\\\train\\\\1039.png',\n",
       " 'C:\\\\Users\\\\Neha\\\\train\\\\10390.png',\n",
       " 'C:\\\\Users\\\\Neha\\\\train\\\\10391.png',\n",
       " 'C:\\\\Users\\\\Neha\\\\train\\\\10392.png',\n",
       " 'C:\\\\Users\\\\Neha\\\\train\\\\10393.png',\n",
       " 'C:\\\\Users\\\\Neha\\\\train\\\\10394.png',\n",
       " 'C:\\\\Users\\\\Neha\\\\train\\\\10395.png',\n",
       " 'C:\\\\Users\\\\Neha\\\\train\\\\10396.png',\n",
       " 'C:\\\\Users\\\\Neha\\\\train\\\\10397.png',\n",
       " 'C:\\\\Users\\\\Neha\\\\train\\\\10398.png',\n",
       " 'C:\\\\Users\\\\Neha\\\\train\\\\10399.png',\n",
       " 'C:\\\\Users\\\\Neha\\\\train\\\\104.png',\n",
       " 'C:\\\\Users\\\\Neha\\\\train\\\\1040.png',\n",
       " 'C:\\\\Users\\\\Neha\\\\train\\\\10400.png',\n",
       " 'C:\\\\Users\\\\Neha\\\\train\\\\10401.png',\n",
       " 'C:\\\\Users\\\\Neha\\\\train\\\\10402.png',\n",
       " 'C:\\\\Users\\\\Neha\\\\train\\\\10403.png',\n",
       " 'C:\\\\Users\\\\Neha\\\\train\\\\10404.png',\n",
       " 'C:\\\\Users\\\\Neha\\\\train\\\\10405.png',\n",
       " 'C:\\\\Users\\\\Neha\\\\train\\\\10406.png',\n",
       " 'C:\\\\Users\\\\Neha\\\\train\\\\10407.png',\n",
       " 'C:\\\\Users\\\\Neha\\\\train\\\\10408.png',\n",
       " 'C:\\\\Users\\\\Neha\\\\train\\\\10409.png',\n",
       " 'C:\\\\Users\\\\Neha\\\\train\\\\1041.png',\n",
       " 'C:\\\\Users\\\\Neha\\\\train\\\\10410.png',\n",
       " 'C:\\\\Users\\\\Neha\\\\train\\\\10411.png',\n",
       " 'C:\\\\Users\\\\Neha\\\\train\\\\10412.png',\n",
       " 'C:\\\\Users\\\\Neha\\\\train\\\\10413.png',\n",
       " 'C:\\\\Users\\\\Neha\\\\train\\\\10414.png',\n",
       " 'C:\\\\Users\\\\Neha\\\\train\\\\10415.png',\n",
       " 'C:\\\\Users\\\\Neha\\\\train\\\\10416.png',\n",
       " 'C:\\\\Users\\\\Neha\\\\train\\\\10417.png',\n",
       " 'C:\\\\Users\\\\Neha\\\\train\\\\10418.png',\n",
       " 'C:\\\\Users\\\\Neha\\\\train\\\\10419.png',\n",
       " 'C:\\\\Users\\\\Neha\\\\train\\\\1042.png',\n",
       " 'C:\\\\Users\\\\Neha\\\\train\\\\10420.png',\n",
       " 'C:\\\\Users\\\\Neha\\\\train\\\\10421.png',\n",
       " 'C:\\\\Users\\\\Neha\\\\train\\\\10422.png',\n",
       " 'C:\\\\Users\\\\Neha\\\\train\\\\10423.png',\n",
       " 'C:\\\\Users\\\\Neha\\\\train\\\\10424.png',\n",
       " 'C:\\\\Users\\\\Neha\\\\train\\\\10425.png',\n",
       " 'C:\\\\Users\\\\Neha\\\\train\\\\10426.png',\n",
       " 'C:\\\\Users\\\\Neha\\\\train\\\\10427.png',\n",
       " 'C:\\\\Users\\\\Neha\\\\train\\\\10428.png',\n",
       " 'C:\\\\Users\\\\Neha\\\\train\\\\10429.png',\n",
       " 'C:\\\\Users\\\\Neha\\\\train\\\\1043.png',\n",
       " 'C:\\\\Users\\\\Neha\\\\train\\\\10430.png',\n",
       " 'C:\\\\Users\\\\Neha\\\\train\\\\10431.png',\n",
       " 'C:\\\\Users\\\\Neha\\\\train\\\\10432.png',\n",
       " 'C:\\\\Users\\\\Neha\\\\train\\\\10433.png',\n",
       " 'C:\\\\Users\\\\Neha\\\\train\\\\10434.png',\n",
       " 'C:\\\\Users\\\\Neha\\\\train\\\\10435.png',\n",
       " 'C:\\\\Users\\\\Neha\\\\train\\\\10436.png',\n",
       " 'C:\\\\Users\\\\Neha\\\\train\\\\10437.png',\n",
       " 'C:\\\\Users\\\\Neha\\\\train\\\\10438.png',\n",
       " 'C:\\\\Users\\\\Neha\\\\train\\\\10439.png',\n",
       " 'C:\\\\Users\\\\Neha\\\\train\\\\1044.png',\n",
       " 'C:\\\\Users\\\\Neha\\\\train\\\\10440.png',\n",
       " 'C:\\\\Users\\\\Neha\\\\train\\\\10441.png',\n",
       " 'C:\\\\Users\\\\Neha\\\\train\\\\10442.png',\n",
       " 'C:\\\\Users\\\\Neha\\\\train\\\\10443.png',\n",
       " 'C:\\\\Users\\\\Neha\\\\train\\\\10444.png',\n",
       " 'C:\\\\Users\\\\Neha\\\\train\\\\10445.png',\n",
       " 'C:\\\\Users\\\\Neha\\\\train\\\\10446.png',\n",
       " 'C:\\\\Users\\\\Neha\\\\train\\\\10447.png',\n",
       " 'C:\\\\Users\\\\Neha\\\\train\\\\10448.png',\n",
       " 'C:\\\\Users\\\\Neha\\\\train\\\\10449.png',\n",
       " 'C:\\\\Users\\\\Neha\\\\train\\\\1045.png',\n",
       " 'C:\\\\Users\\\\Neha\\\\train\\\\10450.png',\n",
       " 'C:\\\\Users\\\\Neha\\\\train\\\\10451.png',\n",
       " 'C:\\\\Users\\\\Neha\\\\train\\\\10452.png',\n",
       " 'C:\\\\Users\\\\Neha\\\\train\\\\10453.png',\n",
       " 'C:\\\\Users\\\\Neha\\\\train\\\\10454.png',\n",
       " 'C:\\\\Users\\\\Neha\\\\train\\\\10455.png',\n",
       " 'C:\\\\Users\\\\Neha\\\\train\\\\10456.png',\n",
       " 'C:\\\\Users\\\\Neha\\\\train\\\\10457.png',\n",
       " 'C:\\\\Users\\\\Neha\\\\train\\\\10458.png',\n",
       " 'C:\\\\Users\\\\Neha\\\\train\\\\10459.png',\n",
       " 'C:\\\\Users\\\\Neha\\\\train\\\\1046.png',\n",
       " 'C:\\\\Users\\\\Neha\\\\train\\\\10460.png',\n",
       " 'C:\\\\Users\\\\Neha\\\\train\\\\10461.png',\n",
       " 'C:\\\\Users\\\\Neha\\\\train\\\\10462.png',\n",
       " 'C:\\\\Users\\\\Neha\\\\train\\\\10463.png',\n",
       " 'C:\\\\Users\\\\Neha\\\\train\\\\10464.png',\n",
       " 'C:\\\\Users\\\\Neha\\\\train\\\\10465.png',\n",
       " 'C:\\\\Users\\\\Neha\\\\train\\\\10466.png',\n",
       " 'C:\\\\Users\\\\Neha\\\\train\\\\10467.png',\n",
       " 'C:\\\\Users\\\\Neha\\\\train\\\\10468.png',\n",
       " 'C:\\\\Users\\\\Neha\\\\train\\\\10469.png',\n",
       " 'C:\\\\Users\\\\Neha\\\\train\\\\1047.png',\n",
       " 'C:\\\\Users\\\\Neha\\\\train\\\\10470.png',\n",
       " 'C:\\\\Users\\\\Neha\\\\train\\\\10471.png',\n",
       " 'C:\\\\Users\\\\Neha\\\\train\\\\10472.png',\n",
       " 'C:\\\\Users\\\\Neha\\\\train\\\\10473.png',\n",
       " 'C:\\\\Users\\\\Neha\\\\train\\\\10474.png',\n",
       " 'C:\\\\Users\\\\Neha\\\\train\\\\10475.png',\n",
       " 'C:\\\\Users\\\\Neha\\\\train\\\\10476.png',\n",
       " 'C:\\\\Users\\\\Neha\\\\train\\\\10477.png',\n",
       " 'C:\\\\Users\\\\Neha\\\\train\\\\10478.png',\n",
       " 'C:\\\\Users\\\\Neha\\\\train\\\\10479.png',\n",
       " 'C:\\\\Users\\\\Neha\\\\train\\\\1048.png',\n",
       " 'C:\\\\Users\\\\Neha\\\\train\\\\10480.png',\n",
       " 'C:\\\\Users\\\\Neha\\\\train\\\\10481.png',\n",
       " 'C:\\\\Users\\\\Neha\\\\train\\\\10482.png',\n",
       " 'C:\\\\Users\\\\Neha\\\\train\\\\10483.png',\n",
       " 'C:\\\\Users\\\\Neha\\\\train\\\\10484.png',\n",
       " 'C:\\\\Users\\\\Neha\\\\train\\\\10485.png',\n",
       " 'C:\\\\Users\\\\Neha\\\\train\\\\10486.png',\n",
       " 'C:\\\\Users\\\\Neha\\\\train\\\\10487.png',\n",
       " 'C:\\\\Users\\\\Neha\\\\train\\\\10488.png',\n",
       " 'C:\\\\Users\\\\Neha\\\\train\\\\10489.png',\n",
       " 'C:\\\\Users\\\\Neha\\\\train\\\\1049.png',\n",
       " 'C:\\\\Users\\\\Neha\\\\train\\\\10490.png',\n",
       " 'C:\\\\Users\\\\Neha\\\\train\\\\10491.png',\n",
       " 'C:\\\\Users\\\\Neha\\\\train\\\\10492.png',\n",
       " 'C:\\\\Users\\\\Neha\\\\train\\\\10493.png',\n",
       " 'C:\\\\Users\\\\Neha\\\\train\\\\10494.png',\n",
       " 'C:\\\\Users\\\\Neha\\\\train\\\\10495.png',\n",
       " 'C:\\\\Users\\\\Neha\\\\train\\\\10496.png',\n",
       " 'C:\\\\Users\\\\Neha\\\\train\\\\10497.png',\n",
       " 'C:\\\\Users\\\\Neha\\\\train\\\\10498.png',\n",
       " 'C:\\\\Users\\\\Neha\\\\train\\\\10499.png',\n",
       " 'C:\\\\Users\\\\Neha\\\\train\\\\105.png',\n",
       " 'C:\\\\Users\\\\Neha\\\\train\\\\1050.png',\n",
       " 'C:\\\\Users\\\\Neha\\\\train\\\\10500.png',\n",
       " 'C:\\\\Users\\\\Neha\\\\train\\\\10501.png',\n",
       " 'C:\\\\Users\\\\Neha\\\\train\\\\10502.png',\n",
       " 'C:\\\\Users\\\\Neha\\\\train\\\\10503.png',\n",
       " 'C:\\\\Users\\\\Neha\\\\train\\\\10504.png',\n",
       " 'C:\\\\Users\\\\Neha\\\\train\\\\10505.png',\n",
       " 'C:\\\\Users\\\\Neha\\\\train\\\\10506.png',\n",
       " 'C:\\\\Users\\\\Neha\\\\train\\\\10507.png',\n",
       " 'C:\\\\Users\\\\Neha\\\\train\\\\10508.png',\n",
       " 'C:\\\\Users\\\\Neha\\\\train\\\\10509.png',\n",
       " 'C:\\\\Users\\\\Neha\\\\train\\\\1051.png',\n",
       " 'C:\\\\Users\\\\Neha\\\\train\\\\10510.png',\n",
       " 'C:\\\\Users\\\\Neha\\\\train\\\\10511.png',\n",
       " 'C:\\\\Users\\\\Neha\\\\train\\\\10512.png',\n",
       " 'C:\\\\Users\\\\Neha\\\\train\\\\10513.png',\n",
       " 'C:\\\\Users\\\\Neha\\\\train\\\\10514.png',\n",
       " 'C:\\\\Users\\\\Neha\\\\train\\\\10515.png',\n",
       " 'C:\\\\Users\\\\Neha\\\\train\\\\10516.png',\n",
       " 'C:\\\\Users\\\\Neha\\\\train\\\\10517.png',\n",
       " 'C:\\\\Users\\\\Neha\\\\train\\\\10518.png',\n",
       " 'C:\\\\Users\\\\Neha\\\\train\\\\10519.png',\n",
       " 'C:\\\\Users\\\\Neha\\\\train\\\\1052.png',\n",
       " 'C:\\\\Users\\\\Neha\\\\train\\\\10520.png',\n",
       " 'C:\\\\Users\\\\Neha\\\\train\\\\10521.png',\n",
       " 'C:\\\\Users\\\\Neha\\\\train\\\\10522.png',\n",
       " 'C:\\\\Users\\\\Neha\\\\train\\\\10523.png',\n",
       " 'C:\\\\Users\\\\Neha\\\\train\\\\10524.png',\n",
       " 'C:\\\\Users\\\\Neha\\\\train\\\\10525.png',\n",
       " 'C:\\\\Users\\\\Neha\\\\train\\\\10526.png',\n",
       " 'C:\\\\Users\\\\Neha\\\\train\\\\10527.png',\n",
       " 'C:\\\\Users\\\\Neha\\\\train\\\\10528.png',\n",
       " 'C:\\\\Users\\\\Neha\\\\train\\\\10529.png',\n",
       " 'C:\\\\Users\\\\Neha\\\\train\\\\1053.png',\n",
       " 'C:\\\\Users\\\\Neha\\\\train\\\\10530.png',\n",
       " 'C:\\\\Users\\\\Neha\\\\train\\\\10531.png',\n",
       " 'C:\\\\Users\\\\Neha\\\\train\\\\10532.png',\n",
       " 'C:\\\\Users\\\\Neha\\\\train\\\\10533.png',\n",
       " 'C:\\\\Users\\\\Neha\\\\train\\\\10534.png',\n",
       " 'C:\\\\Users\\\\Neha\\\\train\\\\10535.png',\n",
       " 'C:\\\\Users\\\\Neha\\\\train\\\\10536.png',\n",
       " 'C:\\\\Users\\\\Neha\\\\train\\\\10537.png',\n",
       " 'C:\\\\Users\\\\Neha\\\\train\\\\10538.png',\n",
       " 'C:\\\\Users\\\\Neha\\\\train\\\\10539.png',\n",
       " 'C:\\\\Users\\\\Neha\\\\train\\\\1054.png',\n",
       " 'C:\\\\Users\\\\Neha\\\\train\\\\10540.png',\n",
       " 'C:\\\\Users\\\\Neha\\\\train\\\\10541.png',\n",
       " 'C:\\\\Users\\\\Neha\\\\train\\\\10542.png',\n",
       " 'C:\\\\Users\\\\Neha\\\\train\\\\10543.png',\n",
       " 'C:\\\\Users\\\\Neha\\\\train\\\\10544.png',\n",
       " 'C:\\\\Users\\\\Neha\\\\train\\\\10545.png',\n",
       " 'C:\\\\Users\\\\Neha\\\\train\\\\10546.png',\n",
       " 'C:\\\\Users\\\\Neha\\\\train\\\\10547.png',\n",
       " 'C:\\\\Users\\\\Neha\\\\train\\\\10548.png',\n",
       " 'C:\\\\Users\\\\Neha\\\\train\\\\10549.png',\n",
       " 'C:\\\\Users\\\\Neha\\\\train\\\\1055.png',\n",
       " 'C:\\\\Users\\\\Neha\\\\train\\\\10550.png',\n",
       " 'C:\\\\Users\\\\Neha\\\\train\\\\10551.png',\n",
       " 'C:\\\\Users\\\\Neha\\\\train\\\\10552.png',\n",
       " 'C:\\\\Users\\\\Neha\\\\train\\\\10553.png',\n",
       " 'C:\\\\Users\\\\Neha\\\\train\\\\10554.png',\n",
       " 'C:\\\\Users\\\\Neha\\\\train\\\\10555.png',\n",
       " 'C:\\\\Users\\\\Neha\\\\train\\\\10556.png',\n",
       " 'C:\\\\Users\\\\Neha\\\\train\\\\10557.png',\n",
       " 'C:\\\\Users\\\\Neha\\\\train\\\\10558.png',\n",
       " 'C:\\\\Users\\\\Neha\\\\train\\\\10559.png',\n",
       " 'C:\\\\Users\\\\Neha\\\\train\\\\1056.png',\n",
       " 'C:\\\\Users\\\\Neha\\\\train\\\\10560.png',\n",
       " 'C:\\\\Users\\\\Neha\\\\train\\\\10561.png',\n",
       " 'C:\\\\Users\\\\Neha\\\\train\\\\10562.png',\n",
       " 'C:\\\\Users\\\\Neha\\\\train\\\\10563.png',\n",
       " 'C:\\\\Users\\\\Neha\\\\train\\\\10564.png',\n",
       " 'C:\\\\Users\\\\Neha\\\\train\\\\10565.png',\n",
       " 'C:\\\\Users\\\\Neha\\\\train\\\\10566.png',\n",
       " 'C:\\\\Users\\\\Neha\\\\train\\\\10567.png',\n",
       " 'C:\\\\Users\\\\Neha\\\\train\\\\10568.png',\n",
       " 'C:\\\\Users\\\\Neha\\\\train\\\\10569.png',\n",
       " 'C:\\\\Users\\\\Neha\\\\train\\\\1057.png',\n",
       " 'C:\\\\Users\\\\Neha\\\\train\\\\10570.png',\n",
       " 'C:\\\\Users\\\\Neha\\\\train\\\\10571.png',\n",
       " 'C:\\\\Users\\\\Neha\\\\train\\\\10572.png',\n",
       " 'C:\\\\Users\\\\Neha\\\\train\\\\10573.png',\n",
       " 'C:\\\\Users\\\\Neha\\\\train\\\\10574.png',\n",
       " 'C:\\\\Users\\\\Neha\\\\train\\\\10575.png',\n",
       " 'C:\\\\Users\\\\Neha\\\\train\\\\10576.png',\n",
       " 'C:\\\\Users\\\\Neha\\\\train\\\\10577.png',\n",
       " 'C:\\\\Users\\\\Neha\\\\train\\\\10578.png',\n",
       " 'C:\\\\Users\\\\Neha\\\\train\\\\10579.png',\n",
       " 'C:\\\\Users\\\\Neha\\\\train\\\\1058.png',\n",
       " 'C:\\\\Users\\\\Neha\\\\train\\\\10580.png',\n",
       " 'C:\\\\Users\\\\Neha\\\\train\\\\10581.png',\n",
       " 'C:\\\\Users\\\\Neha\\\\train\\\\10582.png',\n",
       " 'C:\\\\Users\\\\Neha\\\\train\\\\10583.png',\n",
       " 'C:\\\\Users\\\\Neha\\\\train\\\\10584.png',\n",
       " 'C:\\\\Users\\\\Neha\\\\train\\\\10585.png',\n",
       " 'C:\\\\Users\\\\Neha\\\\train\\\\10586.png',\n",
       " 'C:\\\\Users\\\\Neha\\\\train\\\\10587.png',\n",
       " 'C:\\\\Users\\\\Neha\\\\train\\\\10588.png',\n",
       " 'C:\\\\Users\\\\Neha\\\\train\\\\10589.png',\n",
       " 'C:\\\\Users\\\\Neha\\\\train\\\\1059.png',\n",
       " 'C:\\\\Users\\\\Neha\\\\train\\\\10590.png',\n",
       " 'C:\\\\Users\\\\Neha\\\\train\\\\10591.png',\n",
       " 'C:\\\\Users\\\\Neha\\\\train\\\\10592.png',\n",
       " 'C:\\\\Users\\\\Neha\\\\train\\\\10593.png',\n",
       " 'C:\\\\Users\\\\Neha\\\\train\\\\10594.png',\n",
       " 'C:\\\\Users\\\\Neha\\\\train\\\\10595.png',\n",
       " 'C:\\\\Users\\\\Neha\\\\train\\\\10596.png',\n",
       " 'C:\\\\Users\\\\Neha\\\\train\\\\10597.png',\n",
       " 'C:\\\\Users\\\\Neha\\\\train\\\\10598.png',\n",
       " 'C:\\\\Users\\\\Neha\\\\train\\\\10599.png',\n",
       " 'C:\\\\Users\\\\Neha\\\\train\\\\106.png',\n",
       " 'C:\\\\Users\\\\Neha\\\\train\\\\1060.png',\n",
       " 'C:\\\\Users\\\\Neha\\\\train\\\\10600.png',\n",
       " 'C:\\\\Users\\\\Neha\\\\train\\\\10601.png',\n",
       " 'C:\\\\Users\\\\Neha\\\\train\\\\10602.png',\n",
       " 'C:\\\\Users\\\\Neha\\\\train\\\\10603.png',\n",
       " 'C:\\\\Users\\\\Neha\\\\train\\\\10604.png',\n",
       " 'C:\\\\Users\\\\Neha\\\\train\\\\10605.png',\n",
       " 'C:\\\\Users\\\\Neha\\\\train\\\\10606.png',\n",
       " 'C:\\\\Users\\\\Neha\\\\train\\\\10607.png',\n",
       " 'C:\\\\Users\\\\Neha\\\\train\\\\10608.png',\n",
       " 'C:\\\\Users\\\\Neha\\\\train\\\\10609.png',\n",
       " 'C:\\\\Users\\\\Neha\\\\train\\\\1061.png',\n",
       " 'C:\\\\Users\\\\Neha\\\\train\\\\10610.png',\n",
       " 'C:\\\\Users\\\\Neha\\\\train\\\\10611.png',\n",
       " 'C:\\\\Users\\\\Neha\\\\train\\\\10612.png',\n",
       " 'C:\\\\Users\\\\Neha\\\\train\\\\10613.png',\n",
       " 'C:\\\\Users\\\\Neha\\\\train\\\\10614.png',\n",
       " 'C:\\\\Users\\\\Neha\\\\train\\\\10615.png',\n",
       " 'C:\\\\Users\\\\Neha\\\\train\\\\10616.png',\n",
       " 'C:\\\\Users\\\\Neha\\\\train\\\\10617.png',\n",
       " 'C:\\\\Users\\\\Neha\\\\train\\\\10618.png',\n",
       " 'C:\\\\Users\\\\Neha\\\\train\\\\10619.png',\n",
       " 'C:\\\\Users\\\\Neha\\\\train\\\\1062.png',\n",
       " 'C:\\\\Users\\\\Neha\\\\train\\\\10620.png',\n",
       " 'C:\\\\Users\\\\Neha\\\\train\\\\10621.png',\n",
       " 'C:\\\\Users\\\\Neha\\\\train\\\\10622.png',\n",
       " 'C:\\\\Users\\\\Neha\\\\train\\\\10623.png',\n",
       " 'C:\\\\Users\\\\Neha\\\\train\\\\10624.png',\n",
       " 'C:\\\\Users\\\\Neha\\\\train\\\\10625.png',\n",
       " 'C:\\\\Users\\\\Neha\\\\train\\\\10626.png',\n",
       " 'C:\\\\Users\\\\Neha\\\\train\\\\10627.png',\n",
       " 'C:\\\\Users\\\\Neha\\\\train\\\\10628.png',\n",
       " 'C:\\\\Users\\\\Neha\\\\train\\\\10629.png',\n",
       " 'C:\\\\Users\\\\Neha\\\\train\\\\1063.png',\n",
       " 'C:\\\\Users\\\\Neha\\\\train\\\\10630.png',\n",
       " 'C:\\\\Users\\\\Neha\\\\train\\\\10631.png',\n",
       " 'C:\\\\Users\\\\Neha\\\\train\\\\10632.png',\n",
       " 'C:\\\\Users\\\\Neha\\\\train\\\\10633.png',\n",
       " 'C:\\\\Users\\\\Neha\\\\train\\\\10634.png',\n",
       " 'C:\\\\Users\\\\Neha\\\\train\\\\10635.png',\n",
       " 'C:\\\\Users\\\\Neha\\\\train\\\\10636.png',\n",
       " 'C:\\\\Users\\\\Neha\\\\train\\\\10637.png',\n",
       " 'C:\\\\Users\\\\Neha\\\\train\\\\10638.png',\n",
       " 'C:\\\\Users\\\\Neha\\\\train\\\\10639.png',\n",
       " 'C:\\\\Users\\\\Neha\\\\train\\\\1064.png',\n",
       " 'C:\\\\Users\\\\Neha\\\\train\\\\10640.png',\n",
       " 'C:\\\\Users\\\\Neha\\\\train\\\\10641.png',\n",
       " 'C:\\\\Users\\\\Neha\\\\train\\\\10642.png',\n",
       " 'C:\\\\Users\\\\Neha\\\\train\\\\10643.png',\n",
       " 'C:\\\\Users\\\\Neha\\\\train\\\\10644.png',\n",
       " 'C:\\\\Users\\\\Neha\\\\train\\\\10645.png',\n",
       " 'C:\\\\Users\\\\Neha\\\\train\\\\10646.png',\n",
       " 'C:\\\\Users\\\\Neha\\\\train\\\\10647.png',\n",
       " 'C:\\\\Users\\\\Neha\\\\train\\\\10648.png',\n",
       " 'C:\\\\Users\\\\Neha\\\\train\\\\10649.png',\n",
       " 'C:\\\\Users\\\\Neha\\\\train\\\\1065.png',\n",
       " 'C:\\\\Users\\\\Neha\\\\train\\\\10650.png',\n",
       " 'C:\\\\Users\\\\Neha\\\\train\\\\10651.png',\n",
       " 'C:\\\\Users\\\\Neha\\\\train\\\\10652.png',\n",
       " 'C:\\\\Users\\\\Neha\\\\train\\\\10653.png',\n",
       " 'C:\\\\Users\\\\Neha\\\\train\\\\10654.png',\n",
       " 'C:\\\\Users\\\\Neha\\\\train\\\\10655.png',\n",
       " 'C:\\\\Users\\\\Neha\\\\train\\\\10656.png',\n",
       " 'C:\\\\Users\\\\Neha\\\\train\\\\10657.png',\n",
       " 'C:\\\\Users\\\\Neha\\\\train\\\\10658.png',\n",
       " 'C:\\\\Users\\\\Neha\\\\train\\\\10659.png',\n",
       " 'C:\\\\Users\\\\Neha\\\\train\\\\1066.png',\n",
       " 'C:\\\\Users\\\\Neha\\\\train\\\\10660.png',\n",
       " 'C:\\\\Users\\\\Neha\\\\train\\\\10661.png',\n",
       " 'C:\\\\Users\\\\Neha\\\\train\\\\10662.png',\n",
       " 'C:\\\\Users\\\\Neha\\\\train\\\\10663.png',\n",
       " 'C:\\\\Users\\\\Neha\\\\train\\\\10664.png',\n",
       " 'C:\\\\Users\\\\Neha\\\\train\\\\10665.png',\n",
       " 'C:\\\\Users\\\\Neha\\\\train\\\\10666.png',\n",
       " 'C:\\\\Users\\\\Neha\\\\train\\\\10667.png',\n",
       " 'C:\\\\Users\\\\Neha\\\\train\\\\10668.png',\n",
       " 'C:\\\\Users\\\\Neha\\\\train\\\\10669.png',\n",
       " 'C:\\\\Users\\\\Neha\\\\train\\\\1067.png',\n",
       " 'C:\\\\Users\\\\Neha\\\\train\\\\10670.png',\n",
       " 'C:\\\\Users\\\\Neha\\\\train\\\\10671.png',\n",
       " 'C:\\\\Users\\\\Neha\\\\train\\\\10672.png',\n",
       " 'C:\\\\Users\\\\Neha\\\\train\\\\10673.png',\n",
       " 'C:\\\\Users\\\\Neha\\\\train\\\\10674.png',\n",
       " 'C:\\\\Users\\\\Neha\\\\train\\\\10675.png',\n",
       " 'C:\\\\Users\\\\Neha\\\\train\\\\10676.png',\n",
       " 'C:\\\\Users\\\\Neha\\\\train\\\\10677.png',\n",
       " 'C:\\\\Users\\\\Neha\\\\train\\\\10678.png',\n",
       " 'C:\\\\Users\\\\Neha\\\\train\\\\10679.png',\n",
       " 'C:\\\\Users\\\\Neha\\\\train\\\\1068.png',\n",
       " 'C:\\\\Users\\\\Neha\\\\train\\\\10680.png',\n",
       " 'C:\\\\Users\\\\Neha\\\\train\\\\10681.png',\n",
       " 'C:\\\\Users\\\\Neha\\\\train\\\\10682.png',\n",
       " 'C:\\\\Users\\\\Neha\\\\train\\\\10683.png',\n",
       " 'C:\\\\Users\\\\Neha\\\\train\\\\10684.png',\n",
       " 'C:\\\\Users\\\\Neha\\\\train\\\\10685.png',\n",
       " 'C:\\\\Users\\\\Neha\\\\train\\\\10686.png',\n",
       " 'C:\\\\Users\\\\Neha\\\\train\\\\10687.png',\n",
       " 'C:\\\\Users\\\\Neha\\\\train\\\\10688.png',\n",
       " 'C:\\\\Users\\\\Neha\\\\train\\\\10689.png',\n",
       " 'C:\\\\Users\\\\Neha\\\\train\\\\1069.png',\n",
       " 'C:\\\\Users\\\\Neha\\\\train\\\\10690.png',\n",
       " 'C:\\\\Users\\\\Neha\\\\train\\\\10691.png',\n",
       " 'C:\\\\Users\\\\Neha\\\\train\\\\10692.png',\n",
       " 'C:\\\\Users\\\\Neha\\\\train\\\\10693.png',\n",
       " 'C:\\\\Users\\\\Neha\\\\train\\\\10694.png',\n",
       " 'C:\\\\Users\\\\Neha\\\\train\\\\10695.png',\n",
       " 'C:\\\\Users\\\\Neha\\\\train\\\\10696.png',\n",
       " 'C:\\\\Users\\\\Neha\\\\train\\\\10697.png',\n",
       " 'C:\\\\Users\\\\Neha\\\\train\\\\10698.png',\n",
       " 'C:\\\\Users\\\\Neha\\\\train\\\\10699.png',\n",
       " 'C:\\\\Users\\\\Neha\\\\train\\\\107.png',\n",
       " 'C:\\\\Users\\\\Neha\\\\train\\\\1070.png',\n",
       " 'C:\\\\Users\\\\Neha\\\\train\\\\10700.png',\n",
       " 'C:\\\\Users\\\\Neha\\\\train\\\\10701.png',\n",
       " 'C:\\\\Users\\\\Neha\\\\train\\\\10702.png',\n",
       " 'C:\\\\Users\\\\Neha\\\\train\\\\10703.png',\n",
       " 'C:\\\\Users\\\\Neha\\\\train\\\\10704.png',\n",
       " 'C:\\\\Users\\\\Neha\\\\train\\\\10705.png',\n",
       " 'C:\\\\Users\\\\Neha\\\\train\\\\10706.png',\n",
       " 'C:\\\\Users\\\\Neha\\\\train\\\\10707.png',\n",
       " 'C:\\\\Users\\\\Neha\\\\train\\\\10708.png',\n",
       " 'C:\\\\Users\\\\Neha\\\\train\\\\10709.png',\n",
       " 'C:\\\\Users\\\\Neha\\\\train\\\\1071.png',\n",
       " 'C:\\\\Users\\\\Neha\\\\train\\\\10710.png',\n",
       " 'C:\\\\Users\\\\Neha\\\\train\\\\10711.png',\n",
       " 'C:\\\\Users\\\\Neha\\\\train\\\\10712.png',\n",
       " 'C:\\\\Users\\\\Neha\\\\train\\\\10713.png',\n",
       " 'C:\\\\Users\\\\Neha\\\\train\\\\10714.png',\n",
       " 'C:\\\\Users\\\\Neha\\\\train\\\\10715.png',\n",
       " 'C:\\\\Users\\\\Neha\\\\train\\\\10716.png',\n",
       " 'C:\\\\Users\\\\Neha\\\\train\\\\10717.png',\n",
       " 'C:\\\\Users\\\\Neha\\\\train\\\\10718.png',\n",
       " 'C:\\\\Users\\\\Neha\\\\train\\\\10719.png',\n",
       " 'C:\\\\Users\\\\Neha\\\\train\\\\1072.png',\n",
       " 'C:\\\\Users\\\\Neha\\\\train\\\\10720.png',\n",
       " 'C:\\\\Users\\\\Neha\\\\train\\\\10721.png',\n",
       " 'C:\\\\Users\\\\Neha\\\\train\\\\10722.png',\n",
       " 'C:\\\\Users\\\\Neha\\\\train\\\\10723.png',\n",
       " 'C:\\\\Users\\\\Neha\\\\train\\\\10724.png',\n",
       " 'C:\\\\Users\\\\Neha\\\\train\\\\10725.png',\n",
       " 'C:\\\\Users\\\\Neha\\\\train\\\\10726.png',\n",
       " 'C:\\\\Users\\\\Neha\\\\train\\\\10727.png',\n",
       " 'C:\\\\Users\\\\Neha\\\\train\\\\10728.png',\n",
       " 'C:\\\\Users\\\\Neha\\\\train\\\\10729.png',\n",
       " 'C:\\\\Users\\\\Neha\\\\train\\\\1073.png',\n",
       " 'C:\\\\Users\\\\Neha\\\\train\\\\10730.png',\n",
       " 'C:\\\\Users\\\\Neha\\\\train\\\\10731.png',\n",
       " 'C:\\\\Users\\\\Neha\\\\train\\\\10732.png',\n",
       " 'C:\\\\Users\\\\Neha\\\\train\\\\10733.png',\n",
       " 'C:\\\\Users\\\\Neha\\\\train\\\\10734.png',\n",
       " 'C:\\\\Users\\\\Neha\\\\train\\\\10735.png',\n",
       " 'C:\\\\Users\\\\Neha\\\\train\\\\10736.png',\n",
       " 'C:\\\\Users\\\\Neha\\\\train\\\\10737.png',\n",
       " 'C:\\\\Users\\\\Neha\\\\train\\\\10738.png',\n",
       " 'C:\\\\Users\\\\Neha\\\\train\\\\10739.png',\n",
       " 'C:\\\\Users\\\\Neha\\\\train\\\\1074.png',\n",
       " 'C:\\\\Users\\\\Neha\\\\train\\\\10740.png',\n",
       " 'C:\\\\Users\\\\Neha\\\\train\\\\10741.png',\n",
       " 'C:\\\\Users\\\\Neha\\\\train\\\\10742.png',\n",
       " 'C:\\\\Users\\\\Neha\\\\train\\\\10743.png',\n",
       " 'C:\\\\Users\\\\Neha\\\\train\\\\10744.png',\n",
       " 'C:\\\\Users\\\\Neha\\\\train\\\\10745.png',\n",
       " 'C:\\\\Users\\\\Neha\\\\train\\\\10746.png',\n",
       " 'C:\\\\Users\\\\Neha\\\\train\\\\10747.png',\n",
       " 'C:\\\\Users\\\\Neha\\\\train\\\\10748.png',\n",
       " 'C:\\\\Users\\\\Neha\\\\train\\\\10749.png',\n",
       " 'C:\\\\Users\\\\Neha\\\\train\\\\1075.png',\n",
       " 'C:\\\\Users\\\\Neha\\\\train\\\\10750.png',\n",
       " 'C:\\\\Users\\\\Neha\\\\train\\\\10751.png',\n",
       " 'C:\\\\Users\\\\Neha\\\\train\\\\10752.png',\n",
       " 'C:\\\\Users\\\\Neha\\\\train\\\\10753.png',\n",
       " 'C:\\\\Users\\\\Neha\\\\train\\\\10754.png',\n",
       " 'C:\\\\Users\\\\Neha\\\\train\\\\10755.png',\n",
       " 'C:\\\\Users\\\\Neha\\\\train\\\\10756.png',\n",
       " 'C:\\\\Users\\\\Neha\\\\train\\\\10757.png',\n",
       " 'C:\\\\Users\\\\Neha\\\\train\\\\10758.png',\n",
       " 'C:\\\\Users\\\\Neha\\\\train\\\\10759.png',\n",
       " 'C:\\\\Users\\\\Neha\\\\train\\\\1076.png',\n",
       " 'C:\\\\Users\\\\Neha\\\\train\\\\10760.png',\n",
       " 'C:\\\\Users\\\\Neha\\\\train\\\\10761.png',\n",
       " 'C:\\\\Users\\\\Neha\\\\train\\\\10762.png',\n",
       " 'C:\\\\Users\\\\Neha\\\\train\\\\10763.png',\n",
       " 'C:\\\\Users\\\\Neha\\\\train\\\\10764.png',\n",
       " 'C:\\\\Users\\\\Neha\\\\train\\\\10765.png',\n",
       " 'C:\\\\Users\\\\Neha\\\\train\\\\10766.png',\n",
       " 'C:\\\\Users\\\\Neha\\\\train\\\\10767.png',\n",
       " 'C:\\\\Users\\\\Neha\\\\train\\\\10768.png',\n",
       " 'C:\\\\Users\\\\Neha\\\\train\\\\10769.png',\n",
       " 'C:\\\\Users\\\\Neha\\\\train\\\\1077.png',\n",
       " 'C:\\\\Users\\\\Neha\\\\train\\\\10770.png',\n",
       " 'C:\\\\Users\\\\Neha\\\\train\\\\10771.png',\n",
       " 'C:\\\\Users\\\\Neha\\\\train\\\\10772.png',\n",
       " 'C:\\\\Users\\\\Neha\\\\train\\\\10773.png',\n",
       " 'C:\\\\Users\\\\Neha\\\\train\\\\10774.png',\n",
       " 'C:\\\\Users\\\\Neha\\\\train\\\\10775.png',\n",
       " 'C:\\\\Users\\\\Neha\\\\train\\\\10776.png',\n",
       " 'C:\\\\Users\\\\Neha\\\\train\\\\10777.png',\n",
       " 'C:\\\\Users\\\\Neha\\\\train\\\\10778.png',\n",
       " 'C:\\\\Users\\\\Neha\\\\train\\\\10779.png',\n",
       " 'C:\\\\Users\\\\Neha\\\\train\\\\1078.png',\n",
       " 'C:\\\\Users\\\\Neha\\\\train\\\\10780.png',\n",
       " 'C:\\\\Users\\\\Neha\\\\train\\\\10781.png',\n",
       " 'C:\\\\Users\\\\Neha\\\\train\\\\10782.png',\n",
       " 'C:\\\\Users\\\\Neha\\\\train\\\\10783.png',\n",
       " 'C:\\\\Users\\\\Neha\\\\train\\\\10784.png',\n",
       " 'C:\\\\Users\\\\Neha\\\\train\\\\10785.png',\n",
       " 'C:\\\\Users\\\\Neha\\\\train\\\\10786.png',\n",
       " 'C:\\\\Users\\\\Neha\\\\train\\\\10787.png',\n",
       " 'C:\\\\Users\\\\Neha\\\\train\\\\10788.png',\n",
       " 'C:\\\\Users\\\\Neha\\\\train\\\\10789.png',\n",
       " 'C:\\\\Users\\\\Neha\\\\train\\\\1079.png',\n",
       " 'C:\\\\Users\\\\Neha\\\\train\\\\10790.png',\n",
       " 'C:\\\\Users\\\\Neha\\\\train\\\\10791.png',\n",
       " 'C:\\\\Users\\\\Neha\\\\train\\\\10792.png',\n",
       " 'C:\\\\Users\\\\Neha\\\\train\\\\10793.png',\n",
       " 'C:\\\\Users\\\\Neha\\\\train\\\\10794.png',\n",
       " 'C:\\\\Users\\\\Neha\\\\train\\\\10795.png',\n",
       " 'C:\\\\Users\\\\Neha\\\\train\\\\10796.png',\n",
       " 'C:\\\\Users\\\\Neha\\\\train\\\\10797.png',\n",
       " 'C:\\\\Users\\\\Neha\\\\train\\\\10798.png',\n",
       " 'C:\\\\Users\\\\Neha\\\\train\\\\10799.png',\n",
       " 'C:\\\\Users\\\\Neha\\\\train\\\\108.png',\n",
       " 'C:\\\\Users\\\\Neha\\\\train\\\\1080.png',\n",
       " 'C:\\\\Users\\\\Neha\\\\train\\\\10800.png',\n",
       " 'C:\\\\Users\\\\Neha\\\\train\\\\10801.png',\n",
       " 'C:\\\\Users\\\\Neha\\\\train\\\\10802.png',\n",
       " 'C:\\\\Users\\\\Neha\\\\train\\\\10803.png',\n",
       " 'C:\\\\Users\\\\Neha\\\\train\\\\10804.png',\n",
       " 'C:\\\\Users\\\\Neha\\\\train\\\\10805.png',\n",
       " 'C:\\\\Users\\\\Neha\\\\train\\\\10806.png',\n",
       " 'C:\\\\Users\\\\Neha\\\\train\\\\10807.png',\n",
       " 'C:\\\\Users\\\\Neha\\\\train\\\\10808.png',\n",
       " 'C:\\\\Users\\\\Neha\\\\train\\\\10809.png',\n",
       " 'C:\\\\Users\\\\Neha\\\\train\\\\1081.png',\n",
       " 'C:\\\\Users\\\\Neha\\\\train\\\\10810.png',\n",
       " 'C:\\\\Users\\\\Neha\\\\train\\\\10811.png',\n",
       " 'C:\\\\Users\\\\Neha\\\\train\\\\10812.png',\n",
       " 'C:\\\\Users\\\\Neha\\\\train\\\\10813.png',\n",
       " 'C:\\\\Users\\\\Neha\\\\train\\\\10814.png',\n",
       " 'C:\\\\Users\\\\Neha\\\\train\\\\10815.png',\n",
       " 'C:\\\\Users\\\\Neha\\\\train\\\\10816.png',\n",
       " 'C:\\\\Users\\\\Neha\\\\train\\\\10817.png',\n",
       " 'C:\\\\Users\\\\Neha\\\\train\\\\10818.png',\n",
       " 'C:\\\\Users\\\\Neha\\\\train\\\\10819.png',\n",
       " 'C:\\\\Users\\\\Neha\\\\train\\\\1082.png',\n",
       " 'C:\\\\Users\\\\Neha\\\\train\\\\10820.png',\n",
       " 'C:\\\\Users\\\\Neha\\\\train\\\\10821.png',\n",
       " 'C:\\\\Users\\\\Neha\\\\train\\\\10822.png',\n",
       " 'C:\\\\Users\\\\Neha\\\\train\\\\10823.png',\n",
       " 'C:\\\\Users\\\\Neha\\\\train\\\\10824.png',\n",
       " 'C:\\\\Users\\\\Neha\\\\train\\\\10825.png',\n",
       " 'C:\\\\Users\\\\Neha\\\\train\\\\10826.png',\n",
       " 'C:\\\\Users\\\\Neha\\\\train\\\\10827.png',\n",
       " 'C:\\\\Users\\\\Neha\\\\train\\\\10828.png',\n",
       " 'C:\\\\Users\\\\Neha\\\\train\\\\10829.png',\n",
       " 'C:\\\\Users\\\\Neha\\\\train\\\\1083.png',\n",
       " 'C:\\\\Users\\\\Neha\\\\train\\\\10830.png',\n",
       " 'C:\\\\Users\\\\Neha\\\\train\\\\10831.png',\n",
       " 'C:\\\\Users\\\\Neha\\\\train\\\\10832.png',\n",
       " 'C:\\\\Users\\\\Neha\\\\train\\\\10833.png',\n",
       " 'C:\\\\Users\\\\Neha\\\\train\\\\10834.png',\n",
       " 'C:\\\\Users\\\\Neha\\\\train\\\\10835.png',\n",
       " 'C:\\\\Users\\\\Neha\\\\train\\\\10836.png',\n",
       " 'C:\\\\Users\\\\Neha\\\\train\\\\10837.png',\n",
       " 'C:\\\\Users\\\\Neha\\\\train\\\\10838.png',\n",
       " 'C:\\\\Users\\\\Neha\\\\train\\\\10839.png',\n",
       " 'C:\\\\Users\\\\Neha\\\\train\\\\1084.png',\n",
       " 'C:\\\\Users\\\\Neha\\\\train\\\\10840.png',\n",
       " 'C:\\\\Users\\\\Neha\\\\train\\\\10841.png',\n",
       " 'C:\\\\Users\\\\Neha\\\\train\\\\10842.png',\n",
       " 'C:\\\\Users\\\\Neha\\\\train\\\\10843.png',\n",
       " 'C:\\\\Users\\\\Neha\\\\train\\\\10844.png',\n",
       " 'C:\\\\Users\\\\Neha\\\\train\\\\10845.png',\n",
       " 'C:\\\\Users\\\\Neha\\\\train\\\\10846.png',\n",
       " 'C:\\\\Users\\\\Neha\\\\train\\\\10847.png',\n",
       " 'C:\\\\Users\\\\Neha\\\\train\\\\10848.png',\n",
       " 'C:\\\\Users\\\\Neha\\\\train\\\\10849.png',\n",
       " 'C:\\\\Users\\\\Neha\\\\train\\\\1085.png',\n",
       " 'C:\\\\Users\\\\Neha\\\\train\\\\10850.png',\n",
       " 'C:\\\\Users\\\\Neha\\\\train\\\\10851.png',\n",
       " 'C:\\\\Users\\\\Neha\\\\train\\\\10852.png',\n",
       " 'C:\\\\Users\\\\Neha\\\\train\\\\10853.png',\n",
       " 'C:\\\\Users\\\\Neha\\\\train\\\\10854.png',\n",
       " 'C:\\\\Users\\\\Neha\\\\train\\\\10855.png',\n",
       " 'C:\\\\Users\\\\Neha\\\\train\\\\10856.png',\n",
       " 'C:\\\\Users\\\\Neha\\\\train\\\\10857.png',\n",
       " 'C:\\\\Users\\\\Neha\\\\train\\\\10858.png',\n",
       " 'C:\\\\Users\\\\Neha\\\\train\\\\10859.png',\n",
       " 'C:\\\\Users\\\\Neha\\\\train\\\\1086.png',\n",
       " 'C:\\\\Users\\\\Neha\\\\train\\\\10860.png',\n",
       " 'C:\\\\Users\\\\Neha\\\\train\\\\10861.png',\n",
       " 'C:\\\\Users\\\\Neha\\\\train\\\\10862.png',\n",
       " 'C:\\\\Users\\\\Neha\\\\train\\\\10863.png',\n",
       " 'C:\\\\Users\\\\Neha\\\\train\\\\10864.png',\n",
       " 'C:\\\\Users\\\\Neha\\\\train\\\\10865.png',\n",
       " 'C:\\\\Users\\\\Neha\\\\train\\\\10866.png',\n",
       " 'C:\\\\Users\\\\Neha\\\\train\\\\10867.png',\n",
       " 'C:\\\\Users\\\\Neha\\\\train\\\\10868.png',\n",
       " 'C:\\\\Users\\\\Neha\\\\train\\\\10869.png',\n",
       " 'C:\\\\Users\\\\Neha\\\\train\\\\1087.png',\n",
       " 'C:\\\\Users\\\\Neha\\\\train\\\\10870.png',\n",
       " 'C:\\\\Users\\\\Neha\\\\train\\\\10871.png',\n",
       " 'C:\\\\Users\\\\Neha\\\\train\\\\10872.png',\n",
       " 'C:\\\\Users\\\\Neha\\\\train\\\\10873.png',\n",
       " 'C:\\\\Users\\\\Neha\\\\train\\\\10874.png',\n",
       " 'C:\\\\Users\\\\Neha\\\\train\\\\10875.png',\n",
       " 'C:\\\\Users\\\\Neha\\\\train\\\\10876.png',\n",
       " 'C:\\\\Users\\\\Neha\\\\train\\\\10877.png',\n",
       " 'C:\\\\Users\\\\Neha\\\\train\\\\10878.png',\n",
       " 'C:\\\\Users\\\\Neha\\\\train\\\\10879.png',\n",
       " 'C:\\\\Users\\\\Neha\\\\train\\\\1088.png',\n",
       " 'C:\\\\Users\\\\Neha\\\\train\\\\10880.png',\n",
       " 'C:\\\\Users\\\\Neha\\\\train\\\\10881.png',\n",
       " 'C:\\\\Users\\\\Neha\\\\train\\\\10882.png',\n",
       " 'C:\\\\Users\\\\Neha\\\\train\\\\10883.png',\n",
       " 'C:\\\\Users\\\\Neha\\\\train\\\\10884.png',\n",
       " 'C:\\\\Users\\\\Neha\\\\train\\\\10885.png',\n",
       " 'C:\\\\Users\\\\Neha\\\\train\\\\10886.png',\n",
       " 'C:\\\\Users\\\\Neha\\\\train\\\\10887.png',\n",
       " 'C:\\\\Users\\\\Neha\\\\train\\\\10888.png',\n",
       " 'C:\\\\Users\\\\Neha\\\\train\\\\10889.png',\n",
       " 'C:\\\\Users\\\\Neha\\\\train\\\\1089.png',\n",
       " 'C:\\\\Users\\\\Neha\\\\train\\\\10890.png',\n",
       " 'C:\\\\Users\\\\Neha\\\\train\\\\10891.png',\n",
       " 'C:\\\\Users\\\\Neha\\\\train\\\\10892.png',\n",
       " 'C:\\\\Users\\\\Neha\\\\train\\\\10893.png',\n",
       " 'C:\\\\Users\\\\Neha\\\\train\\\\10894.png',\n",
       " 'C:\\\\Users\\\\Neha\\\\train\\\\10895.png',\n",
       " 'C:\\\\Users\\\\Neha\\\\train\\\\10896.png',\n",
       " 'C:\\\\Users\\\\Neha\\\\train\\\\10897.png',\n",
       " 'C:\\\\Users\\\\Neha\\\\train\\\\10898.png',\n",
       " ...]"
      ]
     },
     "execution_count": 9,
     "metadata": {},
     "output_type": "execute_result"
    }
   ],
   "source": [
    "images"
   ]
  },
  {
   "cell_type": "code",
   "execution_count": 10,
   "metadata": {
    "slideshow": {
     "slide_type": "skip"
    }
   },
   "outputs": [
    {
     "data": {
      "text/plain": [
       "pandas.core.frame.DataFrame"
      ]
     },
     "execution_count": 10,
     "metadata": {},
     "output_type": "execute_result"
    }
   ],
   "source": [
    "type(trainlabs)"
   ]
  },
  {
   "cell_type": "code",
   "execution_count": 11,
   "metadata": {
    "slideshow": {
     "slide_type": "skip"
    }
   },
   "outputs": [
    {
     "data": {
      "text/plain": [
       "str"
      ]
     },
     "execution_count": 11,
     "metadata": {},
     "output_type": "execute_result"
    }
   ],
   "source": [
    "type(images[0])"
   ]
  },
  {
   "cell_type": "code",
   "execution_count": 12,
   "metadata": {
    "slideshow": {
     "slide_type": "skip"
    }
   },
   "outputs": [
    {
     "data": {
      "text/plain": [
       "Index(['id', 'label'], dtype='object')"
      ]
     },
     "execution_count": 12,
     "metadata": {},
     "output_type": "execute_result"
    }
   ],
   "source": [
    "trainlabs.columns"
   ]
  },
  {
   "cell_type": "code",
   "execution_count": 13,
   "metadata": {
    "collapsed": true,
    "slideshow": {
     "slide_type": "skip"
    }
   },
   "outputs": [],
   "source": [
    "strn = '.png'"
   ]
  },
  {
   "cell_type": "code",
   "execution_count": 14,
   "metadata": {
    "slideshow": {
     "slide_type": "slide"
    }
   },
   "outputs": [
    {
     "data": {
      "text/plain": [
       "<matplotlib.image.AxesImage at 0x1ec20f69e80>"
      ]
     },
     "execution_count": 14,
     "metadata": {},
     "output_type": "execute_result"
    },
    {
     "data": {
      "image/png": "[encoded data removed]",
      "text/plain": [
       "<matplotlib.figure.Figure at 0x1ec1f57ae48>"
      ]
     },
     "metadata": {},
     "output_type": "display_data"
    }
   ],
   "source": [
    "trainlabs['path'] = trainlabs['id'].astype(str) + strn\n",
    "type(trainlabs.iloc[0][\"id\"])\n",
    "trainlabs.head(n=10)\n",
    "%matplotlib inline\n",
    "img = mpimg.imread(imagepath + '\\\\' + trainlabs.iloc[1009][\"path\"])\n",
    "plt.imshow(img)"
   ]
  },
  {
   "cell_type": "code",
   "execution_count": 15,
   "metadata": {
    "slideshow": {
     "slide_type": "slide"
    }
   },
   "outputs": [
    {
     "data": {
      "text/plain": [
       "(32, 32, 3)"
      ]
     },
     "execution_count": 15,
     "metadata": {},
     "output_type": "execute_result"
    }
   ],
   "source": [
    "type(img)\n",
    "img.shape"
   ]
  },
  {
   "cell_type": "code",
   "execution_count": 16,
   "metadata": {
    "slideshow": {
     "slide_type": "fragment"
    }
   },
   "outputs": [
    {
     "data": {
      "text/plain": [
       "pandas.core.series.Series"
      ]
     },
     "execution_count": 16,
     "metadata": {},
     "output_type": "execute_result"
    }
   ],
   "source": [
    "type(trainlabs[\"path\"])"
   ]
  },
  {
   "cell_type": "code",
   "execution_count": 17,
   "metadata": {
    "slideshow": {
     "slide_type": "fragment"
    }
   },
   "outputs": [
    {
     "data": {
      "text/plain": [
       "(0.0078431377, 0.84705883)"
      ]
     },
     "execution_count": 17,
     "metadata": {},
     "output_type": "execute_result"
    }
   ],
   "source": [
    "import numpy as np\n",
    "np.amin(img), np.amax(img)"
   ]
  },
  {
   "cell_type": "code",
   "execution_count": 18,
   "metadata": {
    "slideshow": {
     "slide_type": "fragment"
    }
   },
   "outputs": [
    {
     "data": {
      "text/plain": [
       "0.58663064"
      ]
     },
     "execution_count": 18,
     "metadata": {},
     "output_type": "execute_result"
    }
   ],
   "source": [
    "np.mean(img)"
   ]
  },
  {
   "cell_type": "code",
   "execution_count": 19,
   "metadata": {
    "slideshow": {
     "slide_type": "fragment"
    }
   },
   "outputs": [
    {
     "data": {
      "text/plain": [
       "0.12372432"
      ]
     },
     "execution_count": 19,
     "metadata": {},
     "output_type": "execute_result"
    }
   ],
   "source": [
    "np.std(img)"
   ]
  },
  {
   "cell_type": "code",
   "execution_count": 20,
   "metadata": {
    "collapsed": true,
    "slideshow": {
     "slide_type": "fragment"
    }
   },
   "outputs": [],
   "source": [
    "normimg = abs(img - np.mean(img))/np.std(img)\n",
    "meanimg = abs(img - np.mean(img))\n",
    "stdimg = img/np.std(img)"
   ]
  },
  {
   "cell_type": "code",
   "execution_count": 21,
   "metadata": {
    "slideshow": {
     "slide_type": "slide"
    }
   },
   "outputs": [
    {
     "data": {
      "text/plain": [
       "<matplotlib.image.AxesImage at 0x1ec20d3c9e8>"
      ]
     },
     "execution_count": 21,
     "metadata": {},
     "output_type": "execute_result"
    },
    {
     "data": {
      "image/png": "[encoded data removed]",
      "text/plain": [
       "<matplotlib.figure.Figure at 0x1ec20f76550>"
      ]
     },
     "metadata": {},
     "output_type": "display_data"
    }
   ],
   "source": [
    "plt.imshow(meanimg, cmap=plt.cm.gray)"
   ]
  },
  {
   "cell_type": "code",
   "execution_count": 22,
   "metadata": {
    "slideshow": {
     "slide_type": "slide"
    }
   },
   "outputs": [
    {
     "data": {
      "text/plain": [
       "<matplotlib.image.AxesImage at 0x1ec20d97da0>"
      ]
     },
     "execution_count": 22,
     "metadata": {},
     "output_type": "execute_result"
    },
    {
     "data": {
      "image/png": "[encoded data removed]",
      "text/plain": [
       "<matplotlib.figure.Figure at 0x1ec20d19a20>"
      ]
     },
     "metadata": {},
     "output_type": "display_data"
    }
   ],
   "source": [
    "plt.imshow(stdimg, cmap=plt.cm.gray)"
   ]
  },
  {
   "cell_type": "code",
   "execution_count": 23,
   "metadata": {
    "slideshow": {
     "slide_type": "slide"
    }
   },
   "outputs": [
    {
     "data": {
      "text/plain": [
       "<matplotlib.image.AxesImage at 0x1ec20e01080>"
      ]
     },
     "execution_count": 23,
     "metadata": {},
     "output_type": "execute_result"
    },
    {
     "data": {
      "image/png": "[encoded data removed]",
      "text/plain": [
       "<matplotlib.figure.Figure at 0x1ec20cffb38>"
      ]
     },
     "metadata": {},
     "output_type": "display_data"
    }
   ],
   "source": [
    "plt.imshow(normimg)"
   ]
  },
  {
   "cell_type": "code",
   "execution_count": 24,
   "metadata": {
    "collapsed": true,
    "slideshow": {
     "slide_type": "skip"
    }
   },
   "outputs": [],
   "source": [
    "arr=numpy.zeros((32,32,3),numpy.float)"
   ]
  },
  {
   "cell_type": "code",
   "execution_count": 25,
   "metadata": {
    "scrolled": true,
    "slideshow": {
     "slide_type": "subslide"
    }
   },
   "outputs": [
    {
     "data": {
      "image/png": "[encoded data removed]",
      "text/plain": [
       "<PIL.Image.Image image mode=RGB size=255x255 at 0x1EC20D3C048>"
      ]
     },
     "execution_count": 25,
     "metadata": {},
     "output_type": "execute_result"
    }
   ],
   "source": [
    "from PIL import Image\n",
    "pil_im = Image.open(imagepath + '\\\\' + trainlabs.iloc[1009][\"path\"])\n",
    "pil_im.convert('L')\n",
    "pil_im.resize((255,255))"
   ]
  },
  {
   "cell_type": "code",
   "execution_count": 27,
   "metadata": {
    "slideshow": {
     "slide_type": "slide"
    }
   },
   "outputs": [
    {
     "data": {
      "image/png": "[encoded data removed]",
      "text/plain": [
       "<matplotlib.figure.Figure at 0x1ec20dd6d30>"
      ]
     },
     "metadata": {},
     "output_type": "display_data"
    }
   ],
   "source": [
    "%matplotlib inline\n",
    "img = cv2.imread(imagepath + '\\\\' + trainlabs.iloc[1009][\"path\"])\n",
    "edges = cv2.Canny(img,100,200)\n",
    "plt.subplot(121),plt.imshow(img,cmap = 'gray')\n",
    "plt.title('Original Image'), plt.xticks([]), plt.yticks([])\n",
    "plt.subplot(122),plt.imshow(edges,cmap = 'gray')\n",
    "plt.title('Edge Image'), plt.xticks([]), plt.yticks([])\n",
    "plt.show()"
   ]
  },
  {
   "cell_type": "code",
   "execution_count": 28,
   "metadata": {
    "slideshow": {
     "slide_type": "subslide"
    }
   },
   "outputs": [
    {
     "data": {
      "text/plain": [
       "<matplotlib.image.AxesImage at 0x1ec212bb8d0>"
      ]
     },
     "execution_count": 28,
     "metadata": {},
     "output_type": "execute_result"
    },
    {
     "data": {
      "image/png": "[encoded data removed]",
      "text/plain": [
       "<matplotlib.figure.Figure at 0x1ec20ec2c18>"
      ]
     },
     "metadata": {},
     "output_type": "display_data"
    }
   ],
   "source": [
    "%matplotlib inline\n",
    "img = cv2.imread(imagepath + '\\\\' + trainlabs.iloc[1009][\"path\"])\n",
    "imgs = np.uint8(img)\n",
    "fgbg = cv2.createBackgroundSubtractorMOG2()\n",
    "fgmask = fgbg.apply(imgs)\n",
    "plt.imshow(fgmask)"
   ]
  },
  {
   "cell_type": "code",
   "execution_count": 29,
   "metadata": {
    "slideshow": {
     "slide_type": "slide"
    }
   },
   "outputs": [
    {
     "data": {
      "text/plain": [
       "<matplotlib.image.AxesImage at 0x1ec2131ba20>"
      ]
     },
     "execution_count": 29,
     "metadata": {},
     "output_type": "execute_result"
    },
    {
     "data": {
      "image/png": "[encoded data removed]",
      "text/plain": [
       "<matplotlib.figure.Figure at 0x1ec20da95f8>"
      ]
     },
     "metadata": {},
     "output_type": "display_data"
    }
   ],
   "source": [
    "from skimage import io as skio\n",
    "from skimage import filters\n",
    "from skimage import color\n",
    "img = color.rgb2gray(skio.imread(imagepath + '\\\\' + trainlabs.iloc[1009][\"path\"]))\n",
    "sobel = filters.sobel(img)\n",
    "plt.imshow(sobel)"
   ]
  },
  {
   "cell_type": "code",
   "execution_count": 30,
   "metadata": {
    "slideshow": {
     "slide_type": "subslide"
    }
   },
   "outputs": [
    {
     "data": {
      "text/plain": [
       "<matplotlib.image.AxesImage at 0x1ec2137eeb8>"
      ]
     },
     "execution_count": 30,
     "metadata": {},
     "output_type": "execute_result"
    },
    {
     "data": {
      "image/png": "[encoded data removed]",
      "text/plain": [
       "<matplotlib.figure.Figure at 0x1ec20dc0a90>"
      ]
     },
     "metadata": {},
     "output_type": "display_data"
    }
   ],
   "source": [
    "import matplotlib.pyplot as plt\n",
    "%matplotlib inline\n",
    "plt.rcParams['image.interpolation'] = 'nearest'\n",
    "plt.rcParams['image.cmap'] = 'gray'\n",
    "plt.rcParams['figure.dpi'] = 150\n",
    "plt.imshow(sobel)"
   ]
  },
  {
   "cell_type": "code",
   "execution_count": 31,
   "metadata": {
    "slideshow": {
     "slide_type": "slide"
    }
   },
   "outputs": [
    {
     "data": {
      "text/plain": [
       "<matplotlib.image.AxesImage at 0x1ec215fdda0>"
      ]
     },
     "execution_count": 31,
     "metadata": {},
     "output_type": "execute_result"
    },
    {
     "data": {
      "image/png": "[encoded data removed]",
      "text/plain": [
       "<matplotlib.figure.Figure at 0x1ec20ec2940>"
      ]
     },
     "metadata": {},
     "output_type": "display_data"
    }
   ],
   "source": [
    "blurred = filters.gaussian(sobel, sigma=0.65)\n",
    "plt.imshow(blurred)"
   ]
  },
  {
   "cell_type": "code",
   "execution_count": 32,
   "metadata": {
    "slideshow": {
     "slide_type": "slide"
    }
   },
   "outputs": [
    {
     "data": {
      "text/plain": [
       "(3, 2)"
      ]
     },
     "execution_count": 32,
     "metadata": {},
     "output_type": "execute_result"
    }
   ],
   "source": [
    "light_spots = np.array((img > 0.69).nonzero()).T\n",
    "light_spots.shape"
   ]
  },
  {
   "cell_type": "code",
   "execution_count": 33,
   "metadata": {
    "slideshow": {
     "slide_type": "fragment"
    }
   },
   "outputs": [
    {
     "data": {
      "text/plain": [
       "Text(0.5,1,'light spots in image')"
      ]
     },
     "execution_count": 33,
     "metadata": {},
     "output_type": "execute_result"
    },
    {
     "data": {
      "image/png": "[encoded data removed]",
      "text/plain": [
       "<matplotlib.figure.Figure at 0x1ec215e3470>"
      ]
     },
     "metadata": {},
     "output_type": "display_data"
    }
   ],
   "source": [
    "plt.plot(light_spots[:, 1], light_spots[:, 0], 'o')\n",
    "plt.imshow(img)\n",
    "plt.title('light spots in image')"
   ]
  },
  {
   "cell_type": "code",
   "execution_count": 34,
   "metadata": {
    "slideshow": {
     "slide_type": "slide"
    }
   },
   "outputs": [
    {
     "data": {
      "text/plain": [
       "Text(0.5,1,'dark spots in image')"
      ]
     },
     "execution_count": 34,
     "metadata": {},
     "output_type": "execute_result"
    },
    {
     "data": {
      "image/png": "[encoded data removed]",
      "text/plain": [
       "<matplotlib.figure.Figure at 0x1ec213cebe0>"
      ]
     },
     "metadata": {},
     "output_type": "display_data"
    }
   ],
   "source": [
    "dark_spots = np.array((img < 0.250).nonzero()).T\n",
    "dark_spots.shape\n",
    "plt.plot(dark_spots[:, 1], dark_spots[:, 0], 'o')\n",
    "plt.imshow(img)\n",
    "plt.title('dark spots in image')"
   ]
  },
  {
   "cell_type": "code",
   "execution_count": 35,
   "metadata": {
    "slideshow": {
     "slide_type": "subslide"
    }
   },
   "outputs": [
    {
     "data": {
      "text/plain": [
       "4"
      ]
     },
     "execution_count": 35,
     "metadata": {},
     "output_type": "execute_result"
    }
   ],
   "source": [
    "import numpy as np\n",
    "from scipy import ndimage as ndi\n",
    "bool_mask = numpy.zeros((32,32),numpy.float)\n",
    "bool_mask[tuple(light_spots.T)] = True\n",
    "bool_mask[tuple(dark_spots.T)] = True\n",
    "seed_mask, num_seeds = ndi.label(bool_mask)\n",
    "num_seeds"
   ]
  },
  {
   "cell_type": "code",
   "execution_count": 36,
   "metadata": {
    "slideshow": {
     "slide_type": "slide"
    }
   },
   "outputs": [
    {
     "data": {
      "text/plain": [
       "<matplotlib.image.AxesImage at 0x1ec21a91668>"
      ]
     },
     "execution_count": 36,
     "metadata": {},
     "output_type": "execute_result"
    },
    {
     "data": {
      "image/png": "[encoded data removed]",
      "text/plain": [
       "<matplotlib.figure.Figure at 0x1ec213ce6d8>"
      ]
     },
     "metadata": {},
     "output_type": "display_data"
    }
   ],
   "source": [
    "from skimage import morphology\n",
    "ws = morphology.watershed(blurred, seed_mask)\n",
    "plt.imshow(ws)"
   ]
  },
  {
   "cell_type": "code",
   "execution_count": 40,
   "metadata": {
    "slideshow": {
     "slide_type": "slide"
    }
   },
   "outputs": [
    {
     "data": {
      "image/png": "[encoded data removed]",
      "text/plain": [
       "<matplotlib.figure.Figure at 0x1fc63a67da0>"
      ]
     },
     "metadata": {},
     "output_type": "display_data"
    }
   ],
   "source": [
    "image = img\n",
    "image_gray = rgb2gray(img)\n",
    "blobs_log = blob_log(image_gray, max_sigma=40, num_sigma=20, threshold=.1)\n",
    "\n",
    "# Compute radii in the 3rd column.\n",
    "blobs_log[:, 2] = blobs_log[:, 2] * sqrt(2)\n",
    "\n",
    "blobs_dog = blob_dog(image_gray, max_sigma=50, threshold=.15)\n",
    "blobs_dog[:, 2] = blobs_dog[:, 2] * sqrt(2)\n",
    "\n",
    "blobs_doh = blob_doh(image_gray, max_sigma=50, threshold=.01)\n",
    "\n",
    "blobs_list = [blobs_log, blobs_dog, blobs_doh]\n",
    "colors = ['yellow', 'lime', 'red']\n",
    "titles = ['Blobs 1', 'Blobs 2',\n",
    "          'Blobs 3']\n",
    "sequence = zip(blobs_list, colors, titles)\n",
    "\n",
    "fig, axes = plt.subplots(1, 3, figsize=(9, 3), sharex=True, sharey=True,\n",
    "                         subplot_kw={'adjustable': 'box-forced'})\n",
    "ax = axes.ravel()\n",
    "\n",
    "for idx, (blobs, color, title) in enumerate(sequence):\n",
    "    ax[idx].set_title(title)\n",
    "    ax[idx].imshow(image, interpolation='nearest')\n",
    "    for blob in blobs:\n",
    "        y, x, r = blob\n",
    "        c = plt.Circle((x, y), r, color=color, linewidth=2, fill=False)\n",
    "        ax[idx].add_patch(c)\n",
    "    ax[idx].set_axis_off()\n",
    "\n",
    "plt.tight_layout()\n",
    "plt.show()"
   ]
  },
  {
   "cell_type": "code",
   "execution_count": 120,
   "metadata": {
    "collapsed": true,
    "slideshow": {
     "slide_type": "slide"
    }
   },
   "outputs": [],
   "source": [
    "from keras.models import Sequential\n",
    "from keras.layers import Dense, Conv2D, MaxPooling2D, Dropout, Flatten\n",
    " \n",
    "def createModel():\n",
    "    model = Sequential()\n",
    "    model.add(Conv2D(32, (3, 3), padding='same', activation='relu', input_shape=input_shape))\n",
    "    model.add(Conv2D(32, (3, 3), activation='relu'))\n",
    "    model.add(MaxPooling2D(pool_size=(2, 2)))\n",
    "    model.add(Dropout(0.25))\n",
    " \n",
    "    model.add(Conv2D(64, (3, 3), padding='same', activation='relu'))\n",
    "    model.add(Conv2D(64, (3, 3), activation='relu'))\n",
    "    model.add(MaxPooling2D(pool_size=(2, 2)))\n",
    "    model.add(Dropout(0.25))\n",
    " \n",
    "    model.add(Conv2D(64, (3, 3), padding='same', activation='relu'))\n",
    "    model.add(Conv2D(64, (3, 3), activation='relu'))\n",
    "    model.add(MaxPooling2D(pool_size=(2, 2)))\n",
    "    model.add(Dropout(0.25))\n",
    " \n",
    "    model.add(Flatten())\n",
    "    model.add(Dense(512, activation='relu'))\n",
    "    model.add(Dropout(0.5))\n",
    "    model.add(Dense(nClasses, activation='softmax'))\n",
    "     \n",
    "    return model"
   ]
  },
  {
   "cell_type": "code",
   "execution_count": 144,
   "metadata": {
    "slideshow": {
     "slide_type": "slide"
    }
   },
   "outputs": [
    {
     "data": {
      "text/html": [
       "<div>\n",
       "<style>\n",
       "    .dataframe thead tr:only-child th {\n",
       "        text-align: right;\n",
       "    }\n",
       "\n",
       "    .dataframe thead th {\n",
       "        text-align: left;\n",
       "    }\n",
       "\n",
       "    .dataframe tbody tr th {\n",
       "        vertical-align: top;\n",
       "    }\n",
       "</style>\n",
       "<table border=\"1\" class=\"dataframe\">\n",
       "  <thead>\n",
       "    <tr style=\"text-align: right;\">\n",
       "      <th></th>\n",
       "      <th>id</th>\n",
       "      <th>path</th>\n",
       "      <th>label_airplane</th>\n",
       "      <th>label_automobile</th>\n",
       "      <th>label_bird</th>\n",
       "      <th>label_cat</th>\n",
       "      <th>label_deer</th>\n",
       "      <th>label_dog</th>\n",
       "      <th>label_frog</th>\n",
       "      <th>label_horse</th>\n",
       "      <th>label_ship</th>\n",
       "      <th>label_truck</th>\n",
       "    </tr>\n",
       "  </thead>\n",
       "  <tbody>\n",
       "    <tr>\n",
       "      <th>0</th>\n",
       "      <td>1</td>\n",
       "      <td>1.png</td>\n",
       "      <td>0</td>\n",
       "      <td>0</td>\n",
       "      <td>0</td>\n",
       "      <td>0</td>\n",
       "      <td>0</td>\n",
       "      <td>0</td>\n",
       "      <td>1</td>\n",
       "      <td>0</td>\n",
       "      <td>0</td>\n",
       "      <td>0</td>\n",
       "    </tr>\n",
       "    <tr>\n",
       "      <th>1</th>\n",
       "      <td>2</td>\n",
       "      <td>2.png</td>\n",
       "      <td>0</td>\n",
       "      <td>0</td>\n",
       "      <td>0</td>\n",
       "      <td>0</td>\n",
       "      <td>0</td>\n",
       "      <td>0</td>\n",
       "      <td>0</td>\n",
       "      <td>0</td>\n",
       "      <td>0</td>\n",
       "      <td>1</td>\n",
       "    </tr>\n",
       "    <tr>\n",
       "      <th>2</th>\n",
       "      <td>3</td>\n",
       "      <td>3.png</td>\n",
       "      <td>0</td>\n",
       "      <td>0</td>\n",
       "      <td>0</td>\n",
       "      <td>0</td>\n",
       "      <td>0</td>\n",
       "      <td>0</td>\n",
       "      <td>0</td>\n",
       "      <td>0</td>\n",
       "      <td>0</td>\n",
       "      <td>1</td>\n",
       "    </tr>\n",
       "    <tr>\n",
       "      <th>3</th>\n",
       "      <td>4</td>\n",
       "      <td>4.png</td>\n",
       "      <td>0</td>\n",
       "      <td>0</td>\n",
       "      <td>0</td>\n",
       "      <td>0</td>\n",
       "      <td>1</td>\n",
       "      <td>0</td>\n",
       "      <td>0</td>\n",
       "      <td>0</td>\n",
       "      <td>0</td>\n",
       "      <td>0</td>\n",
       "    </tr>\n",
       "    <tr>\n",
       "      <th>4</th>\n",
       "      <td>5</td>\n",
       "      <td>5.png</td>\n",
       "      <td>0</td>\n",
       "      <td>1</td>\n",
       "      <td>0</td>\n",
       "      <td>0</td>\n",
       "      <td>0</td>\n",
       "      <td>0</td>\n",
       "      <td>0</td>\n",
       "      <td>0</td>\n",
       "      <td>0</td>\n",
       "      <td>0</td>\n",
       "    </tr>\n",
       "  </tbody>\n",
       "</table>\n",
       "</div>"
      ],
      "text/plain": [
       "   id   path  label_airplane  label_automobile  label_bird  label_cat  \\\n",
       "0   1  1.png               0                 0           0          0   \n",
       "1   2  2.png               0                 0           0          0   \n",
       "2   3  3.png               0                 0           0          0   \n",
       "3   4  4.png               0                 0           0          0   \n",
       "4   5  5.png               0                 1           0          0   \n",
       "\n",
       "   label_deer  label_dog  label_frog  label_horse  label_ship  label_truck  \n",
       "0           0          0           1            0           0            0  \n",
       "1           0          0           0            0           0            1  \n",
       "2           0          0           0            0           0            1  \n",
       "3           1          0           0            0           0            0  \n",
       "4           0          0           0            0           0            0  "
      ]
     },
     "execution_count": 144,
     "metadata": {},
     "output_type": "execute_result"
    }
   ],
   "source": [
    "from sklearn.model_selection import train_test_split\n",
    "batch_size = 500\n",
    "train_size = 0.8\n",
    "one_hot_trainlabs = pd.get_dummies(data=trainlabs, columns=['label'])\n",
    "one_hot_trainlabs.head(n=5)"
   ]
  },
  {
   "cell_type": "code",
   "execution_count": 143,
   "metadata": {
    "slideshow": {
     "slide_type": "slide"
    }
   },
   "outputs": [
    {
     "data": {
      "text/html": [
       "<div>\n",
       "<style>\n",
       "    .dataframe thead tr:only-child th {\n",
       "        text-align: right;\n",
       "    }\n",
       "\n",
       "    .dataframe thead th {\n",
       "        text-align: left;\n",
       "    }\n",
       "\n",
       "    .dataframe tbody tr th {\n",
       "        vertical-align: top;\n",
       "    }\n",
       "</style>\n",
       "<table border=\"1\" class=\"dataframe\">\n",
       "  <thead>\n",
       "    <tr style=\"text-align: right;\">\n",
       "      <th></th>\n",
       "      <th>id</th>\n",
       "      <th>path</th>\n",
       "      <th>label_airplane</th>\n",
       "      <th>label_automobile</th>\n",
       "      <th>label_bird</th>\n",
       "      <th>label_cat</th>\n",
       "      <th>label_deer</th>\n",
       "      <th>label_dog</th>\n",
       "      <th>label_frog</th>\n",
       "      <th>label_horse</th>\n",
       "      <th>label_ship</th>\n",
       "      <th>label_truck</th>\n",
       "    </tr>\n",
       "  </thead>\n",
       "  <tbody>\n",
       "    <tr>\n",
       "      <th>34358</th>\n",
       "      <td>34359</td>\n",
       "      <td>34359.png</td>\n",
       "      <td>0</td>\n",
       "      <td>1</td>\n",
       "      <td>0</td>\n",
       "      <td>0</td>\n",
       "      <td>0</td>\n",
       "      <td>0</td>\n",
       "      <td>0</td>\n",
       "      <td>0</td>\n",
       "      <td>0</td>\n",
       "      <td>0</td>\n",
       "    </tr>\n",
       "    <tr>\n",
       "      <th>34586</th>\n",
       "      <td>34587</td>\n",
       "      <td>34587.png</td>\n",
       "      <td>0</td>\n",
       "      <td>0</td>\n",
       "      <td>0</td>\n",
       "      <td>0</td>\n",
       "      <td>0</td>\n",
       "      <td>0</td>\n",
       "      <td>0</td>\n",
       "      <td>0</td>\n",
       "      <td>0</td>\n",
       "      <td>1</td>\n",
       "    </tr>\n",
       "    <tr>\n",
       "      <th>12045</th>\n",
       "      <td>12046</td>\n",
       "      <td>12046.png</td>\n",
       "      <td>0</td>\n",
       "      <td>0</td>\n",
       "      <td>0</td>\n",
       "      <td>1</td>\n",
       "      <td>0</td>\n",
       "      <td>0</td>\n",
       "      <td>0</td>\n",
       "      <td>0</td>\n",
       "      <td>0</td>\n",
       "      <td>0</td>\n",
       "    </tr>\n",
       "    <tr>\n",
       "      <th>21050</th>\n",
       "      <td>21051</td>\n",
       "      <td>21051.png</td>\n",
       "      <td>0</td>\n",
       "      <td>0</td>\n",
       "      <td>0</td>\n",
       "      <td>0</td>\n",
       "      <td>0</td>\n",
       "      <td>0</td>\n",
       "      <td>0</td>\n",
       "      <td>0</td>\n",
       "      <td>1</td>\n",
       "      <td>0</td>\n",
       "    </tr>\n",
       "    <tr>\n",
       "      <th>9875</th>\n",
       "      <td>9876</td>\n",
       "      <td>9876.png</td>\n",
       "      <td>0</td>\n",
       "      <td>0</td>\n",
       "      <td>0</td>\n",
       "      <td>0</td>\n",
       "      <td>0</td>\n",
       "      <td>1</td>\n",
       "      <td>0</td>\n",
       "      <td>0</td>\n",
       "      <td>0</td>\n",
       "      <td>0</td>\n",
       "    </tr>\n",
       "  </tbody>\n",
       "</table>\n",
       "</div>"
      ],
      "text/plain": [
       "          id       path  label_airplane  label_automobile  label_bird  \\\n",
       "34358  34359  34359.png               0                 1           0   \n",
       "34586  34587  34587.png               0                 0           0   \n",
       "12045  12046  12046.png               0                 0           0   \n",
       "21050  21051  21051.png               0                 0           0   \n",
       "9875    9876   9876.png               0                 0           0   \n",
       "\n",
       "       label_cat  label_deer  label_dog  label_frog  label_horse  label_ship  \\\n",
       "34358          0           0          0           0            0           0   \n",
       "34586          0           0          0           0            0           0   \n",
       "12045          1           0          0           0            0           0   \n",
       "21050          0           0          0           0            0           1   \n",
       "9875           0           0          1           0            0           0   \n",
       "\n",
       "       label_truck  \n",
       "34358            0  \n",
       "34586            1  \n",
       "12045            0  \n",
       "21050            0  \n",
       "9875             0  "
      ]
     },
     "execution_count": 143,
     "metadata": {},
     "output_type": "execute_result"
    }
   ],
   "source": [
    "def batch(batch_size):\n",
    "    num_images = len(images)\n",
    "    idx= np.random.choice(num_images, size = batch_size, replace=False)\n",
    "    batch = one_hot_trainlabs.iloc[idx]\n",
    "    train, test = train_test_split(batch, test_size=0.2)\n",
    "    return train, test\n",
    "train, test = batch(500)\n",
    "train.head(n=5)"
   ]
  },
  {
   "cell_type": "code",
   "execution_count": 137,
   "metadata": {
    "collapsed": true,
    "slideshow": {
     "slide_type": "subslide"
    }
   },
   "outputs": [],
   "source": [
    "train_images_path =  imagepath + '\\\\' + train[\"path\"]\n",
    "test_images_path = imagepath + '\\\\' + test[\"path\"]"
   ]
  },
  {
   "cell_type": "code",
   "execution_count": 148,
   "metadata": {
    "slideshow": {
     "slide_type": "slide"
    }
   },
   "outputs": [
    {
     "data": {
      "text/plain": [
       "list"
      ]
     },
     "execution_count": 148,
     "metadata": {},
     "output_type": "execute_result"
    }
   ],
   "source": [
    "train_images_list = train_images_path.tolist()\n",
    "test_images_list = test_images_path.tolist()\n",
    "train_images = [] \n",
    "test_images = []\n",
    "for im in train_images_list:\n",
    "        train_image = cv2.imread(im) \n",
    "        train_images.append(train_image)\n",
    "for im in test_images_list:\n",
    "        test_image = cv2.imread(im) \n",
    "        test_images.append(test_image)\n",
    "type(test_images)"
   ]
  },
  {
   "cell_type": "code",
   "execution_count": 149,
   "metadata": {
    "collapsed": true,
    "slideshow": {
     "slide_type": "subslide"
    }
   },
   "outputs": [],
   "source": [
    "train_data = np.array(train_images)\n",
    "train_labels_one_hot = train.iloc[:,2:12]\n",
    "test_data = np.array(test_images)\n",
    "test_labels_one_hot = test.iloc[:,2:12]\n"
   ]
  },
  {
   "cell_type": "code",
   "execution_count": 151,
   "metadata": {
    "slideshow": {
     "slide_type": "slide"
    }
   },
   "outputs": [
    {
     "name": "stdout",
     "output_type": "stream",
     "text": [
      "Train on 400 samples, validate on 100 samples\n",
      "Epoch 1/100\n",
      "400/400 [==============================] - 6s 16ms/step - loss: 13.1150 - acc: 0.0925 - val_loss: 11.4834 - val_acc: 0.0900\n",
      "Epoch 2/100\n",
      "400/400 [==============================] - 4s 10ms/step - loss: 13.4779 - acc: 0.0950 - val_loss: 11.0512 - val_acc: 0.1400\n",
      "Epoch 3/100\n",
      "400/400 [==============================] - 4s 9ms/step - loss: 12.9455 - acc: 0.1050 - val_loss: 3.6860 - val_acc: 0.0800\n",
      "Epoch 4/100\n",
      "400/400 [==============================] - 4s 9ms/step - loss: 7.6715 - acc: 0.0650 - val_loss: 2.5074 - val_acc: 0.0800\n",
      "Epoch 5/100\n",
      "400/400 [==============================] - 4s 9ms/step - loss: 3.2016 - acc: 0.0850 - val_loss: 2.2887 - val_acc: 0.0900\n",
      "Epoch 6/100\n",
      "400/400 [==============================] - 4s 9ms/step - loss: 2.3888 - acc: 0.0975 - val_loss: 2.2843 - val_acc: 0.1600\n",
      "Epoch 7/100\n",
      "400/400 [==============================] - 4s 10ms/step - loss: 2.3462 - acc: 0.0750 - val_loss: 2.2874 - val_acc: 0.1300\n",
      "Epoch 8/100\n",
      "400/400 [==============================] - 4s 9ms/step - loss: 2.3294 - acc: 0.0800 - val_loss: 2.2879 - val_acc: 0.1700\n",
      "Epoch 9/100\n",
      "400/400 [==============================] - 4s 10ms/step - loss: 2.3216 - acc: 0.0775 - val_loss: 2.2911 - val_acc: 0.1700\n",
      "Epoch 10/100\n",
      "400/400 [==============================] - 4s 10ms/step - loss: 2.3005 - acc: 0.1025 - val_loss: 2.2923 - val_acc: 0.1000\n",
      "Epoch 11/100\n",
      "400/400 [==============================] - 4s 10ms/step - loss: 2.3046 - acc: 0.1125 - val_loss: 2.2915 - val_acc: 0.1100\n",
      "Epoch 12/100\n",
      "400/400 [==============================] - 4s 10ms/step - loss: 2.3025 - acc: 0.1150 - val_loss: 2.2954 - val_acc: 0.1100\n",
      "Epoch 13/100\n",
      "400/400 [==============================] - 4s 10ms/step - loss: 2.3137 - acc: 0.1050 - val_loss: 2.2944 - val_acc: 0.1300\n",
      "Epoch 14/100\n",
      "400/400 [==============================] - 4s 10ms/step - loss: 2.2921 - acc: 0.1375 - val_loss: 2.2905 - val_acc: 0.1400\n",
      "Epoch 15/100\n",
      "400/400 [==============================] - 4s 10ms/step - loss: 2.2975 - acc: 0.1350 - val_loss: 2.2936 - val_acc: 0.1700\n",
      "Epoch 16/100\n",
      "400/400 [==============================] - 4s 9ms/step - loss: 2.3010 - acc: 0.1075 - val_loss: 2.2962 - val_acc: 0.1500\n",
      "Epoch 17/100\n",
      "400/400 [==============================] - 4s 9ms/step - loss: 2.3010 - acc: 0.1225 - val_loss: 2.2970 - val_acc: 0.1600\n",
      "Epoch 18/100\n",
      "400/400 [==============================] - 4s 9ms/step - loss: 2.3049 - acc: 0.1025 - val_loss: 2.2953 - val_acc: 0.1500\n",
      "Epoch 19/100\n",
      "400/400 [==============================] - 4s 9ms/step - loss: 2.3054 - acc: 0.1225 - val_loss: 2.2988 - val_acc: 0.1300\n",
      "Epoch 20/100\n",
      "400/400 [==============================] - 4s 9ms/step - loss: 2.3083 - acc: 0.0850 - val_loss: 2.2974 - val_acc: 0.1200\n",
      "Epoch 21/100\n",
      "400/400 [==============================] - 4s 9ms/step - loss: 2.3042 - acc: 0.1050 - val_loss: 2.2967 - val_acc: 0.1200\n",
      "Epoch 22/100\n",
      "400/400 [==============================] - 4s 10ms/step - loss: 2.2904 - acc: 0.1375 - val_loss: 2.2975 - val_acc: 0.0700\n",
      "Epoch 23/100\n",
      "400/400 [==============================] - 4s 9ms/step - loss: 2.2877 - acc: 0.1150 - val_loss: 2.3000 - val_acc: 0.1000\n",
      "Epoch 24/100\n",
      "400/400 [==============================] - 4s 11ms/step - loss: 2.2782 - acc: 0.1425 - val_loss: 2.2986 - val_acc: 0.0900\n",
      "Epoch 25/100\n",
      "400/400 [==============================] - 4s 11ms/step - loss: 2.2801 - acc: 0.1500 - val_loss: 2.3008 - val_acc: 0.0900\n",
      "Epoch 26/100\n",
      "400/400 [==============================] - 4s 10ms/step - loss: 2.2825 - acc: 0.1325 - val_loss: 2.3025 - val_acc: 0.0500\n",
      "Epoch 27/100\n",
      "400/400 [==============================] - 4s 11ms/step - loss: 2.2910 - acc: 0.1325 - val_loss: 2.3000 - val_acc: 0.1100\n",
      "Epoch 28/100\n",
      "400/400 [==============================] - 5s 12ms/step - loss: 2.2819 - acc: 0.1200 - val_loss: 2.2991 - val_acc: 0.1400\n",
      "Epoch 29/100\n",
      "400/400 [==============================] - 4s 11ms/step - loss: 2.2863 - acc: 0.1325 - val_loss: 2.2929 - val_acc: 0.1200\n",
      "Epoch 30/100\n",
      "400/400 [==============================] - 4s 10ms/step - loss: 2.2811 - acc: 0.1250 - val_loss: 2.3112 - val_acc: 0.0500\n",
      "Epoch 31/100\n",
      "400/400 [==============================] - 4s 10ms/step - loss: 2.3036 - acc: 0.1275 - val_loss: 2.2966 - val_acc: 0.1400\n",
      "Epoch 32/100\n",
      "400/400 [==============================] - 4s 10ms/step - loss: 2.2783 - acc: 0.1225 - val_loss: 2.3008 - val_acc: 0.1000\n",
      "Epoch 33/100\n",
      "400/400 [==============================] - 4s 10ms/step - loss: 2.2908 - acc: 0.1050 - val_loss: 2.3018 - val_acc: 0.1000\n",
      "Epoch 34/100\n",
      "400/400 [==============================] - 4s 10ms/step - loss: 2.3013 - acc: 0.1075 - val_loss: 2.2943 - val_acc: 0.1200\n",
      "Epoch 35/100\n",
      "400/400 [==============================] - 4s 10ms/step - loss: 2.2911 - acc: 0.1175 - val_loss: 2.2954 - val_acc: 0.1100\n",
      "Epoch 36/100\n",
      "400/400 [==============================] - 3s 9ms/step - loss: 2.2869 - acc: 0.1350 - val_loss: 2.2922 - val_acc: 0.1400\n",
      "Epoch 37/100\n",
      "400/400 [==============================] - 4s 9ms/step - loss: 2.2766 - acc: 0.1300 - val_loss: 2.2880 - val_acc: 0.1300\n",
      "Epoch 38/100\n",
      "400/400 [==============================] - 4s 9ms/step - loss: 2.2753 - acc: 0.1450 - val_loss: 2.2985 - val_acc: 0.1400\n",
      "Epoch 39/100\n",
      "400/400 [==============================] - 4s 10ms/step - loss: 2.2776 - acc: 0.1475 - val_loss: 2.2939 - val_acc: 0.1500\n",
      "Epoch 40/100\n",
      "400/400 [==============================] - 4s 10ms/step - loss: 2.2845 - acc: 0.1300 - val_loss: 2.2993 - val_acc: 0.1800\n",
      "Epoch 41/100\n",
      "400/400 [==============================] - 4s 9ms/step - loss: 2.2917 - acc: 0.1350 - val_loss: 2.3008 - val_acc: 0.1200\n",
      "Epoch 42/100\n",
      "400/400 [==============================] - 4s 10ms/step - loss: 2.2687 - acc: 0.1525 - val_loss: 2.3127 - val_acc: 0.1200\n",
      "Epoch 43/100\n",
      "400/400 [==============================] - 4s 10ms/step - loss: 2.2906 - acc: 0.1100 - val_loss: 2.2922 - val_acc: 0.1600\n",
      "Epoch 44/100\n",
      "400/400 [==============================] - 4s 10ms/step - loss: 2.2698 - acc: 0.1400 - val_loss: 2.3078 - val_acc: 0.1900\n",
      "Epoch 45/100\n",
      "400/400 [==============================] - 4s 10ms/step - loss: 2.2858 - acc: 0.1200 - val_loss: 2.2941 - val_acc: 0.1600\n",
      "Epoch 46/100\n",
      "400/400 [==============================] - 4s 10ms/step - loss: 2.2517 - acc: 0.1575 - val_loss: 2.3002 - val_acc: 0.1600\n",
      "Epoch 47/100\n",
      "400/400 [==============================] - 4s 10ms/step - loss: 2.2708 - acc: 0.1450 - val_loss: 2.3042 - val_acc: 0.1500\n",
      "Epoch 48/100\n",
      "400/400 [==============================] - 4s 9ms/step - loss: 2.2540 - acc: 0.1675 - val_loss: 2.3093 - val_acc: 0.1400\n",
      "Epoch 49/100\n",
      "400/400 [==============================] - 4s 9ms/step - loss: 2.2522 - acc: 0.1700 - val_loss: 2.3052 - val_acc: 0.1400\n",
      "Epoch 50/100\n",
      "400/400 [==============================] - 4s 10ms/step - loss: 2.2414 - acc: 0.1725 - val_loss: 2.3023 - val_acc: 0.1500\n",
      "Epoch 51/100\n",
      "400/400 [==============================] - 4s 9ms/step - loss: 2.2324 - acc: 0.1575 - val_loss: 2.3065 - val_acc: 0.1200\n",
      "Epoch 52/100\n",
      "400/400 [==============================] - 4s 10ms/step - loss: 2.2279 - acc: 0.1725 - val_loss: 2.3043 - val_acc: 0.1200\n",
      "Epoch 53/100\n",
      "400/400 [==============================] - 4s 10ms/step - loss: 2.2584 - acc: 0.1350 - val_loss: 2.3139 - val_acc: 0.1300\n",
      "Epoch 54/100\n",
      "400/400 [==============================] - 4s 9ms/step - loss: 2.2802 - acc: 0.1275 - val_loss: 2.3226 - val_acc: 0.1100\n",
      "Epoch 55/100\n",
      "400/400 [==============================] - 4s 9ms/step - loss: 2.2777 - acc: 0.1375 - val_loss: 2.2932 - val_acc: 0.1400\n",
      "Epoch 56/100\n",
      "400/400 [==============================] - 4s 9ms/step - loss: 2.2350 - acc: 0.1550 - val_loss: 2.2944 - val_acc: 0.1500\n",
      "Epoch 57/100\n",
      "400/400 [==============================] - 4s 9ms/step - loss: 2.2265 - acc: 0.1650 - val_loss: 2.2999 - val_acc: 0.1400\n",
      "Epoch 58/100\n",
      "400/400 [==============================] - 4s 9ms/step - loss: 2.2156 - acc: 0.1450 - val_loss: 2.3113 - val_acc: 0.1700\n",
      "Epoch 59/100\n",
      "400/400 [==============================] - 4s 9ms/step - loss: 2.2031 - acc: 0.1650 - val_loss: 2.3091 - val_acc: 0.1300\n",
      "Epoch 60/100\n",
      "400/400 [==============================] - 4s 9ms/step - loss: 2.2144 - acc: 0.1475 - val_loss: 2.3141 - val_acc: 0.1400\n",
      "Epoch 61/100\n",
      "400/400 [==============================] - 4s 10ms/step - loss: 2.2148 - acc: 0.2000 - val_loss: 2.3266 - val_acc: 0.0700\n"
     ]
    },
    {
     "name": "stdout",
     "output_type": "stream",
     "text": [
      "Epoch 62/100\n",
      "400/400 [==============================] - 4s 9ms/step - loss: 2.3752 - acc: 0.1375 - val_loss: 2.3323 - val_acc: 0.1200\n",
      "Epoch 63/100\n",
      "400/400 [==============================] - 4s 9ms/step - loss: 2.2684 - acc: 0.1300 - val_loss: 2.3013 - val_acc: 0.1100\n",
      "Epoch 64/100\n",
      "400/400 [==============================] - 4s 10ms/step - loss: 2.2446 - acc: 0.1550 - val_loss: 2.3020 - val_acc: 0.1800\n",
      "Epoch 65/100\n",
      "400/400 [==============================] - 4s 10ms/step - loss: 2.2043 - acc: 0.1950 - val_loss: 2.3176 - val_acc: 0.1600\n",
      "Epoch 66/100\n",
      "400/400 [==============================] - 4s 10ms/step - loss: 2.2055 - acc: 0.1725 - val_loss: 2.3112 - val_acc: 0.1800\n",
      "Epoch 67/100\n",
      "400/400 [==============================] - 4s 9ms/step - loss: 2.1845 - acc: 0.1650 - val_loss: 2.3469 - val_acc: 0.1400\n",
      "Epoch 68/100\n",
      "400/400 [==============================] - 4s 9ms/step - loss: 2.2518 - acc: 0.1575 - val_loss: 2.2999 - val_acc: 0.1200\n",
      "Epoch 69/100\n",
      "400/400 [==============================] - 4s 10ms/step - loss: 2.2089 - acc: 0.1875 - val_loss: 2.2953 - val_acc: 0.1400\n",
      "Epoch 70/100\n",
      "400/400 [==============================] - 4s 9ms/step - loss: 2.1646 - acc: 0.1850 - val_loss: 2.3459 - val_acc: 0.1200\n",
      "Epoch 71/100\n",
      "400/400 [==============================] - 4s 10ms/step - loss: 2.1820 - acc: 0.1775 - val_loss: 2.3256 - val_acc: 0.1600\n",
      "Epoch 72/100\n",
      "400/400 [==============================] - 4s 9ms/step - loss: 2.2032 - acc: 0.1700 - val_loss: 2.3521 - val_acc: 0.1700\n",
      "Epoch 73/100\n",
      "400/400 [==============================] - 4s 9ms/step - loss: 2.1906 - acc: 0.1925 - val_loss: 2.3063 - val_acc: 0.1600\n",
      "Epoch 74/100\n",
      "400/400 [==============================] - 4s 9ms/step - loss: 2.1030 - acc: 0.2500 - val_loss: 2.3700 - val_acc: 0.1300\n",
      "Epoch 75/100\n",
      "400/400 [==============================] - 4s 10ms/step - loss: 2.1226 - acc: 0.2275 - val_loss: 2.3335 - val_acc: 0.1300\n",
      "Epoch 76/100\n",
      "400/400 [==============================] - 4s 9ms/step - loss: 2.2077 - acc: 0.1950 - val_loss: 2.3161 - val_acc: 0.1500\n",
      "Epoch 77/100\n",
      "400/400 [==============================] - 4s 10ms/step - loss: 2.1609 - acc: 0.1975 - val_loss: 2.3774 - val_acc: 0.0800\n",
      "Epoch 78/100\n",
      "400/400 [==============================] - 4s 9ms/step - loss: 2.0878 - acc: 0.2300 - val_loss: 2.3311 - val_acc: 0.1400\n",
      "Epoch 79/100\n",
      "400/400 [==============================] - 4s 10ms/step - loss: 2.0956 - acc: 0.2200 - val_loss: 2.3830 - val_acc: 0.1700\n",
      "Epoch 80/100\n",
      "400/400 [==============================] - 4s 9ms/step - loss: 2.0957 - acc: 0.2150 - val_loss: 2.3502 - val_acc: 0.1000\n",
      "Epoch 81/100\n",
      "400/400 [==============================] - 4s 9ms/step - loss: 2.1259 - acc: 0.2300 - val_loss: 2.3733 - val_acc: 0.1300\n",
      "Epoch 82/100\n",
      "400/400 [==============================] - 4s 10ms/step - loss: 2.0303 - acc: 0.2350 - val_loss: 2.4357 - val_acc: 0.0900\n",
      "Epoch 83/100\n",
      "400/400 [==============================] - 4s 9ms/step - loss: 2.2045 - acc: 0.1775 - val_loss: 2.3564 - val_acc: 0.1600\n",
      "Epoch 84/100\n",
      "400/400 [==============================] - 4s 9ms/step - loss: 2.0942 - acc: 0.2150 - val_loss: 2.3827 - val_acc: 0.0800\n",
      "Epoch 85/100\n",
      "400/400 [==============================] - 4s 9ms/step - loss: 2.0315 - acc: 0.2700 - val_loss: 2.4410 - val_acc: 0.1200\n",
      "Epoch 86/100\n",
      "400/400 [==============================] - 4s 9ms/step - loss: 2.0471 - acc: 0.2650 - val_loss: 2.3229 - val_acc: 0.1400\n",
      "Epoch 87/100\n",
      "400/400 [==============================] - 4s 9ms/step - loss: 2.1239 - acc: 0.1975 - val_loss: 2.3591 - val_acc: 0.1400\n",
      "Epoch 88/100\n",
      "400/400 [==============================] - 4s 9ms/step - loss: 1.9784 - acc: 0.2675 - val_loss: 2.4994 - val_acc: 0.1300\n",
      "Epoch 89/100\n",
      "400/400 [==============================] - 4s 9ms/step - loss: 1.9359 - acc: 0.2825 - val_loss: 2.4074 - val_acc: 0.1400\n",
      "Epoch 90/100\n",
      "400/400 [==============================] - 4s 9ms/step - loss: 1.9276 - acc: 0.3100 - val_loss: 2.5077 - val_acc: 0.1300\n",
      "Epoch 91/100\n",
      "400/400 [==============================] - 4s 9ms/step - loss: 1.9587 - acc: 0.2675 - val_loss: 2.4858 - val_acc: 0.0900\n",
      "Epoch 92/100\n",
      "400/400 [==============================] - 4s 9ms/step - loss: 1.9925 - acc: 0.2925 - val_loss: 2.4548 - val_acc: 0.1200\n",
      "Epoch 93/100\n",
      "400/400 [==============================] - 4s 9ms/step - loss: 1.9981 - acc: 0.2825 - val_loss: 2.4677 - val_acc: 0.1800\n",
      "Epoch 94/100\n",
      "400/400 [==============================] - 4s 9ms/step - loss: 1.9227 - acc: 0.2925 - val_loss: 2.5702 - val_acc: 0.1400\n",
      "Epoch 95/100\n",
      "400/400 [==============================] - 4s 9ms/step - loss: 2.0468 - acc: 0.2750 - val_loss: 2.8141 - val_acc: 0.1300\n",
      "Epoch 96/100\n",
      "400/400 [==============================] - 4s 9ms/step - loss: 2.4989 - acc: 0.1975 - val_loss: 2.3632 - val_acc: 0.0700\n",
      "Epoch 97/100\n",
      "400/400 [==============================] - 4s 9ms/step - loss: 2.1434 - acc: 0.2000 - val_loss: 2.3781 - val_acc: 0.0900\n",
      "Epoch 98/100\n",
      "400/400 [==============================] - 4s 9ms/step - loss: 2.0686 - acc: 0.2775 - val_loss: 2.3945 - val_acc: 0.1000\n",
      "Epoch 99/100\n",
      "400/400 [==============================] - 4s 9ms/step - loss: 1.9603 - acc: 0.3075 - val_loss: 2.4685 - val_acc: 0.0700\n",
      "Epoch 100/100\n",
      "400/400 [==============================] - 4s 9ms/step - loss: 1.8712 - acc: 0.3200 - val_loss: 2.4260 - val_acc: 0.1400\n",
      "100/100 [==============================] - 0s 3ms/step\n"
     ]
    },
    {
     "data": {
      "text/plain": [
       "[2.4259804916381835, 0.14000000000000001]"
      ]
     },
     "execution_count": 151,
     "metadata": {},
     "output_type": "execute_result"
    }
   ],
   "source": [
    "input_shape = (32,32,3)\n",
    "nClasses = 10\n",
    "model1 = createModel()\n",
    "epochs = 100\n",
    "model1.compile(optimizer='rmsprop', loss='categorical_crossentropy', metrics=['accuracy'])\n",
    " \n",
    "history = model1.fit(train_data, train_labels_one_hot, batch_size=batch_size, epochs=epochs, verbose=1, \n",
    "                   validation_data=(test_data, test_labels_one_hot))\n",
    " \n",
    "model1.evaluate(test_data, test_labels_one_hot)"
   ]
  },
  {
   "cell_type": "code",
   "execution_count": 173,
   "metadata": {
    "slideshow": {
     "slide_type": "slide"
    }
   },
   "outputs": [
    {
     "data": {
      "text/plain": [
       "Text(0.5,1,'Accuracy Curves')"
      ]
     },
     "execution_count": 173,
     "metadata": {},
     "output_type": "execute_result"
    },
    {
     "data": {
      "image/png": "[encoded data removed]",
      "text/plain": [
       "<matplotlib.figure.Figure at 0x2b7a83c9828>"
      ]
     },
     "metadata": {},
     "output_type": "display_data"
    },
    {
     "data": {
      "image/png": "[encoded data removed]",
      "text/plain": [
       "<matplotlib.figure.Figure at 0x2b7a7fb97b8>"
      ]
     },
     "metadata": {},
     "output_type": "display_data"
    }
   ],
   "source": [
    "# Loss Curves\n",
    "plt.figure(figsize=[6,4])\n",
    "plt.plot(history.history['loss'],'r',linewidth=1.0)\n",
    "plt.plot(history.history['val_loss'],'b',linewidth=1.0)\n",
    "plt.legend(['Training loss', 'Validation Loss'],fontsize=18)\n",
    "plt.xlabel('Epochs ',fontsize=16)\n",
    "plt.ylabel('Loss',fontsize=16)\n",
    "plt.title('Loss Curves',fontsize=16)\n",
    " \n",
    "# Accuracy Curves\n",
    "plt.figure(figsize=[6,4])\n",
    "plt.plot(history.history['acc'],'r',linewidth=1.0)\n",
    "plt.plot(history.history['val_acc'],'b',linewidth=1.0)\n",
    "plt.legend(['Training Accuracy', 'Validation Accuracy'],fontsize=18)\n",
    "plt.xlabel('Epochs ',fontsize=16)\n",
    "plt.ylabel('Accuracy',fontsize=16)\n",
    "plt.title('Accuracy Curves',fontsize=16)\n"
   ]
  },
  {
   "cell_type": "code",
   "execution_count": 170,
   "metadata": {
    "slideshow": {
     "slide_type": "slide"
    }
   },
   "outputs": [
    {
     "name": "stdout",
     "output_type": "stream",
     "text": [
      "Epoch 1/100\n",
      "2/2 [==============================] - 5s 2s/step - loss: 13.1972 - acc: 0.0858 - val_loss: 7.5209 - val_acc: 0.1000\n",
      "Epoch 2/100\n",
      "2/2 [==============================] - 4s 2s/step - loss: 8.1733 - acc: 0.0997 - val_loss: 2.3147 - val_acc: 0.1500\n",
      "Epoch 3/100\n",
      "2/2 [==============================] - 4s 2s/step - loss: 2.5549 - acc: 0.1060 - val_loss: 2.2957 - val_acc: 0.1000\n",
      "Epoch 4/100\n",
      "2/2 [==============================] - 4s 2s/step - loss: 2.3322 - acc: 0.0964 - val_loss: 2.2988 - val_acc: 0.1100\n",
      "Epoch 5/100\n",
      "2/2 [==============================] - 4s 2s/step - loss: 2.3445 - acc: 0.1027 - val_loss: 2.2956 - val_acc: 0.1400\n",
      "Epoch 6/100\n",
      "2/2 [==============================] - 4s 2s/step - loss: 2.3207 - acc: 0.0984 - val_loss: 2.3021 - val_acc: 0.1200\n",
      "Epoch 7/100\n",
      "2/2 [==============================] - 4s 2s/step - loss: 2.3318 - acc: 0.0921 - val_loss: 2.2973 - val_acc: 0.1300\n",
      "Epoch 8/100\n",
      "2/2 [==============================] - 4s 2s/step - loss: 2.3138 - acc: 0.1239 - val_loss: 2.2976 - val_acc: 0.1300\n",
      "Epoch 9/100\n",
      "2/2 [==============================] - 4s 2s/step - loss: 2.3133 - acc: 0.0879 - val_loss: 2.2977 - val_acc: 0.1000\n",
      "Epoch 10/100\n",
      "2/2 [==============================] - 4s 2s/step - loss: 2.3151 - acc: 0.1111 - val_loss: 2.2996 - val_acc: 0.1300\n",
      "Epoch 11/100\n",
      "2/2 [==============================] - 4s 2s/step - loss: 2.3005 - acc: 0.1153 - val_loss: 2.2974 - val_acc: 0.1300\n",
      "Epoch 12/100\n",
      "2/2 [==============================] - 4s 2s/step - loss: 2.3232 - acc: 0.0888 - val_loss: 2.2976 - val_acc: 0.0900\n",
      "Epoch 13/100\n",
      "2/2 [==============================] - 4s 2s/step - loss: 2.3039 - acc: 0.1112 - val_loss: 2.2950 - val_acc: 0.1300\n",
      "Epoch 14/100\n",
      "2/2 [==============================] - 4s 2s/step - loss: 2.3042 - acc: 0.1069 - val_loss: 2.2918 - val_acc: 0.1500\n",
      "Epoch 15/100\n",
      "2/2 [==============================] - 4s 2s/step - loss: 2.3093 - acc: 0.1197 - val_loss: 2.3008 - val_acc: 0.0900\n",
      "Epoch 16/100\n",
      "2/2 [==============================] - 4s 2s/step - loss: 2.2991 - acc: 0.0934 - val_loss: 2.2974 - val_acc: 0.1400\n",
      "Epoch 17/100\n",
      "2/2 [==============================] - 4s 2s/step - loss: 2.2957 - acc: 0.0955 - val_loss: 2.2971 - val_acc: 0.1300\n",
      "Epoch 18/100\n",
      "2/2 [==============================] - 4s 2s/step - loss: 2.2932 - acc: 0.1205 - val_loss: 2.2960 - val_acc: 0.1000\n",
      "Epoch 19/100\n",
      "2/2 [==============================] - 4s 2s/step - loss: 2.3049 - acc: 0.1187 - val_loss: 2.2955 - val_acc: 0.1100\n",
      "Epoch 20/100\n",
      "2/2 [==============================] - 4s 2s/step - loss: 2.3029 - acc: 0.0989 - val_loss: 2.2955 - val_acc: 0.1200\n",
      "Epoch 21/100\n",
      "2/2 [==============================] - 4s 2s/step - loss: 2.2968 - acc: 0.1068 - val_loss: 2.2963 - val_acc: 0.1300\n",
      "Epoch 22/100\n",
      "2/2 [==============================] - 4s 2s/step - loss: 2.3064 - acc: 0.1089 - val_loss: 2.2971 - val_acc: 0.1300\n",
      "Epoch 23/100\n",
      "2/2 [==============================] - 4s 2s/step - loss: 2.2903 - acc: 0.1322 - val_loss: 2.2943 - val_acc: 0.1100\n",
      "Epoch 24/100\n",
      "2/2 [==============================] - 4s 2s/step - loss: 2.3182 - acc: 0.0899 - val_loss: 2.2926 - val_acc: 0.1600\n",
      "Epoch 25/100\n",
      "2/2 [==============================] - 4s 2s/step - loss: 2.2956 - acc: 0.1080 - val_loss: 2.2936 - val_acc: 0.1600\n",
      "Epoch 26/100\n",
      "2/2 [==============================] - 4s 2s/step - loss: 2.3005 - acc: 0.1145 - val_loss: 2.2985 - val_acc: 0.1500\n",
      "Epoch 27/100\n",
      "2/2 [==============================] - 4s 2s/step - loss: 2.2939 - acc: 0.1230 - val_loss: 2.2996 - val_acc: 0.1400\n",
      "Epoch 28/100\n",
      "2/2 [==============================] - 4s 2s/step - loss: 2.2984 - acc: 0.0914 - val_loss: 2.2967 - val_acc: 0.1400\n",
      "Epoch 29/100\n",
      "2/2 [==============================] - 4s 2s/step - loss: 2.2850 - acc: 0.1167 - val_loss: 2.2928 - val_acc: 0.1500\n",
      "Epoch 30/100\n",
      "2/2 [==============================] - 4s 2s/step - loss: 2.2774 - acc: 0.1464 - val_loss: 2.3466 - val_acc: 0.1300\n",
      "Epoch 31/100\n",
      "2/2 [==============================] - 4s 2s/step - loss: 2.3394 - acc: 0.1239 - val_loss: 2.3025 - val_acc: 0.1400\n",
      "Epoch 32/100\n",
      "2/2 [==============================] - 4s 2s/step - loss: 2.2985 - acc: 0.1269 - val_loss: 2.3014 - val_acc: 0.1300\n",
      "Epoch 33/100\n",
      "2/2 [==============================] - 4s 2s/step - loss: 2.2989 - acc: 0.1260 - val_loss: 2.3019 - val_acc: 0.1000\n",
      "Epoch 34/100\n",
      "2/2 [==============================] - 4s 2s/step - loss: 2.2937 - acc: 0.1272 - val_loss: 2.3003 - val_acc: 0.1100\n",
      "Epoch 35/100\n",
      "2/2 [==============================] - 4s 2s/step - loss: 2.4461 - acc: 0.0985 - val_loss: 2.2998 - val_acc: 0.1000\n",
      "Epoch 36/100\n",
      "2/2 [==============================] - 4s 2s/step - loss: 2.3021 - acc: 0.0972 - val_loss: 2.2994 - val_acc: 0.1500\n",
      "Epoch 37/100\n",
      "2/2 [==============================] - 4s 2s/step - loss: 2.2986 - acc: 0.1249 - val_loss: 2.2988 - val_acc: 0.1400\n",
      "Epoch 38/100\n",
      "2/2 [==============================] - 4s 2s/step - loss: 2.2903 - acc: 0.1112 - val_loss: 2.2920 - val_acc: 0.1800\n",
      "Epoch 39/100\n",
      "2/2 [==============================] - 4s 2s/step - loss: 2.2902 - acc: 0.1343 - val_loss: 2.2957 - val_acc: 0.1200\n",
      "Epoch 40/100\n",
      "2/2 [==============================] - 4s 2s/step - loss: 2.2815 - acc: 0.1556 - val_loss: 2.3045 - val_acc: 0.0800\n",
      "Epoch 41/100\n",
      "2/2 [==============================] - 4s 2s/step - loss: 2.2997 - acc: 0.1313 - val_loss: 2.2939 - val_acc: 0.1500\n",
      "Epoch 42/100\n",
      "2/2 [==============================] - 4s 2s/step - loss: 2.2822 - acc: 0.1452 - val_loss: 2.2971 - val_acc: 0.1200\n",
      "Epoch 43/100\n",
      "2/2 [==============================] - 4s 2s/step - loss: 2.3002 - acc: 0.0998 - val_loss: 2.2960 - val_acc: 0.1400\n",
      "Epoch 44/100\n",
      "2/2 [==============================] - 4s 2s/step - loss: 2.2767 - acc: 0.1385 - val_loss: 2.2979 - val_acc: 0.1700\n",
      "Epoch 45/100\n",
      "2/2 [==============================] - 4s 2s/step - loss: 2.2708 - acc: 0.1293 - val_loss: 2.2941 - val_acc: 0.1800\n",
      "Epoch 46/100\n",
      "2/2 [==============================] - 4s 2s/step - loss: 2.2723 - acc: 0.1197 - val_loss: 2.2943 - val_acc: 0.1100\n",
      "Epoch 47/100\n",
      "2/2 [==============================] - 4s 2s/step - loss: 2.2962 - acc: 0.1292 - val_loss: 2.2881 - val_acc: 0.1400\n",
      "Epoch 48/100\n",
      "2/2 [==============================] - 4s 2s/step - loss: 2.2973 - acc: 0.1359 - val_loss: 2.2860 - val_acc: 0.2200\n",
      "Epoch 49/100\n",
      "2/2 [==============================] - 4s 2s/step - loss: 2.2828 - acc: 0.1248 - val_loss: 2.2875 - val_acc: 0.1900\n",
      "Epoch 50/100\n",
      "2/2 [==============================] - 4s 2s/step - loss: 2.2790 - acc: 0.1269 - val_loss: 2.2871 - val_acc: 0.1200\n",
      "Epoch 51/100\n",
      "2/2 [==============================] - 4s 2s/step - loss: 2.2584 - acc: 0.1312 - val_loss: 2.2853 - val_acc: 0.1400\n",
      "Epoch 52/100\n",
      "2/2 [==============================] - 4s 2s/step - loss: 2.2735 - acc: 0.1506 - val_loss: 2.2845 - val_acc: 0.1300\n",
      "Epoch 53/100\n",
      "2/2 [==============================] - 4s 2s/step - loss: 2.2621 - acc: 0.1283 - val_loss: 2.2908 - val_acc: 0.1700\n",
      "Epoch 54/100\n",
      "2/2 [==============================] - 4s 2s/step - loss: 2.2928 - acc: 0.1450 - val_loss: 2.2940 - val_acc: 0.1200\n",
      "Epoch 55/100\n",
      "2/2 [==============================] - 4s 2s/step - loss: 2.2791 - acc: 0.1145 - val_loss: 2.2881 - val_acc: 0.1100\n",
      "Epoch 56/100\n",
      "2/2 [==============================] - 4s 2s/step - loss: 2.2648 - acc: 0.1421 - val_loss: 2.2984 - val_acc: 0.0900\n",
      "Epoch 57/100\n",
      "2/2 [==============================] - 4s 2s/step - loss: 2.2837 - acc: 0.1533 - val_loss: 2.3701 - val_acc: 0.1700\n",
      "Epoch 58/100\n",
      "2/2 [==============================] - 4s 2s/step - loss: 2.3365 - acc: 0.1017 - val_loss: 2.3026 - val_acc: 0.1400\n",
      "Epoch 59/100\n",
      "2/2 [==============================] - 4s 2s/step - loss: 2.2815 - acc: 0.1534 - val_loss: 2.2967 - val_acc: 0.1300\n",
      "Epoch 60/100\n",
      "2/2 [==============================] - 4s 2s/step - loss: 2.2597 - acc: 0.1484 - val_loss: 2.2995 - val_acc: 0.1200\n",
      "Epoch 61/100\n",
      "2/2 [==============================] - 4s 2s/step - loss: 2.2598 - acc: 0.1503 - val_loss: 2.2875 - val_acc: 0.1300\n",
      "Epoch 62/100\n",
      "2/2 [==============================] - 4s 2s/step - loss: 2.2344 - acc: 0.1844 - val_loss: 2.2937 - val_acc: 0.1300\n",
      "Epoch 63/100\n",
      "2/2 [==============================] - 4s 2s/step - loss: 2.2607 - acc: 0.1292 - val_loss: 2.2810 - val_acc: 0.1200\n",
      "Epoch 64/100\n",
      "2/2 [==============================] - 4s 2s/step - loss: 2.2471 - acc: 0.1640 - val_loss: 2.2762 - val_acc: 0.1500\n",
      "Epoch 65/100\n",
      "2/2 [==============================] - 4s 2s/step - loss: 2.2480 - acc: 0.1397 - val_loss: 2.2807 - val_acc: 0.1300\n",
      "Epoch 66/100\n",
      "2/2 [==============================] - 4s 2s/step - loss: 2.2265 - acc: 0.1453 - val_loss: 2.2910 - val_acc: 0.1000\n",
      "Epoch 67/100\n",
      "2/2 [==============================] - 4s 2s/step - loss: 2.3204 - acc: 0.1260 - val_loss: 2.2799 - val_acc: 0.1500\n",
      "Epoch 68/100\n",
      "2/2 [==============================] - 4s 2s/step - loss: 2.2660 - acc: 0.1458 - val_loss: 2.2863 - val_acc: 0.1800\n",
      "Epoch 69/100\n",
      "2/2 [==============================] - 4s 2s/step - loss: 2.2595 - acc: 0.1514 - val_loss: 2.2880 - val_acc: 0.1200\n",
      "Epoch 70/100\n",
      "2/2 [==============================] - 4s 2s/step - loss: 2.3145 - acc: 0.1346 - val_loss: 2.2999 - val_acc: 0.1200\n",
      "Epoch 71/100\n",
      "2/2 [==============================] - 4s 2s/step - loss: 2.2771 - acc: 0.1294 - val_loss: 2.2836 - val_acc: 0.1400\n",
      "Epoch 72/100\n",
      "2/2 [==============================] - 4s 2s/step - loss: 2.2678 - acc: 0.1505 - val_loss: 2.2920 - val_acc: 0.0900\n",
      "Epoch 73/100\n",
      "2/2 [==============================] - 4s 2s/step - loss: 2.2402 - acc: 0.1333 - val_loss: 2.2814 - val_acc: 0.1600\n",
      "Epoch 74/100\n",
      "2/2 [==============================] - 4s 2s/step - loss: 2.2643 - acc: 0.1353 - val_loss: 2.2860 - val_acc: 0.1100\n",
      "Epoch 75/100\n",
      "2/2 [==============================] - 4s 2s/step - loss: 2.2378 - acc: 0.2022 - val_loss: 2.2844 - val_acc: 0.1500\n",
      "Epoch 76/100\n",
      "2/2 [==============================] - 4s 2s/step - loss: 2.2154 - acc: 0.2043 - val_loss: 2.3070 - val_acc: 0.1200\n",
      "Epoch 77/100\n",
      "2/2 [==============================] - 4s 2s/step - loss: 2.2568 - acc: 0.1524 - val_loss: 2.3103 - val_acc: 0.1200\n",
      "Epoch 78/100\n",
      "2/2 [==============================] - 4s 2s/step - loss: 2.2274 - acc: 0.1598 - val_loss: 2.2842 - val_acc: 0.1500\n",
      "Epoch 79/100\n",
      "2/2 [==============================] - 4s 2s/step - loss: 2.2235 - acc: 0.1611 - val_loss: 2.3155 - val_acc: 0.1100\n",
      "Epoch 80/100\n",
      "2/2 [==============================] - 4s 2s/step - loss: 2.2159 - acc: 0.1790 - val_loss: 2.2896 - val_acc: 0.1400\n",
      "Epoch 81/100\n",
      "2/2 [==============================] - 4s 2s/step - loss: 2.2220 - acc: 0.1853 - val_loss: 2.4864 - val_acc: 0.1200\n",
      "Epoch 82/100\n",
      "2/2 [==============================] - 4s 2s/step - loss: 2.2975 - acc: 0.1548 - val_loss: 2.2827 - val_acc: 0.1200\n",
      "Epoch 83/100\n",
      "2/2 [==============================] - 4s 2s/step - loss: 2.2385 - acc: 0.1566 - val_loss: 2.2795 - val_acc: 0.1700\n",
      "Epoch 84/100\n",
      "2/2 [==============================] - 4s 2s/step - loss: 2.2650 - acc: 0.1154 - val_loss: 2.2644 - val_acc: 0.1700\n",
      "Epoch 85/100\n",
      "2/2 [==============================] - 4s 2s/step - loss: 2.2454 - acc: 0.1738 - val_loss: 2.2760 - val_acc: 0.1200\n",
      "Epoch 86/100\n",
      "2/2 [==============================] - 4s 2s/step - loss: 2.2309 - acc: 0.1547 - val_loss: 2.2789 - val_acc: 0.1200\n",
      "Epoch 87/100\n",
      "2/2 [==============================] - 4s 2s/step - loss: 2.1960 - acc: 0.1916 - val_loss: 2.2784 - val_acc: 0.1300\n",
      "Epoch 88/100\n",
      "2/2 [==============================] - 4s 2s/step - loss: 2.2045 - acc: 0.1832 - val_loss: 2.2791 - val_acc: 0.1200\n",
      "Epoch 89/100\n",
      "2/2 [==============================] - 4s 2s/step - loss: 2.2067 - acc: 0.2023 - val_loss: 2.3307 - val_acc: 0.1000\n",
      "Epoch 90/100\n",
      "2/2 [==============================] - 4s 2s/step - loss: 2.1768 - acc: 0.2075 - val_loss: 2.3051 - val_acc: 0.1500\n",
      "Epoch 91/100\n",
      "2/2 [==============================] - 4s 2s/step - loss: 2.1885 - acc: 0.1779 - val_loss: 2.3200 - val_acc: 0.1300\n",
      "Epoch 92/100\n",
      "2/2 [==============================] - 4s 2s/step - loss: 2.1985 - acc: 0.1598 - val_loss: 2.3469 - val_acc: 0.0900\n",
      "Epoch 93/100\n",
      "2/2 [==============================] - 4s 2s/step - loss: 2.2125 - acc: 0.1619 - val_loss: 2.3003 - val_acc: 0.1000\n",
      "Epoch 94/100\n",
      "2/2 [==============================] - 4s 2s/step - loss: 2.1942 - acc: 0.1791 - val_loss: 2.3017 - val_acc: 0.1100\n",
      "Epoch 95/100\n",
      "2/2 [==============================] - 4s 2s/step - loss: 2.1895 - acc: 0.1840 - val_loss: 2.3687 - val_acc: 0.1400\n",
      "Epoch 96/100\n",
      "2/2 [==============================] - 4s 2s/step - loss: 2.2188 - acc: 0.1779 - val_loss: 2.2998 - val_acc: 0.1100\n",
      "Epoch 97/100\n",
      "2/2 [==============================] - 4s 2s/step - loss: 2.2142 - acc: 0.1842 - val_loss: 2.3150 - val_acc: 0.1400\n",
      "Epoch 98/100\n",
      "2/2 [==============================] - 4s 2s/step - loss: 2.1809 - acc: 0.1652 - val_loss: 2.3161 - val_acc: 0.1100\n",
      "Epoch 99/100\n",
      "2/2 [==============================] - 4s 2s/step - loss: 2.2118 - acc: 0.1694 - val_loss: 2.3168 - val_acc: 0.1000\n",
      "Epoch 100/100\n",
      "2/2 [==============================] - 4s 2s/step - loss: 2.1986 - acc: 0.1960 - val_loss: 2.2792 - val_acc: 0.1800\n",
      "100/100 [==============================] - 0s 3ms/step\n"
     ]
    },
    {
     "data": {
      "text/plain": [
       "[2.2792238998413086, 0.17999999999999999]"
      ]
     },
     "execution_count": 170,
     "metadata": {},
     "output_type": "execute_result"
    }
   ],
   "source": [
    "from keras.preprocessing.image import ImageDataGenerator\n",
    " \n",
    "model2 = createModel()\n",
    " \n",
    "model2.compile(optimizer='rmsprop', loss='categorical_crossentropy', metrics=['accuracy'])\n",
    " \n",
    "batch_size = 256\n",
    "epochs = 100\n",
    "datagen = ImageDataGenerator(\n",
    "#         zoom_range=0.2, # randomly zoom into images\n",
    "#         rotation_range=10,  # randomly rotate images in the range (degrees, 0 to 180)\n",
    "        width_shift_range=0.1,  # randomly shift images horizontally (fraction of total width)\n",
    "        height_shift_range=0.1,  # randomly shift images vertically (fraction of total height)\n",
    "        horizontal_flip=True,  # randomly flip images\n",
    "        vertical_flip=False)  # randomly flip images\n",
    " \n",
    "# Fit the model on the batches generated by datagen.flow().\n",
    "history2 = model2.fit_generator(datagen.flow(train_data, train_labels_one_hot, batch_size=batch_size),\n",
    "                              steps_per_epoch=int(np.ceil(train_data.shape[0] / float(batch_size))),\n",
    "                              epochs=epochs,\n",
    "                              validation_data=(test_data, test_labels_one_hot),\n",
    "                              workers=4)\n",
    " \n",
    "model2.evaluate(test_data, test_labels_one_hot)"
   ]
  },
  {
   "cell_type": "code",
   "execution_count": 33,
   "metadata": {
    "slideshow": {
     "slide_type": "slide"
    }
   },
   "outputs": [
    {
     "ename": "NameError",
     "evalue": "name 'history' is not defined",
     "output_type": "error",
     "traceback": [
      "\u001b[1;31m---------------------------------------------------------------------------\u001b[0m",
      "\u001b[1;31mNameError\u001b[0m                                 Traceback (most recent call last)",
      "\u001b[1;32m<ipython-input-33-12095f4227a2>\u001b[0m in \u001b[0;36m<module>\u001b[1;34m()\u001b[0m\n\u001b[0;32m      1\u001b[0m \u001b[1;31m# Loss Curves\u001b[0m\u001b[1;33m\u001b[0m\u001b[1;33m\u001b[0m\u001b[0m\n\u001b[0;32m      2\u001b[0m \u001b[0mplt\u001b[0m\u001b[1;33m.\u001b[0m\u001b[0mfigure\u001b[0m\u001b[1;33m(\u001b[0m\u001b[0mfigsize\u001b[0m\u001b[1;33m=\u001b[0m\u001b[1;33m[\u001b[0m\u001b[1;36m6\u001b[0m\u001b[1;33m,\u001b[0m\u001b[1;36m4\u001b[0m\u001b[1;33m]\u001b[0m\u001b[1;33m)\u001b[0m\u001b[1;33m\u001b[0m\u001b[0m\n\u001b[1;32m----> 3\u001b[1;33m \u001b[0mplt\u001b[0m\u001b[1;33m.\u001b[0m\u001b[0mplot\u001b[0m\u001b[1;33m(\u001b[0m\u001b[0mhistory\u001b[0m\u001b[1;33m.\u001b[0m\u001b[0mhistory\u001b[0m\u001b[1;33m[\u001b[0m\u001b[1;34m'loss'\u001b[0m\u001b[1;33m]\u001b[0m\u001b[1;33m,\u001b[0m\u001b[1;34m'r'\u001b[0m\u001b[1;33m,\u001b[0m\u001b[0mlinewidth\u001b[0m\u001b[1;33m=\u001b[0m\u001b[1;36m3.0\u001b[0m\u001b[1;33m)\u001b[0m\u001b[1;33m\u001b[0m\u001b[0m\n\u001b[0m\u001b[0;32m      4\u001b[0m \u001b[0mplt\u001b[0m\u001b[1;33m.\u001b[0m\u001b[0mplot\u001b[0m\u001b[1;33m(\u001b[0m\u001b[0mhistory\u001b[0m\u001b[1;33m.\u001b[0m\u001b[0mhistory\u001b[0m\u001b[1;33m[\u001b[0m\u001b[1;34m'val_loss'\u001b[0m\u001b[1;33m]\u001b[0m\u001b[1;33m,\u001b[0m\u001b[1;34m'b'\u001b[0m\u001b[1;33m,\u001b[0m\u001b[0mlinewidth\u001b[0m\u001b[1;33m=\u001b[0m\u001b[1;36m3.0\u001b[0m\u001b[1;33m)\u001b[0m\u001b[1;33m\u001b[0m\u001b[0m\n\u001b[0;32m      5\u001b[0m \u001b[0mplt\u001b[0m\u001b[1;33m.\u001b[0m\u001b[0mlegend\u001b[0m\u001b[1;33m(\u001b[0m\u001b[1;33m[\u001b[0m\u001b[1;34m'Training loss'\u001b[0m\u001b[1;33m,\u001b[0m \u001b[1;34m'Validation Loss'\u001b[0m\u001b[1;33m]\u001b[0m\u001b[1;33m,\u001b[0m\u001b[0mfontsize\u001b[0m\u001b[1;33m=\u001b[0m\u001b[1;36m18\u001b[0m\u001b[1;33m)\u001b[0m\u001b[1;33m\u001b[0m\u001b[0m\n",
      "\u001b[1;31mNameError\u001b[0m: name 'history' is not defined"
     ]
    },
    {
     "data": {
      "text/plain": [
       "<matplotlib.figure.Figure at 0x1fc6ab30f60>"
      ]
     },
     "metadata": {},
     "output_type": "display_data"
    }
   ],
   "source": [
    "# Loss Curves\n",
    "plt.figure(figsize=[6,4])\n",
    "plt.plot(history.history['loss'],'r',linewidth=3.0)\n",
    "plt.plot(history.history['val_loss'],'b',linewidth=3.0)\n",
    "plt.legend(['Training loss', 'Validation Loss'],fontsize=18)\n",
    "plt.xlabel('Epochs ',fontsize=16)\n",
    "plt.ylabel('Loss',fontsize=16)\n",
    "plt.title('Loss Curves',fontsize=16)\n",
    " \n",
    "# Accuracy Curves\n",
    "plt.figure(figsize=[6,4])\n",
    "plt.plot(history.history['acc'],'r',linewidth=3.0)\n",
    "plt.plot(history.history['val_acc'],'b',linewidth=3.0)\n",
    "plt.legend(['Training Accuracy', 'Validation Accuracy'],fontsize=18)\n",
    "plt.xlabel('Epochs ',fontsize=16)\n",
    "plt.ylabel('Accuracy',fontsize=16)\n",
    "plt.title('Accuracy Curves',fontsize=16)"
   ]
  },
  {
   "cell_type": "code",
   "execution_count": null,
   "metadata": {
    "collapsed": true
   },
   "outputs": [],
   "source": []
  }
 ],
 "metadata": {
  "celltoolbar": "Slideshow",
  "kernelspec": {
   "display_name": "Python 3",
   "language": "python",
   "name": "python3"
  },
  "language_info": {
   "codemirror_mode": {
    "name": "ipython",
    "version": 3
   },
   "file_extension": ".py",
   "mimetype": "text/x-python",
   "name": "python",
   "nbconvert_exporter": "python",
   "pygments_lexer": "ipython3",
   "version": "3.6.3"
  }
 },
 "nbformat": 4,
 "nbformat_minor": 2
}
