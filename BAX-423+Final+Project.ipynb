{
 "cells": [
  {
   "cell_type": "markdown",
   "metadata": {},
   "source": [
    "<img src = \"https://tdwi.org/~/media/TDWI/TDWI/BITW/bigdata4.jpg\">"
   ]
  },
  {
   "cell_type": "markdown",
   "metadata": {},
   "source": [
    "# <center>BAX-423 Data Design and Representation Final Project\n",
    "\n",
    "### <center> By Zhongxu (Leo) Pei, Shreya Suranaa, Neha Gupta, Spyros Protoulis "
   ]
  },
  {
   "cell_type": "markdown",
   "metadata": {},
   "source": [
    "# Part 1: Relational Data"
   ]
  },
  {
   "cell_type": "markdown",
   "metadata": {},
   "source": [
    "# Summary of the business problem:\n",
    "\n",
    "The sales department of ZAGI retail company has decided to create a database that contains the details of\n",
    "its sales process. After conducting interviews within the company and studying the company\n",
    "documentation, the database team extracted the following requirements for the future database. ZAGI retail\n",
    "company sales department database will capture data about the following:\n",
    "\n",
    "- For each product being sold: product ID (unique), produce name, and price\n",
    "- For each category of product: category ID (unique) and category name\n",
    "- For each vendor: vendor ID (unique) and vendor name\n",
    "- For each customer: customer ID (unique), customer name, and zip code\n",
    "- For each sales transaction: transaction ID (unique) and date of transaction\n",
    "- Each product is supplied by exactly one vendor. Each vendor supplies one or more products\n",
    "- Each product belongs to exactly one category. Each category contains one or more products\n",
    "- Each sales transaction involves exactly one customer. Each customer can be involved in one or more transactions\n",
    "- Each product is sold via one more sales transactions. Each sales transaction includes one or more products\n",
    "- For each instance of a product being sold via a sales transaction, the quantity of sold products is recorded\n",
    "\n",
    "We will design the data warehouse based on the requirements below and draw the ER-Digram for ZAGI.\n"
   ]
  },
  {
   "cell_type": "markdown",
   "metadata": {},
   "source": [
    "# Solution details:"
   ]
  },
  {
   "cell_type": "markdown",
   "metadata": {},
   "source": [
    "Cardinality constraints - depict how many instances of one entity can be associated with instances of another entity\n",
    "\n",
    "1.Maximum cardinality\n",
    "- One (represented by a straight bar: I)\n",
    "- Many (represented by a crow’s foot symbol)\n",
    "\n",
    "2.Minimum cardinality (participation)\n",
    "- Optional (represented by a circular symbol: 0)\n",
    "- Mandatory (represented by a straight bar: I)\n",
    "\n",
    "\n",
    "\n",
    "Each piece of equipment to be rented out is an entity with its Serial No. as the unique key.\n",
    "\n",
    "The date it was made as well as the last inspection date is recorded\n",
    "\n",
    "The details on make, type, model are stored in a separate entity. On this entity, an ID for the specific model (EquipDetailID) is stored. This is mandatory, no piece of equipment is sold or rented without the details present in the database.\n",
    "\n",
    "Obviously, it is possible to have multiple pieces of the same model in stock to sell or rent out.\n",
    "\n",
    "Rentals and sale transactions are stored in separate entities.\n",
    "\n",
    "Both types of transactions have a similar structure: Transaction ID, Price and Data are recorded.\n",
    "One sale transaction can only include 1 product (strange, but that’s how it is as per the diagram).\n",
    "\n",
    "On the contrary, one rental transaction can include multiple products (I wonder if this is by accident)\n",
    "\n",
    "Because a piece of equipment can either be:\n",
    "- Sitting in stock\n",
    "- sold\n",
    "- rented out, the sale or rental transactions have to be optional\n",
    "\n",
    "The customer details are stored in our database. Each customer has a unique ID, their name and a category. Obviously, one customer can participate in multiple transactions.\n",
    "\n",
    "All transactions must involve one, and only one, sales representative. Their details are stored in an entity. \n",
    "They have their ID, rank and name recorded. The name is a composite attribute, that breaks down to two attributes, one for First and one for Last name.\n",
    "\n",
    "A sales rep may (optionally) be a Mentor or a Protege in relation to another rep. This is recorded as a unary relationship. One Mentor can have up to 3 Proteges.\n",
    "\n",
    "So, a sale or rental transaction has to connect with all of the following entities:\n",
    "- Equipment (the piece, not the details) \n",
    "- Customer\n",
    "- Sales representative\n"
   ]
  },
  {
   "cell_type": "markdown",
   "metadata": {},
   "source": [
    "<img src= \"https://github.com/leopei/ER/blob/master/erdplus-diagram.png?raw=true![image.png](attachment:image.png)\">"
   ]
  },
  {
   "cell_type": "markdown",
   "metadata": {},
   "source": [
    "# Summary of the solution and key highlights"
   ]
  },
  {
   "cell_type": "markdown",
   "metadata": {},
   "source": [
    "Relationship Schema:\n",
    "* Unary relationship in the SaleRep table, representing a senior sales rep mentoring a protege rep\n",
    "* Composite key of Sales Rep Name being represented by its components separately in the relationship table: rep First name and rep Last name."
   ]
  },
  {
   "cell_type": "markdown",
   "metadata": {},
   "source": [
    "# Key learnings"
   ]
  },
  {
   "cell_type": "markdown",
   "metadata": {},
   "source": [
    "Relationship Schema:\n",
    "* Creating FK to show the unary relationship.\n",
    "* Representing composite variables by its components in the relationship schema table.\n",
    "* Not including the composite variable in the schema table."
   ]
  },
  {
   "cell_type": "markdown",
   "metadata": {},
   "source": [
    "# Part 2: JSON, Data Streaming"
   ]
  },
  {
   "cell_type": "markdown",
   "metadata": {},
   "source": [
    "# Summary of the business problem:\n",
    "\n",
    "Meetup.com operates as a website providing membership software, allowing its users to schedule events using a common platform. \n",
    "\n",
    "Where are the Meetups? How’s the Data Science Meetup interest in San Francisco? By digging into the RSVP data, we could easily get the answers and insights which can help the platform better understand its users. The first step is to working with the log file and build the analytical data warehouse.\n",
    "\n",
    "We will work with the API provided by Meetup.com which returns RSVP streming data containing member, group, event, and venue information. We will connect to the data streaming service to receive a limited data feed (1000 json), and parse the JSON data and load it into a SQLite3 database.\n",
    "\n",
    "Here is our target data schema in our relational database:"
   ]
  },
  {
   "cell_type": "markdown",
   "metadata": {},
   "source": [
    "<img src= \"https://github.com/leopei/ER/blob/master/Database%20ER%20Diagram%20-%20New%20Page.png?raw=true\">"
   ]
  },
  {
   "cell_type": "markdown",
   "metadata": {},
   "source": [
    "# Solution details:"
   ]
  },
  {
   "cell_type": "code",
   "execution_count": 3,
   "metadata": {
    "collapsed": true
   },
   "outputs": [],
   "source": [
    "# import libraries\n",
    "import pandas as pd\n",
    "import json\n",
    "import requests\n",
    "import sqlite3\n",
    "from urllib.request import urlopen"
   ]
  },
  {
   "cell_type": "code",
   "execution_count": 4,
   "metadata": {},
   "outputs": [
    {
     "name": "stdout",
     "output_type": "stream",
     "text": [
      "Done inserting 100 records.\n",
      "Done inserting 200 records.\n",
      "Done inserting 300 records.\n",
      "Done inserting 400 records.\n",
      "Done inserting 500 records.\n",
      "Done inserting 600 records.\n",
      "Done inserting 700 records.\n",
      "Done inserting 800 records.\n",
      "Done inserting 900 records.\n",
      "Done inserting 1000 records.\n"
     ]
    }
   ],
   "source": [
    "#request 1000 feed from the streaming API \n",
    "r = requests.get('http://stream.meetup.com/2/rsvps', stream=True)\n",
    "data = []\n",
    "if r.encoding is None:\n",
    "    r.encoding = 'utf-8'\n",
    "counter = 0\n",
    "for line in r.iter_lines(decode_unicode=True):   \n",
    "    if line and counter<1000:\n",
    "        data.append(json.loads(line)) #load fron json\n",
    "        counter = counter +1\n",
    "        if counter % 100 ==0:\n",
    "            print(\"Done inserting\", counter, \"records.\")\n",
    "    else:\n",
    "        break"
   ]
  },
  {
   "cell_type": "code",
   "execution_count": 5,
   "metadata": {},
   "outputs": [
    {
     "data": {
      "text/plain": [
       "{'event': {'event_id': '251329714',\n",
       "  'event_name': 'Hackaton EOS France',\n",
       "  'event_url': 'https://www.meetup.com/Meetup-EOS-Paris-France/events/251329714/',\n",
       "  'time': 1530810000000},\n",
       " 'group': {'group_city': 'Paris',\n",
       "  'group_country': 'fr',\n",
       "  'group_id': 28257727,\n",
       "  'group_lat': 48.86,\n",
       "  'group_lon': 2.34,\n",
       "  'group_name': 'Meetup EOS Paris, France',\n",
       "  'group_topics': [{'topic_name': 'Virtual Currency',\n",
       "    'urlkey': 'virtual-currency'},\n",
       "   {'topic_name': 'Blockchain Security', 'urlkey': 'blockchain-security'},\n",
       "   {'topic_name': 'Blockchain', 'urlkey': 'blockchain'},\n",
       "   {'topic_name': 'Ethereum', 'urlkey': 'ethereum'},\n",
       "   {'topic_name': 'Smart Contracts', 'urlkey': 'smart-contracts'},\n",
       "   {'topic_name': 'Cryptocurrency', 'urlkey': 'cryptocurrency'},\n",
       "   {'topic_name': 'Digital Currency', 'urlkey': 'digital-currency'},\n",
       "   {'topic_name': 'Bitcoin', 'urlkey': 'bitcoin'},\n",
       "   {'topic_name': 'Decentralization', 'urlkey': 'decentralization'},\n",
       "   {'topic_name': 'Cryptography', 'urlkey': 'cryptography'},\n",
       "   {'topic_name': 'EOS', 'urlkey': 'eos'}],\n",
       "  'group_urlname': 'Meetup-EOS-Paris-France'},\n",
       " 'guests': 0,\n",
       " 'member': {'member_id': 182524648, 'member_name': 'Alexandre Paris'},\n",
       " 'mtime': 1527959095792,\n",
       " 'response': 'yes',\n",
       " 'rsvp_id': 1731144401,\n",
       " 'venue': {'lat': 48.873852,\n",
       "  'lon': 2.302807,\n",
       "  'venue_id': 25366990,\n",
       "  'venue_name': 'IESF'},\n",
       " 'visibility': 'public'}"
      ]
     },
     "execution_count": 5,
     "metadata": {},
     "output_type": "execute_result"
    }
   ],
   "source": [
    "# show the first rsvp \n",
    "data[0]"
   ]
  },
  {
   "cell_type": "code",
   "execution_count": 6,
   "metadata": {
    "collapsed": true
   },
   "outputs": [],
   "source": [
    "# convert the json/dict file to 3NF table: rsvp, dimension table: venue, event, member, group\n",
    "def get_table(name):\n",
    "    lis = []\n",
    "    for i in data:\n",
    "        try:\n",
    "            if i[name] not in lis:\n",
    "                lis.append(i[name])\n",
    "        except:\n",
    "            continue\n",
    "    return lis"
   ]
  },
  {
   "cell_type": "code",
   "execution_count": 7,
   "metadata": {
    "collapsed": true
   },
   "outputs": [],
   "source": [
    "def get_rsvp_table():\n",
    "    lis = []\n",
    "    for i in data:\n",
    "        dic = {}\n",
    "        try:\n",
    "            dic[\"venue_id\"] = i['venue']['venue_id']\n",
    "            dic[\"event_id\"] = i['event']['event_id']\n",
    "            dic[\"member_id\"]= i['member']['member_id']\n",
    "            dic[\"group_id\"] = i['group']['group_id']\n",
    "            dic[\"rsvp_id\"] = i[\"rsvp_id\"]\n",
    "            dic[\"guests\"] = i[\"guests\"]\n",
    "            dic[\"mtime\"] = i[\"mtime\"]\n",
    "            dic[\"response\"] = i[\"response\"]\n",
    "            lis.append(dic)\n",
    "        except:\n",
    "            continue   \n",
    "    return lis"
   ]
  },
  {
   "cell_type": "code",
   "execution_count": 8,
   "metadata": {
    "collapsed": true
   },
   "outputs": [],
   "source": [
    "group = get_table(\"group\")\n",
    "event = get_table(\"event\")\n",
    "venue = get_table(\"venue\")\n",
    "member = get_table(\"member\")\n",
    "rsvp = get_rsvp_table()"
   ]
  },
  {
   "cell_type": "code",
   "execution_count": 9,
   "metadata": {
    "collapsed": true
   },
   "outputs": [],
   "source": [
    "member_df = pd.DataFrame(member)\n",
    "event_df = pd.DataFrame(event)\n",
    "rsvp_df = pd.DataFrame(rsvp)\n",
    "venue_df = pd.DataFrame(venue)\n",
    "group_df = pd.DataFrame(group)\n",
    "member_df = member_df[[\"member_id\",\"member_name\",\"photo\"]]\n",
    "group_df = group_df[[\"group_id\",\"group_city\",\"group_country\",\"group_lat\",\"group_lon\",\"group_name\",\"group_state\",\"group_urlname\"]]"
   ]
  },
  {
   "cell_type": "code",
   "execution_count": 10,
   "metadata": {
    "collapsed": true
   },
   "outputs": [],
   "source": [
    "#connect to sqlite3 db\n",
    "#Use sqlite to create database in memory and create a table\n",
    "con = sqlite3.connect(\":memory:\")\n",
    "cur = con.cursor()"
   ]
  },
  {
   "cell_type": "code",
   "execution_count": 11,
   "metadata": {},
   "outputs": [
    {
     "data": {
      "text/plain": [
       "<sqlite3.Cursor at 0x115a3a880>"
      ]
     },
     "execution_count": 11,
     "metadata": {},
     "output_type": "execute_result"
    }
   ],
   "source": [
    "#create the tables in db\n",
    "cur.execute('''CREATE TABLE member (member_id text primary key, member_name text, photo text)''')\n",
    "cur.execute('''CREATE TABLE rsvp (event_id text, group_id text, guests text, member_id text, mtime, datetime, response text, rsvp_id text primary key, venue_id, text)''')\n",
    "cur.execute('''CREATE TABLE venue (lat text, lon text,  venue_id text primary key, venue_name text)''')\n",
    "cur.execute('''CREATE TABLE groups (group_id text primary key,group_city text,group_country text,group_lat text,group_lon text,group_name text,group_state text,group_urlname text)''')"
   ]
  },
  {
   "cell_type": "code",
   "execution_count": 12,
   "metadata": {
    "collapsed": true
   },
   "outputs": [],
   "source": [
    "#store the pandas df into sqlite3 tables\n",
    "member_df.to_sql(\"member\", con, if_exists=\"replace\")\n",
    "event_df.to_sql(\"event\", con, if_exists=\"replace\")\n",
    "rsvp_df.to_sql(\"rsvp\", con, if_exists=\"replace\")\n",
    "venue_df.to_sql(\"venue\", con, if_exists=\"replace\")\n",
    "group_df.to_sql(\"groups\", con, if_exists=\"replace\")"
   ]
  },
  {
   "cell_type": "code",
   "execution_count": 13,
   "metadata": {},
   "outputs": [
    {
     "data": {
      "text/html": [
       "<div>\n",
       "<style scoped>\n",
       "    .dataframe tbody tr th:only-of-type {\n",
       "        vertical-align: middle;\n",
       "    }\n",
       "\n",
       "    .dataframe tbody tr th {\n",
       "        vertical-align: top;\n",
       "    }\n",
       "\n",
       "    .dataframe thead th {\n",
       "        text-align: right;\n",
       "    }\n",
       "</style>\n",
       "<table border=\"1\" class=\"dataframe\">\n",
       "  <thead>\n",
       "    <tr style=\"text-align: right;\">\n",
       "      <th></th>\n",
       "      <th>index</th>\n",
       "      <th>event_id</th>\n",
       "      <th>group_id</th>\n",
       "      <th>guests</th>\n",
       "      <th>member_id</th>\n",
       "      <th>mtime</th>\n",
       "      <th>response</th>\n",
       "      <th>rsvp_id</th>\n",
       "      <th>venue_id</th>\n",
       "    </tr>\n",
       "  </thead>\n",
       "  <tbody>\n",
       "    <tr>\n",
       "      <th>0</th>\n",
       "      <td>0</td>\n",
       "      <td>251329714</td>\n",
       "      <td>28257727</td>\n",
       "      <td>0</td>\n",
       "      <td>182524648</td>\n",
       "      <td>1527959095792</td>\n",
       "      <td>yes</td>\n",
       "      <td>1731144401</td>\n",
       "      <td>25366990</td>\n",
       "    </tr>\n",
       "    <tr>\n",
       "      <th>1</th>\n",
       "      <td>1</td>\n",
       "      <td>250077668</td>\n",
       "      <td>1685557</td>\n",
       "      <td>0</td>\n",
       "      <td>183165693</td>\n",
       "      <td>1527959095797</td>\n",
       "      <td>no</td>\n",
       "      <td>1731144402</td>\n",
       "      <td>7916842</td>\n",
       "    </tr>\n",
       "    <tr>\n",
       "      <th>2</th>\n",
       "      <td>2</td>\n",
       "      <td>dbpmppyxjbmb</td>\n",
       "      <td>15526962</td>\n",
       "      <td>0</td>\n",
       "      <td>255405541</td>\n",
       "      <td>1527959096057</td>\n",
       "      <td>no</td>\n",
       "      <td>1731144404</td>\n",
       "      <td>23133662</td>\n",
       "    </tr>\n",
       "    <tr>\n",
       "      <th>3</th>\n",
       "      <td>3</td>\n",
       "      <td>cfztmmyxjbhb</td>\n",
       "      <td>1414289</td>\n",
       "      <td>0</td>\n",
       "      <td>80517402</td>\n",
       "      <td>1527959096122</td>\n",
       "      <td>yes</td>\n",
       "      <td>1731144405</td>\n",
       "      <td>1490527</td>\n",
       "    </tr>\n",
       "    <tr>\n",
       "      <th>4</th>\n",
       "      <td>4</td>\n",
       "      <td>hmvmrpyxjbjb</td>\n",
       "      <td>28330616</td>\n",
       "      <td>0</td>\n",
       "      <td>182051362</td>\n",
       "      <td>1527959096354</td>\n",
       "      <td>yes</td>\n",
       "      <td>1731144406</td>\n",
       "      <td>25657054</td>\n",
       "    </tr>\n",
       "    <tr>\n",
       "      <th>5</th>\n",
       "      <td>5</td>\n",
       "      <td>251332372</td>\n",
       "      <td>1770300</td>\n",
       "      <td>0</td>\n",
       "      <td>198210601</td>\n",
       "      <td>1527959096379</td>\n",
       "      <td>no</td>\n",
       "      <td>1731144407</td>\n",
       "      <td>11578492</td>\n",
       "    </tr>\n",
       "    <tr>\n",
       "      <th>6</th>\n",
       "      <td>6</td>\n",
       "      <td>251237668</td>\n",
       "      <td>1152206</td>\n",
       "      <td>0</td>\n",
       "      <td>143411152</td>\n",
       "      <td>1527959097553</td>\n",
       "      <td>yes</td>\n",
       "      <td>1731144408</td>\n",
       "      <td>19718722</td>\n",
       "    </tr>\n",
       "    <tr>\n",
       "      <th>7</th>\n",
       "      <td>7</td>\n",
       "      <td>250295657</td>\n",
       "      <td>27338032</td>\n",
       "      <td>0</td>\n",
       "      <td>243061862</td>\n",
       "      <td>1527959099806</td>\n",
       "      <td>no</td>\n",
       "      <td>1726440223</td>\n",
       "      <td>24111245</td>\n",
       "    </tr>\n",
       "    <tr>\n",
       "      <th>8</th>\n",
       "      <td>8</td>\n",
       "      <td>250239641</td>\n",
       "      <td>19575879</td>\n",
       "      <td>0</td>\n",
       "      <td>253122957</td>\n",
       "      <td>1527959100046</td>\n",
       "      <td>yes</td>\n",
       "      <td>1731144412</td>\n",
       "      <td>1528383</td>\n",
       "    </tr>\n",
       "    <tr>\n",
       "      <th>9</th>\n",
       "      <td>9</td>\n",
       "      <td>bbqsqpyxjbhb</td>\n",
       "      <td>18567568</td>\n",
       "      <td>0</td>\n",
       "      <td>78839162</td>\n",
       "      <td>1527959100778</td>\n",
       "      <td>no</td>\n",
       "      <td>1731087111</td>\n",
       "      <td>25781564</td>\n",
       "    </tr>\n",
       "  </tbody>\n",
       "</table>\n",
       "</div>"
      ],
      "text/plain": [
       "   index      event_id  group_id  guests  member_id          mtime response  \\\n",
       "0      0     251329714  28257727       0  182524648  1527959095792      yes   \n",
       "1      1     250077668   1685557       0  183165693  1527959095797       no   \n",
       "2      2  dbpmppyxjbmb  15526962       0  255405541  1527959096057       no   \n",
       "3      3  cfztmmyxjbhb   1414289       0   80517402  1527959096122      yes   \n",
       "4      4  hmvmrpyxjbjb  28330616       0  182051362  1527959096354      yes   \n",
       "5      5     251332372   1770300       0  198210601  1527959096379       no   \n",
       "6      6     251237668   1152206       0  143411152  1527959097553      yes   \n",
       "7      7     250295657  27338032       0  243061862  1527959099806       no   \n",
       "8      8     250239641  19575879       0  253122957  1527959100046      yes   \n",
       "9      9  bbqsqpyxjbhb  18567568       0   78839162  1527959100778       no   \n",
       "\n",
       "      rsvp_id  venue_id  \n",
       "0  1731144401  25366990  \n",
       "1  1731144402   7916842  \n",
       "2  1731144404  23133662  \n",
       "3  1731144405   1490527  \n",
       "4  1731144406  25657054  \n",
       "5  1731144407  11578492  \n",
       "6  1731144408  19718722  \n",
       "7  1726440223  24111245  \n",
       "8  1731144412   1528383  \n",
       "9  1731087111  25781564  "
      ]
     },
     "execution_count": 13,
     "metadata": {},
     "output_type": "execute_result"
    }
   ],
   "source": [
    "#show the table in db\n",
    "pd.read_sql_query(\"select * from rsvp limit 10;\", con)"
   ]
  },
  {
   "cell_type": "code",
   "execution_count": 14,
   "metadata": {},
   "outputs": [
    {
     "data": {
      "text/html": [
       "<div>\n",
       "<style scoped>\n",
       "    .dataframe tbody tr th:only-of-type {\n",
       "        vertical-align: middle;\n",
       "    }\n",
       "\n",
       "    .dataframe tbody tr th {\n",
       "        vertical-align: top;\n",
       "    }\n",
       "\n",
       "    .dataframe thead th {\n",
       "        text-align: right;\n",
       "    }\n",
       "</style>\n",
       "<table border=\"1\" class=\"dataframe\">\n",
       "  <thead>\n",
       "    <tr style=\"text-align: right;\">\n",
       "      <th></th>\n",
       "      <th>index</th>\n",
       "      <th>member_id</th>\n",
       "      <th>member_name</th>\n",
       "      <th>photo</th>\n",
       "    </tr>\n",
       "  </thead>\n",
       "  <tbody>\n",
       "    <tr>\n",
       "      <th>0</th>\n",
       "      <td>0</td>\n",
       "      <td>182524648</td>\n",
       "      <td>Alexandre Paris</td>\n",
       "      <td>None</td>\n",
       "    </tr>\n",
       "    <tr>\n",
       "      <th>1</th>\n",
       "      <td>1</td>\n",
       "      <td>183165693</td>\n",
       "      <td>Anna</td>\n",
       "      <td>https://secure.meetupstatic.com/photos/member/...</td>\n",
       "    </tr>\n",
       "    <tr>\n",
       "      <th>2</th>\n",
       "      <td>2</td>\n",
       "      <td>255405541</td>\n",
       "      <td>Ahsen Sultan Konak</td>\n",
       "      <td>https://secure.meetupstatic.com/photos/member/...</td>\n",
       "    </tr>\n",
       "    <tr>\n",
       "      <th>3</th>\n",
       "      <td>3</td>\n",
       "      <td>80517402</td>\n",
       "      <td>Ted Kozlowski</td>\n",
       "      <td>https://secure.meetupstatic.com/photos/member/...</td>\n",
       "    </tr>\n",
       "    <tr>\n",
       "      <th>4</th>\n",
       "      <td>4</td>\n",
       "      <td>182051362</td>\n",
       "      <td>LINDA</td>\n",
       "      <td>https://secure.meetupstatic.com/photos/member/...</td>\n",
       "    </tr>\n",
       "    <tr>\n",
       "      <th>5</th>\n",
       "      <td>5</td>\n",
       "      <td>198210601</td>\n",
       "      <td>Jessica Stallworth</td>\n",
       "      <td>https://secure.meetupstatic.com/photos/member/...</td>\n",
       "    </tr>\n",
       "    <tr>\n",
       "      <th>6</th>\n",
       "      <td>6</td>\n",
       "      <td>251821936</td>\n",
       "      <td>Melanie Davis-Kay</td>\n",
       "      <td>https://secure.meetupstatic.com/photos/member/...</td>\n",
       "    </tr>\n",
       "    <tr>\n",
       "      <th>7</th>\n",
       "      <td>7</td>\n",
       "      <td>143411152</td>\n",
       "      <td>David Leahy</td>\n",
       "      <td>https://secure.meetupstatic.com/photos/member/...</td>\n",
       "    </tr>\n",
       "    <tr>\n",
       "      <th>8</th>\n",
       "      <td>8</td>\n",
       "      <td>201902887</td>\n",
       "      <td>Patrick Liebig</td>\n",
       "      <td>https://secure.meetupstatic.com/photos/member/...</td>\n",
       "    </tr>\n",
       "    <tr>\n",
       "      <th>9</th>\n",
       "      <td>9</td>\n",
       "      <td>219895247</td>\n",
       "      <td>Matt W</td>\n",
       "      <td>https://secure.meetupstatic.com/photos/member/...</td>\n",
       "    </tr>\n",
       "  </tbody>\n",
       "</table>\n",
       "</div>"
      ],
      "text/plain": [
       "   index  member_id         member_name  \\\n",
       "0      0  182524648     Alexandre Paris   \n",
       "1      1  183165693                Anna   \n",
       "2      2  255405541  Ahsen Sultan Konak   \n",
       "3      3   80517402       Ted Kozlowski   \n",
       "4      4  182051362               LINDA   \n",
       "5      5  198210601  Jessica Stallworth   \n",
       "6      6  251821936   Melanie Davis-Kay   \n",
       "7      7  143411152         David Leahy   \n",
       "8      8  201902887      Patrick Liebig   \n",
       "9      9  219895247              Matt W   \n",
       "\n",
       "                                               photo  \n",
       "0                                               None  \n",
       "1  https://secure.meetupstatic.com/photos/member/...  \n",
       "2  https://secure.meetupstatic.com/photos/member/...  \n",
       "3  https://secure.meetupstatic.com/photos/member/...  \n",
       "4  https://secure.meetupstatic.com/photos/member/...  \n",
       "5  https://secure.meetupstatic.com/photos/member/...  \n",
       "6  https://secure.meetupstatic.com/photos/member/...  \n",
       "7  https://secure.meetupstatic.com/photos/member/...  \n",
       "8  https://secure.meetupstatic.com/photos/member/...  \n",
       "9  https://secure.meetupstatic.com/photos/member/...  "
      ]
     },
     "execution_count": 14,
     "metadata": {},
     "output_type": "execute_result"
    }
   ],
   "source": [
    "pd.read_sql_query(\"select * from member limit 10;\", con)"
   ]
  },
  {
   "cell_type": "code",
   "execution_count": 15,
   "metadata": {},
   "outputs": [
    {
     "data": {
      "text/html": [
       "<div>\n",
       "<style scoped>\n",
       "    .dataframe tbody tr th:only-of-type {\n",
       "        vertical-align: middle;\n",
       "    }\n",
       "\n",
       "    .dataframe tbody tr th {\n",
       "        vertical-align: top;\n",
       "    }\n",
       "\n",
       "    .dataframe thead th {\n",
       "        text-align: right;\n",
       "    }\n",
       "</style>\n",
       "<table border=\"1\" class=\"dataframe\">\n",
       "  <thead>\n",
       "    <tr style=\"text-align: right;\">\n",
       "      <th></th>\n",
       "      <th>index</th>\n",
       "      <th>event_id</th>\n",
       "      <th>event_name</th>\n",
       "      <th>event_url</th>\n",
       "      <th>time</th>\n",
       "    </tr>\n",
       "  </thead>\n",
       "  <tbody>\n",
       "    <tr>\n",
       "      <th>0</th>\n",
       "      <td>0</td>\n",
       "      <td>251329714</td>\n",
       "      <td>Hackaton EOS France</td>\n",
       "      <td>https://www.meetup.com/Meetup-EOS-Paris-France...</td>\n",
       "      <td>1530810000000</td>\n",
       "    </tr>\n",
       "    <tr>\n",
       "      <th>1</th>\n",
       "      <td>1</td>\n",
       "      <td>250077668</td>\n",
       "      <td>lunchr: R Lunch</td>\n",
       "      <td>https://www.meetup.com/portland-r-user-group/e...</td>\n",
       "      <td>1528398000000</td>\n",
       "    </tr>\n",
       "    <tr>\n",
       "      <th>2</th>\n",
       "      <td>2</td>\n",
       "      <td>dbpmppyxjbmb</td>\n",
       "      <td>North London Stitch Up - Weekly!</td>\n",
       "      <td>https://www.meetup.com/North-London-Stitch-Up/...</td>\n",
       "      <td>1528549200000</td>\n",
       "    </tr>\n",
       "    <tr>\n",
       "      <th>3</th>\n",
       "      <td>3</td>\n",
       "      <td>cfztmmyxjbhb</td>\n",
       "      <td>Let's Bowl!</td>\n",
       "      <td>https://www.meetup.com/Olympia-Friends-Meetup/...</td>\n",
       "      <td>1528228800000</td>\n",
       "    </tr>\n",
       "    <tr>\n",
       "      <th>4</th>\n",
       "      <td>4</td>\n",
       "      <td>hmvmrpyxjbjb</td>\n",
       "      <td>Celtic Mindfulness including guided meditation...</td>\n",
       "      <td>https://www.meetup.com/Celtic-Mindfulness/even...</td>\n",
       "      <td>1528336800000</td>\n",
       "    </tr>\n",
       "    <tr>\n",
       "      <th>5</th>\n",
       "      <td>5</td>\n",
       "      <td>251332372</td>\n",
       "      <td>RfR Morrow Chapter - June Meetup</td>\n",
       "      <td>https://www.meetup.com/Black-Nonbelievers/even...</td>\n",
       "      <td>1528563600000</td>\n",
       "    </tr>\n",
       "    <tr>\n",
       "      <th>6</th>\n",
       "      <td>6</td>\n",
       "      <td>nlnnqlyxjbhb</td>\n",
       "      <td>Quite Write: Writing Night!</td>\n",
       "      <td>https://www.meetup.com/Quite-Write/events/2508...</td>\n",
       "      <td>1528237800000</td>\n",
       "    </tr>\n",
       "    <tr>\n",
       "      <th>7</th>\n",
       "      <td>7</td>\n",
       "      <td>251237668</td>\n",
       "      <td>Sunday cafe ride - 55miles in new Team jerseys</td>\n",
       "      <td>https://www.meetup.com/tcbicycling/events/2512...</td>\n",
       "      <td>1528034400000</td>\n",
       "    </tr>\n",
       "    <tr>\n",
       "      <th>8</th>\n",
       "      <td>8</td>\n",
       "      <td>251062691</td>\n",
       "      <td>TICA Berlin #10  - Tokens, ICOs, Cryptocurrencies</td>\n",
       "      <td>https://www.meetup.com/TICA-Tokens-ICOs-Crypto...</td>\n",
       "      <td>1531932300000</td>\n",
       "    </tr>\n",
       "    <tr>\n",
       "      <th>9</th>\n",
       "      <td>9</td>\n",
       "      <td>251310020</td>\n",
       "      <td>Authentic Montreal Anniversary and Potluck</td>\n",
       "      <td>https://www.meetup.com/Authentic-Montreal/even...</td>\n",
       "      <td>1528664400000</td>\n",
       "    </tr>\n",
       "  </tbody>\n",
       "</table>\n",
       "</div>"
      ],
      "text/plain": [
       "   index      event_id                                         event_name  \\\n",
       "0      0     251329714                                Hackaton EOS France   \n",
       "1      1     250077668                                    lunchr: R Lunch   \n",
       "2      2  dbpmppyxjbmb                   North London Stitch Up - Weekly!   \n",
       "3      3  cfztmmyxjbhb                                        Let's Bowl!   \n",
       "4      4  hmvmrpyxjbjb  Celtic Mindfulness including guided meditation...   \n",
       "5      5     251332372                   RfR Morrow Chapter - June Meetup   \n",
       "6      6  nlnnqlyxjbhb                        Quite Write: Writing Night!   \n",
       "7      7     251237668     Sunday cafe ride - 55miles in new Team jerseys   \n",
       "8      8     251062691  TICA Berlin #10  - Tokens, ICOs, Cryptocurrencies   \n",
       "9      9     251310020         Authentic Montreal Anniversary and Potluck   \n",
       "\n",
       "                                           event_url           time  \n",
       "0  https://www.meetup.com/Meetup-EOS-Paris-France...  1530810000000  \n",
       "1  https://www.meetup.com/portland-r-user-group/e...  1528398000000  \n",
       "2  https://www.meetup.com/North-London-Stitch-Up/...  1528549200000  \n",
       "3  https://www.meetup.com/Olympia-Friends-Meetup/...  1528228800000  \n",
       "4  https://www.meetup.com/Celtic-Mindfulness/even...  1528336800000  \n",
       "5  https://www.meetup.com/Black-Nonbelievers/even...  1528563600000  \n",
       "6  https://www.meetup.com/Quite-Write/events/2508...  1528237800000  \n",
       "7  https://www.meetup.com/tcbicycling/events/2512...  1528034400000  \n",
       "8  https://www.meetup.com/TICA-Tokens-ICOs-Crypto...  1531932300000  \n",
       "9  https://www.meetup.com/Authentic-Montreal/even...  1528664400000  "
      ]
     },
     "execution_count": 15,
     "metadata": {},
     "output_type": "execute_result"
    }
   ],
   "source": [
    "pd.read_sql_query(\"select * from event limit 10;\", con)"
   ]
  },
  {
   "cell_type": "code",
   "execution_count": 16,
   "metadata": {},
   "outputs": [
    {
     "data": {
      "text/html": [
       "<div>\n",
       "<style scoped>\n",
       "    .dataframe tbody tr th:only-of-type {\n",
       "        vertical-align: middle;\n",
       "    }\n",
       "\n",
       "    .dataframe tbody tr th {\n",
       "        vertical-align: top;\n",
       "    }\n",
       "\n",
       "    .dataframe thead th {\n",
       "        text-align: right;\n",
       "    }\n",
       "</style>\n",
       "<table border=\"1\" class=\"dataframe\">\n",
       "  <thead>\n",
       "    <tr style=\"text-align: right;\">\n",
       "      <th></th>\n",
       "      <th>index</th>\n",
       "      <th>group_id</th>\n",
       "      <th>group_city</th>\n",
       "      <th>group_country</th>\n",
       "      <th>group_lat</th>\n",
       "      <th>group_lon</th>\n",
       "      <th>group_name</th>\n",
       "      <th>group_state</th>\n",
       "      <th>group_urlname</th>\n",
       "    </tr>\n",
       "  </thead>\n",
       "  <tbody>\n",
       "    <tr>\n",
       "      <th>0</th>\n",
       "      <td>0</td>\n",
       "      <td>28257727</td>\n",
       "      <td>Paris</td>\n",
       "      <td>fr</td>\n",
       "      <td>48.86</td>\n",
       "      <td>2.34</td>\n",
       "      <td>Meetup EOS Paris, France</td>\n",
       "      <td>None</td>\n",
       "      <td>Meetup-EOS-Paris-France</td>\n",
       "    </tr>\n",
       "    <tr>\n",
       "      <th>1</th>\n",
       "      <td>1</td>\n",
       "      <td>1685557</td>\n",
       "      <td>Portland</td>\n",
       "      <td>us</td>\n",
       "      <td>45.50</td>\n",
       "      <td>-122.69</td>\n",
       "      <td>Portland R User Group</td>\n",
       "      <td>OR</td>\n",
       "      <td>portland-r-user-group</td>\n",
       "    </tr>\n",
       "    <tr>\n",
       "      <th>2</th>\n",
       "      <td>2</td>\n",
       "      <td>15526962</td>\n",
       "      <td>London</td>\n",
       "      <td>gb</td>\n",
       "      <td>51.54</td>\n",
       "      <td>-0.17</td>\n",
       "      <td>North London Stitch Up</td>\n",
       "      <td>None</td>\n",
       "      <td>North-London-Stitch-Up</td>\n",
       "    </tr>\n",
       "    <tr>\n",
       "      <th>3</th>\n",
       "      <td>3</td>\n",
       "      <td>1414289</td>\n",
       "      <td>Olympia</td>\n",
       "      <td>us</td>\n",
       "      <td>46.99</td>\n",
       "      <td>-122.87</td>\n",
       "      <td>Olympia Area Activities, Socializing &amp; Friends</td>\n",
       "      <td>WA</td>\n",
       "      <td>Olympia-Friends-Meetup</td>\n",
       "    </tr>\n",
       "    <tr>\n",
       "      <th>4</th>\n",
       "      <td>4</td>\n",
       "      <td>28330616</td>\n",
       "      <td>Petaluma</td>\n",
       "      <td>us</td>\n",
       "      <td>38.24</td>\n",
       "      <td>-122.66</td>\n",
       "      <td>Celtic Mindfulness</td>\n",
       "      <td>CA</td>\n",
       "      <td>Celtic-Mindfulness</td>\n",
       "    </tr>\n",
       "    <tr>\n",
       "      <th>5</th>\n",
       "      <td>5</td>\n",
       "      <td>1770300</td>\n",
       "      <td>Atlanta</td>\n",
       "      <td>us</td>\n",
       "      <td>33.80</td>\n",
       "      <td>-84.32</td>\n",
       "      <td>Black Nonbelievers (BN)</td>\n",
       "      <td>GA</td>\n",
       "      <td>Black-Nonbelievers</td>\n",
       "    </tr>\n",
       "    <tr>\n",
       "      <th>6</th>\n",
       "      <td>6</td>\n",
       "      <td>1643406</td>\n",
       "      <td>Somerville</td>\n",
       "      <td>us</td>\n",
       "      <td>42.38</td>\n",
       "      <td>-71.10</td>\n",
       "      <td>Quite Write</td>\n",
       "      <td>MA</td>\n",
       "      <td>Quite-Write</td>\n",
       "    </tr>\n",
       "    <tr>\n",
       "      <th>7</th>\n",
       "      <td>7</td>\n",
       "      <td>1152206</td>\n",
       "      <td>Minneapolis</td>\n",
       "      <td>us</td>\n",
       "      <td>44.95</td>\n",
       "      <td>-93.29</td>\n",
       "      <td>The TC Bicycling Meetup</td>\n",
       "      <td>MN</td>\n",
       "      <td>tcbicycling</td>\n",
       "    </tr>\n",
       "    <tr>\n",
       "      <th>8</th>\n",
       "      <td>8</td>\n",
       "      <td>25850006</td>\n",
       "      <td>Berlin</td>\n",
       "      <td>de</td>\n",
       "      <td>52.52</td>\n",
       "      <td>13.38</td>\n",
       "      <td>TICA - Tokens ICOs &amp; Cryptocurrencies Meetup</td>\n",
       "      <td>None</td>\n",
       "      <td>TICA-Tokens-ICOs-Cryptocurrencies-Meetup</td>\n",
       "    </tr>\n",
       "    <tr>\n",
       "      <th>9</th>\n",
       "      <td>9</td>\n",
       "      <td>18928546</td>\n",
       "      <td>Montréal</td>\n",
       "      <td>ca</td>\n",
       "      <td>45.65</td>\n",
       "      <td>-73.50</td>\n",
       "      <td>Authentic Montreal</td>\n",
       "      <td>QC</td>\n",
       "      <td>Authentic-Montreal</td>\n",
       "    </tr>\n",
       "  </tbody>\n",
       "</table>\n",
       "</div>"
      ],
      "text/plain": [
       "   index  group_id   group_city group_country  group_lat  group_lon  \\\n",
       "0      0  28257727        Paris            fr      48.86       2.34   \n",
       "1      1   1685557     Portland            us      45.50    -122.69   \n",
       "2      2  15526962       London            gb      51.54      -0.17   \n",
       "3      3   1414289      Olympia            us      46.99    -122.87   \n",
       "4      4  28330616     Petaluma            us      38.24    -122.66   \n",
       "5      5   1770300      Atlanta            us      33.80     -84.32   \n",
       "6      6   1643406   Somerville            us      42.38     -71.10   \n",
       "7      7   1152206  Minneapolis            us      44.95     -93.29   \n",
       "8      8  25850006       Berlin            de      52.52      13.38   \n",
       "9      9  18928546     Montréal            ca      45.65     -73.50   \n",
       "\n",
       "                                       group_name group_state  \\\n",
       "0                        Meetup EOS Paris, France        None   \n",
       "1                           Portland R User Group          OR   \n",
       "2                          North London Stitch Up        None   \n",
       "3  Olympia Area Activities, Socializing & Friends          WA   \n",
       "4                              Celtic Mindfulness          CA   \n",
       "5                         Black Nonbelievers (BN)          GA   \n",
       "6                                     Quite Write          MA   \n",
       "7                         The TC Bicycling Meetup          MN   \n",
       "8    TICA - Tokens ICOs & Cryptocurrencies Meetup        None   \n",
       "9                              Authentic Montreal          QC   \n",
       "\n",
       "                              group_urlname  \n",
       "0                   Meetup-EOS-Paris-France  \n",
       "1                     portland-r-user-group  \n",
       "2                    North-London-Stitch-Up  \n",
       "3                    Olympia-Friends-Meetup  \n",
       "4                        Celtic-Mindfulness  \n",
       "5                        Black-Nonbelievers  \n",
       "6                               Quite-Write  \n",
       "7                               tcbicycling  \n",
       "8  TICA-Tokens-ICOs-Cryptocurrencies-Meetup  \n",
       "9                        Authentic-Montreal  "
      ]
     },
     "execution_count": 16,
     "metadata": {},
     "output_type": "execute_result"
    }
   ],
   "source": [
    "pd.read_sql_query(\"select * from groups limit 10;\", con)"
   ]
  },
  {
   "cell_type": "markdown",
   "metadata": {},
   "source": [
    "# Summary of the solution and key highlights\n",
    "\n",
    "1. Design and set up the OLAP data warehouse using STAR model as we mentioned in the problem statement\n",
    "2. Build connection with meetup log stream via API\n",
    "3. Recieve the limited data feed by limiting the number of rows as json format \n",
    "4. Filter out the unrelevent records and process the json files to pre-defined 3NF tables\n",
    "5. Store the 3NF tables into SQLite3 DB"
   ]
  },
  {
   "cell_type": "markdown",
   "metadata": {},
   "source": [
    "# Key learnings"
   ]
  },
  {
   "cell_type": "markdown",
   "metadata": {},
   "source": [
    "As more data is generated, it's becoming increasingly important to be able to work with real-time data. Real-time, or streaming, data is generated continuously, and in the case of the stock market, there can be millions of rows generated every hour. Due to size and time constraints, there often isn't a neat dataset that you can analyze — you'll need to either store the data to analyze later, or analyze it in real time, as you get it.\n",
    "\n",
    "By working on the project, we have the chance to experience the full cycle of development of the stream data engineering pipeline. We also gained the practical experience with different technologies like API, json parser and data modeling."
   ]
  },
  {
   "cell_type": "code",
   "execution_count": null,
   "metadata": {
    "collapsed": true
   },
   "outputs": [],
   "source": []
  },
  {
   "cell_type": "markdown",
   "metadata": {},
   "source": [
    "# Part 3: Text Data "
   ]
  },
  {
   "cell_type": "markdown",
   "metadata": {},
   "source": [
    "## Summary of the business problem"
   ]
  },
  {
   "cell_type": "markdown",
   "metadata": {},
   "source": [
    "The business Problem is to analyze the sentiment from the reviews provided to the company, without reading every review. Here, we have classified into two classes, positive and negative. "
   ]
  },
  {
   "cell_type": "code",
   "execution_count": 103,
   "metadata": {
    "collapsed": true
   },
   "outputs": [],
   "source": [
    "%matplotlib inline\n",
    "import numpy as np\n",
    "import matplotlib.pyplot as plt\n",
    "from sklearn.linear_model import LogisticRegression\n",
    "from sklearn.pipeline import Pipeline\n",
    "from time import time\n",
    "from sklearn.metrics import accuracy_score\n",
    "from sklearn.feature_extraction.text import TfidfVectorizer\n",
    "from sklearn.feature_extraction.text import CountVectorizer\n",
    "from sklearn.feature_extraction import FeatureHasher\n",
    "from os import listdir\n",
    "from os.path import isfile, join\n",
    "import pandas as pd"
   ]
  },
  {
   "cell_type": "markdown",
   "metadata": {},
   "source": [
    "## Preparing the Data"
   ]
  },
  {
   "cell_type": "code",
   "execution_count": 2,
   "metadata": {
    "collapsed": true
   },
   "outputs": [],
   "source": [
    "mypathpos = r'C:\\Users\\Neha\\Downloads\\Reviews\\train\\pos'\n",
    "mypathneg = r'C:\\Users\\Neha\\Downloads\\Reviews\\train\\neg'\n",
    "Posreviews = [f for f in listdir(mypathpos) if isfile(join(mypathpos, f))]\n",
    "Negreviews = [f for f in listdir(mypathneg) if isfile(join(mypathneg, f))]"
   ]
  },
  {
   "cell_type": "code",
   "execution_count": 3,
   "metadata": {
    "collapsed": true
   },
   "outputs": [],
   "source": [
    "Posreviewsdf = pd.DataFrame()\n",
    "Negreviewsdf = pd.DataFrame()\n",
    "\n",
    "Posreviewsdf['file']=Posreviews\n",
    "\n",
    "Posreviewsdf['id']= Posreviewsdf['file'].apply(lambda x:x.split('_')[0])\n",
    "\n",
    "Posreviewsdf['rating']= Posreviewsdf['file'].apply(lambda x:x.split('_')[1].strip('.txt'))\n",
    "\n",
    "Posreviewsdf['text']=\"\"\n",
    "for i,f in enumerate(Posreviewsdf['file']):                              \n",
    "    with open(join(mypathpos, f), 'r') as myfile: Posreviewsdf['text'][i]=myfile.read()\n",
    "\n",
    "Negreviewsdf['file']=Negreviews\n",
    "Negreviewsdf['id']= Negreviewsdf['file'].apply(lambda x:x.split('_')[0])\n",
    "Negreviewsdf['rating']= Negreviewsdf['file'].apply(lambda x:x.split('_')[1].strip('.txt'))\n",
    "\n",
    "\n",
    "Negreviewsdf['text']=\"\"\n",
    "\n",
    "for i,f in enumerate(Negreviewsdf['file']):                              \n",
    "    with open(join(mypathneg, f), 'r') as myfile: Negreviewsdf['text'][i]=myfile.read()"
   ]
  },
  {
   "cell_type": "code",
   "execution_count": 25,
   "metadata": {},
   "outputs": [
    {
     "data": {
      "text/plain": [
       "25000"
      ]
     },
     "execution_count": 25,
     "metadata": {},
     "output_type": "execute_result"
    }
   ],
   "source": [
    "reviewdfs=[Posreviewsdf,Negreviewsdf]\n",
    "Allreviews=pd.concat(reviewdfs)\n",
    "Allreviews.head(n=10)\n",
    "len(Allreviews)"
   ]
  },
  {
   "cell_type": "markdown",
   "metadata": {},
   "source": [
    "## Bag of Words"
   ]
  },
  {
   "cell_type": "markdown",
   "metadata": {},
   "source": [
    "Bag of words representation using count vectorizer, a simple count of words per document"
   ]
  },
  {
   "cell_type": "code",
   "execution_count": 70,
   "metadata": {},
   "outputs": [
    {
     "data": {
      "text/plain": [
       "55739"
      ]
     },
     "execution_count": 70,
     "metadata": {},
     "output_type": "execute_result"
    }
   ],
   "source": [
    "vect = CountVectorizer()\n",
    "vect.fit(Posreviewsdf['text'])\n",
    "bag_of_words = vect.transform(Posreviewsdf['text'])\n",
    "bag_of_words_mat=bag_of_words.toarray()\n",
    "feature_names_m = vect.get_feature_names()\n",
    "len(feature_names_m)"
   ]
  },
  {
   "cell_type": "markdown",
   "metadata": {},
   "source": [
    "### TFIDF "
   ]
  },
  {
   "cell_type": "markdown",
   "metadata": {},
   "source": [
    "TFIDF representation using TFIDF vectorizer\n",
    "\\begin{equation}\n",
    "TFIDF(t,d,D) = log(1+f_{{t,d}})  *  {\\displaystyle \\log \\left(1+{\\frac {N}{n_{t}}}\\right)}\n",
    "\\end{equation}\n"
   ]
  },
  {
   "cell_type": "code",
   "execution_count": 68,
   "metadata": {},
   "outputs": [
    {
     "data": {
      "text/plain": [
       "55428"
      ]
     },
     "execution_count": 68,
     "metadata": {},
     "output_type": "execute_result"
    }
   ],
   "source": [
    "from nltk.corpus import stopwords\n",
    "stop_words = set(stopwords.words('english'))\n",
    "from sklearn.feature_extraction.text import TfidfVectorizer\n",
    "tf = TfidfVectorizer(analyzer='word', min_df = 0, stop_words = 'english')\n",
    "tfidf_matrix =  tf.fit_transform(Posreviewsdf['text'])\n",
    "feature_names = tf.get_feature_names() \n",
    "vocab = feature_names\n",
    "len(vocab)"
   ]
  },
  {
   "cell_type": "code",
   "execution_count": 16,
   "metadata": {},
   "outputs": [
    {
     "name": "stdout",
     "output_type": "stream",
     "text": [
      "  (0, 6769)\t0.544982738454\n",
      "  (0, 23060)\t0.279560512647\n",
      "  (0, 7948)\t0.0816176185142\n",
      "  (0, 9951)\t0.0507242076022\n",
      "  (0, 39624)\t0.0879680841492\n",
      "  (0, 49722)\t0.0316578226157\n",
      "  (0, 38481)\t0.10493080468\n",
      "  (0, 43160)\t0.126563073829\n",
      "  (0, 28746)\t0.0389041527211\n",
      "  (0, 48852)\t0.440829837754\n",
      "  (0, 465)\t0.0997937833855\n",
      "  (0, 54997)\t0.0423848430149\n",
      "  (0, 48854)\t0.104138829361\n",
      "  (0, 38431)\t0.105765609801\n",
      "  (0, 28298)\t0.06333638647\n",
      "  (0, 4873)\t0.0552471931789\n",
      "  (0, 42836)\t0.0882413679846\n",
      "  (0, 9519)\t0.0875670191684\n",
      "  (0, 39929)\t0.0656115358452\n",
      "  (0, 43296)\t0.1441329005\n",
      "  (0, 48075)\t0.0850181657653\n",
      "  (0, 18438)\t0.114841114445\n",
      "  (0, 25233)\t0.104138829361\n",
      "  (0, 47401)\t0.175666469927\n",
      "  (0, 41546)\t0.049024767576\n",
      "  :\t:\n",
      "  (12499, 36040)\t0.129288878196\n",
      "  (12499, 48148)\t0.144683481618\n",
      "  (12499, 18425)\t0.109451454038\n",
      "  (12499, 51802)\t0.124394902529\n",
      "  (12499, 4343)\t0.146486987769\n",
      "  (12499, 9522)\t0.131377639588\n",
      "  (12499, 5554)\t0.128133703083\n",
      "  (12499, 49993)\t0.139415943673\n",
      "  (12499, 27903)\t0.121250574111\n",
      "  (12499, 31481)\t0.117417006125\n",
      "  (12499, 24268)\t0.155994474783\n",
      "  (12499, 9808)\t0.14008803845\n",
      "  (12499, 54162)\t0.124087533625\n",
      "  (12499, 18894)\t0.138136474126\n",
      "  (12499, 25403)\t0.134729560449\n",
      "  (12499, 50019)\t0.140783720257\n",
      "  (12499, 33896)\t0.13227892648\n",
      "  (12499, 9886)\t0.171322884831\n",
      "  (12499, 19005)\t0.130515551714\n",
      "  (12499, 41660)\t0.185064456428\n",
      "  (12499, 42048)\t0.159306304838\n",
      "  (12499, 24267)\t0.168266863451\n",
      "  (12499, 35415)\t0.179361188916\n",
      "  (12499, 52740)\t0.185064456428\n",
      "  (12499, 23803)\t0.193102760513\n"
     ]
    }
   ],
   "source": [
    "tf = TfidfVectorizer(analyzer='word', min_df = 0, stop_words = 'english')\n",
    "tfidf_matrix =  tf.fit_transform(Posreviewsdf['text'])\n",
    "for i, feature in enumerate(feature_names): print(i, feature)\n",
    "print(tfidf_matrix)\n"
   ]
  },
  {
   "cell_type": "markdown",
   "metadata": {},
   "source": [
    "## Preparing for Classification"
   ]
  },
  {
   "cell_type": "code",
   "execution_count": 56,
   "metadata": {
    "collapsed": true
   },
   "outputs": [],
   "source": [
    "def binaryclass(string):\n",
    "    if string in ['6','7','8','9','10']: return 1\n",
    "    else: return 0\n",
    "\n",
    "Allreviews['rating']=Allreviews['rating'].apply(lambda x:str(x))\n",
    "\n",
    "Allreviews['Two_Rating'] = Allreviews[Allreviews.columns[2]].apply(lambda x:binaryclass(x))\n",
    "\n",
    "Allreviews[Allreviews.columns[2]].head()\n",
    "\n",
    "Allreviews.head()"
   ]
  },
  {
   "cell_type": "code",
   "execution_count": 62,
   "metadata": {
    "collapsed": true
   },
   "outputs": [],
   "source": [
    "from sklearn.model_selection import train_test_split\n",
    "train, test = train_test_split(Allreviews, test_size=0.2)\n",
    "\n",
    "x_train = train['text']\n",
    "y_train = train['Two_Rating']\n",
    "x_test = test['text']\n",
    "y_test = test['Two_Rating']"
   ]
  },
  {
   "cell_type": "code",
   "execution_count": 71,
   "metadata": {
    "collapsed": true
   },
   "outputs": [],
   "source": [
    "cvec = CountVectorizer()\n",
    "lr = LogisticRegression()\n",
    "n_features = np.arange(50000,100001,10000)\n",
    "tvec = TfidfVectorizer()"
   ]
  },
  {
   "cell_type": "markdown",
   "metadata": {},
   "source": [
    "### Fitting the Vectorizer and Model and computing accuracy"
   ]
  },
  {
   "cell_type": "markdown",
   "metadata": {},
   "source": [
    "To fit the vectorizer and model in a sequence, we have defined a pipeline with these two components. Having a separate function for fitting and collecting resluts lets us change model and vectorizer and get data in the right format for plotting."
   ]
  },
  {
   "cell_type": "code",
   "execution_count": 72,
   "metadata": {
    "collapsed": true
   },
   "outputs": [],
   "source": [
    "def model_fit(pipeline, x_train, y_train, x_test, y_test):\n",
    "    t0 = time()\n",
    "    sentiment_fit = pipeline.fit(x_train, y_train)\n",
    "    y_pred = sentiment_fit.predict(x_test)\n",
    "    train_test_time = time() - t0\n",
    "    accuracy = accuracy_score(y_test, y_pred)\n",
    "    return accuracy, train_test_time"
   ]
  },
  {
   "cell_type": "markdown",
   "metadata": {},
   "source": [
    "### Passing Vectorizer, classifier and getting results"
   ]
  },
  {
   "cell_type": "code",
   "execution_count": 81,
   "metadata": {
    "collapsed": true
   },
   "outputs": [],
   "source": [
    "def Res(vectorizer=cvec, n_features=n_features, stop_words='english', ngram_range=(1, 1), classifier=lr):\n",
    "    resmat = []\n",
    "    for n in n_features:\n",
    "        vectorizer.set_params(stop_words=stop_words, max_features=n, ngram_range=ngram_range)\n",
    "        pipeline = Pipeline([\n",
    "            ('vectorizer', vectorizer),\n",
    "            ('classifier', classifier)\n",
    "        ])\n",
    "        nfeature_accuracy,tt_time = model_fit(pipeline, x_train, y_train, x_test, y_test)\n",
    "        resmat.append((n,nfeature_accuracy,tt_time))\n",
    "    return resmat"
   ]
  },
  {
   "cell_type": "code",
   "execution_count": 83,
   "metadata": {
    "collapsed": true
   },
   "outputs": [],
   "source": [
    "result_ut = Res(vectorizer=tvec)\n",
    "result_bt = Res(vectorizer=tvec,ngram_range=(1, 2))\n",
    "result_tt = Res(vectorizer=tvec,ngram_range=(1, 3))\n",
    "result_u = Res(vectorizer=cvec)\n",
    "result_b = Res(vectorizer=cvec,ngram_range=(1, 2))\n",
    "result_t = Res(vectorizer=cvec,ngram_range=(1, 3))\n",
    "result_sw = Res(vectorizer=tvec, ngram_range=(1, 3), stop_words=None)\n",
    "\n",
    "plot_tt = pd.DataFrame(result_tt,columns=['nfeatures','accuracy','train_test_time'])\n",
    "plot_bt = pd.DataFrame(result_bt,columns=['nfeatures','accuracy','train_test_time'])\n",
    "plot_ut = pd.DataFrame(result_ut,columns=['nfeatures','accuracy','train_test_time'])\n",
    "plot_t = pd.DataFrame(result_t,columns=['nfeatures','accuracy','train_test_time'])\n",
    "plot_b = pd.DataFrame(result_b,columns=['nfeatures','accuracy','train_test_time'])\n",
    "plot_u = pd.DataFrame(result_u,columns=['nfeatures','accuracy','train_test_time'])\n",
    "plot_sw = pd.DataFrame(result_sw,columns=['nfeatures','accuracy','train_test_time'])"
   ]
  },
  {
   "cell_type": "markdown",
   "metadata": {},
   "source": [
    "Plotting Accuracy for various Vectorizers"
   ]
  },
  {
   "cell_type": "code",
   "execution_count": 85,
   "metadata": {},
   "outputs": [
    {
     "data": {
      "text/plain": [
       "<matplotlib.legend.Legend at 0x1551c4a8>"
      ]
     },
     "execution_count": 85,
     "metadata": {},
     "output_type": "execute_result"
    },
    {
     "data": {
      "image/png": "[encoded data removed]",
      "text/plain": [
       "<matplotlib.figure.Figure at 0x5f9a99b0>"
      ]
     },
     "metadata": {},
     "output_type": "display_data"
    }
   ],
   "source": [
    "plt.figure(figsize=(8,6))\n",
    "plt.plot(plot_tt.nfeatures, plot_tt.accuracy,label='trigram tfidf vectorizer',color='magenta')\n",
    "plt.plot(plot_t.nfeatures, plot_t.accuracy,label='trigram count vectorizer', color='blue')\n",
    "plt.plot(plot_bt.nfeatures, plot_b.accuracy,label='bigram tfidf vectorizer',color='orangered')\n",
    "plt.plot(plot_b.nfeatures, plot_b.accuracy,label='bigram count vectorizer',color='green')\n",
    "plt.plot(plot_ut.nfeatures, plot_ut.accuracy, label='unigram tfidf vectorizer',color='red')\n",
    "plt.plot(plot_u.nfeatures, plot_u.accuracy, label='unigram count vectorizer',color='yellow')\n",
    "plt.plot(plot_sw.nfeatures, plot_sw.accuracy, label='No Stop Words trigram tfidf vectorizer',color='orange')\n",
    "plt.title(\"Vectorizer Accuracy\")\n",
    "plt.xlabel(\"Number of features\")\n",
    "plt.ylabel(\"Accuracy\")\n",
    "plt.legend()"
   ]
  },
  {
   "cell_type": "markdown",
   "metadata": {},
   "source": [
    "## Adding Lemmatizer"
   ]
  },
  {
   "cell_type": "markdown",
   "metadata": {},
   "source": [
    "Stemming and Lemmatization means to remove inflection of the words to reduce them to their base form for the purpose of classification and sentiment analysis."
   ]
  },
  {
   "cell_type": "code",
   "execution_count": null,
   "metadata": {
    "collapsed": true
   },
   "outputs": [],
   "source": [
    "from nltk.stem.wordnet import WordNetLemmatizer\n",
    "wordnet_lemmatizer = WordNetLemmatizer()\n",
    "from nltk.stem.lancaster import LancasterStemmer\n",
    "stemmer = LancasterStemmer()\n",
    "resmat2=[]\n",
    "x_train2 = x_train.apply(lambda x:stemmer.stem(x.decode('utf-8')))\n",
    "x_test2=  x_test.apply(lambda x:stemmer.stem(x.decode('utf-8')))\n",
    "vectorizer = tvec\n",
    "classifier = lr\n",
    "\n",
    "for n in range(10000,100001,10000):\n",
    "        tvec.set_params(stop_words=None, max_features=n, ngram_range=(1,3))\n",
    "        pipeline = Pipeline([\n",
    "            ('vectorizer', vectorizer),\n",
    "            ('classifier', classifier)\n",
    "        ])\n",
    "        sentiment_fit = pipeline.fit(x_train2, y_train)\n",
    "        y_pred = sentiment_fit.predict(x_test2)\n",
    "        accuracy = accuracy_score(y_test, y_pred)\n",
    "        resmat2.append((n,accuracy))"
   ]
  },
  {
   "cell_type": "code",
   "execution_count": 100,
   "metadata": {},
   "outputs": [
    {
     "data": {
      "text/plain": [
       "<matplotlib.legend.Legend at 0x10ace1f28>"
      ]
     },
     "execution_count": 100,
     "metadata": {},
     "output_type": "execute_result"
    },
    {
     "data": {
      "image/png": "[encoded data removed]",
      "text/plain": [
       "<matplotlib.figure.Figure at 0x5bde6c18>"
      ]
     },
     "metadata": {},
     "output_type": "display_data"
    }
   ],
   "source": [
    "plot_lem = pd.DataFrame(resmat2,columns=['nfeatures','accuracy'])\n",
    "plt.plot(plot_lem.nfeatures, plot_lem.accuracy,label='Lemmatized trigram tfidf vectorizer',color='orangered')\n",
    "plt.title(\"Vectorizer Accuracy\")\n",
    "plt.xlabel(\"Number of features\")\n",
    "plt.ylabel(\"Accuracy\")\n",
    "plt.legend()"
   ]
  },
  {
   "cell_type": "code",
   "execution_count": 102,
   "metadata": {},
   "outputs": [
    {
     "data": {
      "text/plain": [
       "10479    ludicrous violations of the most basic securit...\n",
       "1679     i had the (mis)fortune to see this film at a s...\n",
       "1343     this insipid mini operetta featuring a eddy-mc...\n",
       "11340    i wasn't really fond of the first \"cube\" movie...\n",
       "8632     ** possible spoilers **<br /><br />i like this...\n",
       "Name: text, dtype: object"
      ]
     },
     "execution_count": 102,
     "metadata": {},
     "output_type": "execute_result"
    }
   ],
   "source": [
    "x_train2.tail()"
   ]
  },
  {
   "cell_type": "markdown",
   "metadata": {},
   "source": [
    "## Feature Hasher "
   ]
  },
  {
   "cell_type": "markdown",
   "metadata": {},
   "source": [
    "Feature Hashing can be done with very low memory and is scalable to large datasets as there is no need to store a vocabulary dictionary in memory. Also, it is easy to pickle and un-pickle as it holds no state besides the constructor parameters.\n",
    "However, unlike count vectorizer an inverse can not be generated which makes it impossible to see which features are important."
   ]
  },
  {
   "cell_type": "code",
   "execution_count": 115,
   "metadata": {
    "collapsed": true
   },
   "outputs": [],
   "source": [
    "resmat3 =[]\n",
    "for n in range(50000,100001,10000):\n",
    "        h = FeatureHasher(n_features=n,input_type='string')\n",
    "        f1 = h.transform(x_train)\n",
    "        f2 = h.transform(x_test)\n",
    "        sentiment_fit = lr.fit(f1, y_train)\n",
    "        y_pred = sentiment_fit.predict(f2)\n",
    "        accuracy = accuracy_score(y_test, y_pred)\n",
    "        resmat3.append((n,accuracy))\n"
   ]
  },
  {
   "cell_type": "code",
   "execution_count": 116,
   "metadata": {},
   "outputs": [
    {
     "data": {
      "text/plain": [
       "<matplotlib.legend.Legend at 0x3350e198>"
      ]
     },
     "execution_count": 116,
     "metadata": {},
     "output_type": "execute_result"
    },
    {
     "data": {
      "image/png": "[encoded data removed]",
      "text/plain": [
       "<matplotlib.figure.Figure at 0x68cc6fd0>"
      ]
     },
     "metadata": {},
     "output_type": "display_data"
    }
   ],
   "source": [
    "plot_hash = pd.DataFrame(resmat3,columns=['nfeatures','accuracy'])\n",
    "plt.plot(plot_hash.nfeatures, plot_hash.accuracy,label='Feature Hashing',color='orangered')\n",
    "plt.title(\"Feature Hashing\")\n",
    "plt.xlabel(\"Number of features\")\n",
    "plt.ylabel(\"Accuracy\")\n",
    "plt.legend()"
   ]
  },
  {
   "cell_type": "markdown",
   "metadata": {},
   "source": [
    "## Summary of the solution and key highlights"
   ]
  },
  {
   "cell_type": "markdown",
   "metadata": {},
   "source": [
    "We have taken the following steps to classify the reviews into two classes:-\n",
    "\n",
    "1. Preprocessing the data.\n",
    "2. Tokenizing and Lemmatizing the data.(reviews text)\n",
    "3. Vectorization of the text data\n",
    "4. Training and predicting sentiment\n",
    "5. Plotting accuracy for number of features for different vectorizers."
   ]
  },
  {
   "cell_type": "markdown",
   "metadata": {},
   "source": [
    "## Key learnings"
   ]
  },
  {
   "cell_type": "markdown",
   "metadata": {},
   "source": [
    "1. Trigram Tfidf gives best accuracy of 89%.\n",
    "2. The accuracy is higher in trigram TFIDF if stop words are not removed.\n",
    "3. Stemming helps improve accuracy, but accuracy varies for number of features.\n",
    "4. Feature Hashing can reduce memory load."
   ]
  },
  {
   "cell_type": "code",
   "execution_count": null,
   "metadata": {
    "collapsed": true
   },
   "outputs": [],
   "source": []
  }
 ],
 "metadata": {
  "kernelspec": {
   "display_name": "Python 3",
   "language": "python",
   "name": "python3"
  },
  "language_info": {
   "codemirror_mode": {
    "name": "ipython",
    "version": 3
   },
   "file_extension": ".py",
   "mimetype": "text/x-python",
   "name": "python",
   "nbconvert_exporter": "python",
   "pygments_lexer": "ipython3",
   "version": "3.6.3"
  },
  "name": "_merged"
 },
 "nbformat": 4,
 "nbformat_minor": 2
}
