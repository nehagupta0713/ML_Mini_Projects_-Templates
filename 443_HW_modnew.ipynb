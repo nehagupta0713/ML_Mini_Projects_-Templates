{
 "cells": [
  {
   "cell_type": "markdown",
   "metadata": {},
   "source": [
    "## Data Preparation"
   ]
  },
  {
   "cell_type": "code",
   "execution_count": 1,
   "metadata": {
    "collapsed": true
   },
   "outputs": [],
   "source": [
    "import pandas as pd\n",
    "Data = pd.read_csv(r\"C:\\Users\\Neha\\Downloads\\datahomework2.csv\")"
   ]
  },
  {
   "cell_type": "code",
   "execution_count": 2,
   "metadata": {
    "collapsed": true
   },
   "outputs": [],
   "source": [
    "Data['Amz_return']=Data['Amazon'].pct_change(fill_method='ffill')\n",
    "Data['Apl_return']=Data['Apple'].pct_change(fill_method='ffill')\n",
    "Data['Ebay_return']=Data['Ebay'].pct_change(fill_method='ffill')\n",
    "Data['FB_return']=Data['Facebook'].pct_change(fill_method='ffill')\n",
    "Data['Ggl_return']=Data['Google'].pct_change(fill_method='ffill')\n",
    "Data['Twtr_return']=Data['Twitter'].pct_change(fill_method='ffill')"
   ]
  },
  {
   "cell_type": "code",
   "execution_count": 3,
   "metadata": {},
   "outputs": [
    {
     "data": {
      "text/html": [
       "<div>\n",
       "<style>\n",
       "    .dataframe thead tr:only-child th {\n",
       "        text-align: right;\n",
       "    }\n",
       "\n",
       "    .dataframe thead th {\n",
       "        text-align: left;\n",
       "    }\n",
       "\n",
       "    .dataframe tbody tr th {\n",
       "        vertical-align: top;\n",
       "    }\n",
       "</style>\n",
       "<table border=\"1\" class=\"dataframe\">\n",
       "  <thead>\n",
       "    <tr style=\"text-align: right;\">\n",
       "      <th></th>\n",
       "      <th>Amazon</th>\n",
       "      <th>Apple</th>\n",
       "      <th>Ebay</th>\n",
       "      <th>Facebook</th>\n",
       "      <th>Google</th>\n",
       "      <th>Twitter</th>\n",
       "      <th>Amz_return</th>\n",
       "      <th>Apl_return</th>\n",
       "      <th>Ebay_return</th>\n",
       "      <th>FB_return</th>\n",
       "      <th>Ggl_return</th>\n",
       "      <th>Twtr_return</th>\n",
       "    </tr>\n",
       "  </thead>\n",
       "  <tbody>\n",
       "    <tr>\n",
       "      <th>0</th>\n",
       "      <td>252.585</td>\n",
       "      <td>106.250000</td>\n",
       "      <td>23.457600</td>\n",
       "      <td>77.190002</td>\n",
       "      <td>519.500000</td>\n",
       "      <td>36.380001</td>\n",
       "      <td>NaN</td>\n",
       "      <td>NaN</td>\n",
       "      <td>NaN</td>\n",
       "      <td>NaN</td>\n",
       "      <td>NaN</td>\n",
       "      <td>NaN</td>\n",
       "    </tr>\n",
       "    <tr>\n",
       "      <th>1</th>\n",
       "      <td>245.488</td>\n",
       "      <td>106.260002</td>\n",
       "      <td>23.156700</td>\n",
       "      <td>76.150002</td>\n",
       "      <td>506.600006</td>\n",
       "      <td>37.279999</td>\n",
       "      <td>-0.028097</td>\n",
       "      <td>0.000094</td>\n",
       "      <td>-0.012827</td>\n",
       "      <td>-0.013473</td>\n",
       "      <td>-0.024832</td>\n",
       "      <td>0.024739</td>\n",
       "    </tr>\n",
       "    <tr>\n",
       "      <th>2</th>\n",
       "      <td>253.816</td>\n",
       "      <td>107.750000</td>\n",
       "      <td>23.116699</td>\n",
       "      <td>76.150002</td>\n",
       "      <td>505.200012</td>\n",
       "      <td>39.090000</td>\n",
       "      <td>0.033924</td>\n",
       "      <td>0.014022</td>\n",
       "      <td>-0.001727</td>\n",
       "      <td>0.000000</td>\n",
       "      <td>-0.002764</td>\n",
       "      <td>0.048552</td>\n",
       "    </tr>\n",
       "    <tr>\n",
       "      <th>3</th>\n",
       "      <td>256.030</td>\n",
       "      <td>111.889999</td>\n",
       "      <td>23.741699</td>\n",
       "      <td>78.175003</td>\n",
       "      <td>506.899994</td>\n",
       "      <td>40.169998</td>\n",
       "      <td>0.008723</td>\n",
       "      <td>0.038422</td>\n",
       "      <td>0.027037</td>\n",
       "      <td>0.026592</td>\n",
       "      <td>0.003365</td>\n",
       "      <td>0.027628</td>\n",
       "    </tr>\n",
       "    <tr>\n",
       "      <th>4</th>\n",
       "      <td>253.299</td>\n",
       "      <td>112.010002</td>\n",
       "      <td>23.413401</td>\n",
       "      <td>77.739998</td>\n",
       "      <td>500.700012</td>\n",
       "      <td>39.369999</td>\n",
       "      <td>-0.010667</td>\n",
       "      <td>0.001073</td>\n",
       "      <td>-0.013828</td>\n",
       "      <td>-0.005565</td>\n",
       "      <td>-0.012231</td>\n",
       "      <td>-0.019915</td>\n",
       "    </tr>\n",
       "  </tbody>\n",
       "</table>\n",
       "</div>"
      ],
      "text/plain": [
       "    Amazon       Apple       Ebay   Facebook      Google    Twitter  \\\n",
       "0  252.585  106.250000  23.457600  77.190002  519.500000  36.380001   \n",
       "1  245.488  106.260002  23.156700  76.150002  506.600006  37.279999   \n",
       "2  253.816  107.750000  23.116699  76.150002  505.200012  39.090000   \n",
       "3  256.030  111.889999  23.741699  78.175003  506.899994  40.169998   \n",
       "4  253.299  112.010002  23.413401  77.739998  500.700012  39.369999   \n",
       "\n",
       "   Amz_return  Apl_return  Ebay_return  FB_return  Ggl_return  Twtr_return  \n",
       "0         NaN         NaN          NaN        NaN         NaN          NaN  \n",
       "1   -0.028097    0.000094    -0.012827  -0.013473   -0.024832     0.024739  \n",
       "2    0.033924    0.014022    -0.001727   0.000000   -0.002764     0.048552  \n",
       "3    0.008723    0.038422     0.027037   0.026592    0.003365     0.027628  \n",
       "4   -0.010667    0.001073    -0.013828  -0.005565   -0.012231    -0.019915  "
      ]
     },
     "execution_count": 3,
     "metadata": {},
     "output_type": "execute_result"
    }
   ],
   "source": [
    "Data.head()"
   ]
  },
  {
   "cell_type": "code",
   "execution_count": 4,
   "metadata": {},
   "outputs": [
    {
     "data": {
      "text/plain": [
       "(799, 12)"
      ]
     },
     "execution_count": 4,
     "metadata": {},
     "output_type": "execute_result"
    }
   ],
   "source": [
    "Data.shape"
   ]
  },
  {
   "cell_type": "code",
   "execution_count": 6,
   "metadata": {},
   "outputs": [],
   "source": [
    "from scipy.stats import gmean"
   ]
  },
  {
   "cell_type": "code",
   "execution_count": 7,
   "metadata": {},
   "outputs": [
    {
     "data": {
      "text/plain": [
       "0"
      ]
     },
     "execution_count": 7,
     "metadata": {},
     "output_type": "execute_result"
    }
   ],
   "source": [
    "sum(Data['Amz_return'][1:].isnull())"
   ]
  },
  {
   "cell_type": "code",
   "execution_count": 8,
   "metadata": {
    "collapsed": true
   },
   "outputs": [],
   "source": [
    "x1 = Data['Amz_return'].apply(lambda x:x+1)\n",
    "x2= Data['Apl_return'].apply(lambda x:x+1)\n",
    "x3 = Data['Ebay_return'].apply(lambda x:x+1)\n",
    "x4 = Data['FB_return'].apply(lambda x:x+1)\n",
    "x5 = Data['Ggl_return'].apply(lambda x:x+1)\n",
    "x6 = Data['Twtr_return'].apply(lambda x:x+1)"
   ]
  },
  {
   "cell_type": "code",
   "execution_count": 10,
   "metadata": {},
   "outputs": [
    {
     "data": {
      "text/plain": [
       "[0.0019877860467183428,\n",
       " 0.00062571268551203651,\n",
       " 0.00075472615818084066,\n",
       " 0.0010881914696110329,\n",
       " 0.00097360307069860319,\n",
       " -2.7863607830913573e-05]"
      ]
     },
     "execution_count": 10,
     "metadata": {},
     "output_type": "execute_result"
    }
   ],
   "source": [
    "meanv=[gmean(x1[1:])-1,gmean(x2[1:])-1,gmean(x3[1:])-1,gmean(x4[1:])-1,gmean(x5[1:])-1,\\\n",
    "      gmean(x6[1:])-1]\n",
    "meanv"
   ]
  },
  {
   "cell_type": "code",
   "execution_count": 64,
   "metadata": {},
   "outputs": [
    {
     "data": {
      "text/plain": [
       "['c:\\\\users\\\\neha\\\\anaconda2\\\\lib\\\\site-packages (0.19.1)',\n",
       " '',\n",
       " 'C:\\\\Users\\\\Neha\\\\Anaconda2\\\\python27.zip',\n",
       " 'C:\\\\Users\\\\Neha\\\\Anaconda2\\\\DLLs',\n",
       " 'C:\\\\Users\\\\Neha\\\\Anaconda2\\\\lib',\n",
       " 'C:\\\\Users\\\\Neha\\\\Anaconda2\\\\lib\\\\plat-win',\n",
       " 'C:\\\\Users\\\\Neha\\\\Anaconda2\\\\lib\\\\lib-tk',\n",
       " 'C:\\\\Users\\\\Neha\\\\Anaconda2',\n",
       " 'C:\\\\Users\\\\Neha\\\\Anaconda2\\\\lib\\\\site-packages',\n",
       " 'C:\\\\Users\\\\Neha\\\\Anaconda2\\\\lib\\\\site-packages\\\\PIL',\n",
       " 'C:\\\\Users\\\\Neha\\\\Anaconda2\\\\lib\\\\site-packages\\\\Sphinx-1.5.6-py2.7.egg',\n",
       " 'C:\\\\Users\\\\Neha\\\\Anaconda2\\\\lib\\\\site-packages\\\\win32',\n",
       " 'C:\\\\Users\\\\Neha\\\\Anaconda2\\\\lib\\\\site-packages\\\\win32\\\\lib',\n",
       " 'C:\\\\Users\\\\Neha\\\\Anaconda2\\\\lib\\\\site-packages\\\\Pythonwin',\n",
       " 'C:\\\\Users\\\\Neha\\\\Anaconda2\\\\lib\\\\site-packages\\\\IPython\\\\extensions',\n",
       " 'C:\\\\Users\\\\Neha\\\\.ipython']"
      ]
     },
     "execution_count": 64,
     "metadata": {},
     "output_type": "execute_result"
    }
   ],
   "source": [
    "import sys\n",
    "sys.path\n",
    "sys.path.insert(0,r'c:\\users\\neha\\anaconda2\\lib\\site-packages (0.19.1)')\n",
    "sys.path"
   ]
  },
  {
   "cell_type": "code",
   "execution_count": 13,
   "metadata": {
    "collapsed": true
   },
   "outputs": [],
   "source": [
    "Datamat = Data.iloc[1:,6:12]\n",
    "\n",
    "covmat = Datamat.as_matrix()\n",
    "\n",
    "covmat.shape\n",
    "\n",
    "covar = np.cov(covmat.T)\n",
    "\n",
    "covar\n",
    "\n",
    "covdf=pd.DataFrame(covar,columns=['Amzn','Apl','Ebay','FB','Ggl','Twttr'])"
   ]
  },
  {
   "cell_type": "code",
   "execution_count": 19,
   "metadata": {},
   "outputs": [
    {
     "data": {
      "text/html": [
       "<div>\n",
       "<style>\n",
       "    .dataframe thead tr:only-child th {\n",
       "        text-align: right;\n",
       "    }\n",
       "\n",
       "    .dataframe thead th {\n",
       "        text-align: left;\n",
       "    }\n",
       "\n",
       "    .dataframe tbody tr th {\n",
       "        vertical-align: top;\n",
       "    }\n",
       "</style>\n",
       "<table border=\"1\" class=\"dataframe\">\n",
       "  <thead>\n",
       "    <tr style=\"text-align: right;\">\n",
       "      <th></th>\n",
       "      <th>Amzn</th>\n",
       "      <th>Apl</th>\n",
       "      <th>Ebay</th>\n",
       "      <th>FB</th>\n",
       "      <th>Ggl</th>\n",
       "      <th>Twttr</th>\n",
       "    </tr>\n",
       "  </thead>\n",
       "  <tbody>\n",
       "    <tr>\n",
       "      <th>0</th>\n",
       "      <td>0.000407</td>\n",
       "      <td>0.000005</td>\n",
       "      <td>0.000012</td>\n",
       "      <td>-0.000011</td>\n",
       "      <td>0.000007</td>\n",
       "      <td>-0.000095</td>\n",
       "    </tr>\n",
       "    <tr>\n",
       "      <th>1</th>\n",
       "      <td>0.000005</td>\n",
       "      <td>0.000211</td>\n",
       "      <td>0.000060</td>\n",
       "      <td>0.000069</td>\n",
       "      <td>0.000060</td>\n",
       "      <td>0.000040</td>\n",
       "    </tr>\n",
       "    <tr>\n",
       "      <th>2</th>\n",
       "      <td>0.000012</td>\n",
       "      <td>0.000060</td>\n",
       "      <td>0.000292</td>\n",
       "      <td>0.000027</td>\n",
       "      <td>0.000055</td>\n",
       "      <td>0.000024</td>\n",
       "    </tr>\n",
       "    <tr>\n",
       "      <th>3</th>\n",
       "      <td>-0.000011</td>\n",
       "      <td>0.000069</td>\n",
       "      <td>0.000027</td>\n",
       "      <td>0.000242</td>\n",
       "      <td>0.000099</td>\n",
       "      <td>0.000022</td>\n",
       "    </tr>\n",
       "    <tr>\n",
       "      <th>4</th>\n",
       "      <td>0.000007</td>\n",
       "      <td>0.000060</td>\n",
       "      <td>0.000055</td>\n",
       "      <td>0.000099</td>\n",
       "      <td>0.000203</td>\n",
       "      <td>0.000010</td>\n",
       "    </tr>\n",
       "    <tr>\n",
       "      <th>5</th>\n",
       "      <td>-0.000095</td>\n",
       "      <td>0.000040</td>\n",
       "      <td>0.000024</td>\n",
       "      <td>0.000022</td>\n",
       "      <td>0.000010</td>\n",
       "      <td>0.001071</td>\n",
       "    </tr>\n",
       "  </tbody>\n",
       "</table>\n",
       "</div>"
      ],
      "text/plain": [
       "       Amzn       Apl      Ebay        FB       Ggl     Twttr\n",
       "0  0.000407  0.000005  0.000012 -0.000011  0.000007 -0.000095\n",
       "1  0.000005  0.000211  0.000060  0.000069  0.000060  0.000040\n",
       "2  0.000012  0.000060  0.000292  0.000027  0.000055  0.000024\n",
       "3 -0.000011  0.000069  0.000027  0.000242  0.000099  0.000022\n",
       "4  0.000007  0.000060  0.000055  0.000099  0.000203  0.000010\n",
       "5 -0.000095  0.000040  0.000024  0.000022  0.000010  0.001071"
      ]
     },
     "execution_count": 19,
     "metadata": {},
     "output_type": "execute_result"
    }
   ],
   "source": [
    "covdf"
   ]
  },
  {
   "cell_type": "markdown",
   "metadata": {
    "collapsed": true
   },
   "source": [
    "# Portfolio\n",
    "We implement an portfolio optimization problem for tech companies, i.e.,\n",
    "\n",
    "* Amazon\n",
    "\n",
    "* Apple \n",
    "\n",
    "* eBay\n",
    "\n",
    "* Facebook\n",
    "\n",
    "* Google\n",
    "\n",
    "* Twitter\n",
    "\n",
    "The goal is to minimize risk of the portfolio with a constraint on the minimum returns.\n",
    "\n",
    "\\begin{align}\n",
    "\\text{Minimize} \\quad \\frac{1}{2} x^T & \\Sigma x\\\\\n",
    "\\mu^T x &\\geq R\\\\\n",
    "\\sum_{i=1}^5&=1\\\\\n",
    "x&\\geq0\n",
    "\\end{align}\n",
    "\n",
    "\n"
   ]
  },
  {
   "cell_type": "code",
   "execution_count": 257,
   "metadata": {},
   "outputs": [
    {
     "name": "stdout",
     "output_type": "stream",
     "text": [
      "[[ 0.20424901]\n",
      " [ 0.19550426]\n",
      " [ 0.16169969]\n",
      " [ 0.17375774]\n",
      " [ 0.18986228]\n",
      " [ 0.07492702]]\n"
     ]
    }
   ],
   "source": [
    "import numpy as np\n",
    "import math\n",
    "import cvxpy as cvx\n",
    "from numpy import matrix \n",
    "from cvxpy import *\n",
    "import matplotlib.pyplot as plt\n",
    "import numpy as np\n",
    "import pandas as pd\n",
    "R=0.15/250\n",
    "mu=matrix(meanv)\n",
    "Cov=matrix(covar)\n",
    "x=cvx.Variable(6)\n",
    "\n",
    "\n",
    "risk=quad_form(x, Cov)\n",
    "rr=sum_entries(mu*x)\n",
    "prob1 = Problem(Minimize(risk ), \n",
    "               [rr>=R,sum_entries(x) == 1, \n",
    "                x >= 0])\n",
    "prob1.solve()\n",
    "print(x.value)"
   ]
  },
  {
   "cell_type": "code",
   "execution_count": 258,
   "metadata": {},
   "outputs": [
    {
     "data": {
      "text/plain": [
       "134.39218918248528"
      ]
     },
     "execution_count": 258,
     "metadata": {},
     "output_type": "execute_result"
    }
   ],
   "source": [
    "import matplotlib.pyplot as plt\n",
    "import numpy as np\n",
    "import pandas as pd\n",
    "T = 300\n",
    "m=6\n",
    "B=100\n",
    "y = np.zeros((T+1,m))\n",
    "y[0]=[x.value.item(0),x.value.item(1),x.value.item(2),x.value.item(3),x.value.item(4),x.value.item(5)]\n",
    "for i in range(T):\n",
    "    rr=np.random.multivariate_normal(meanv,Cov)\n",
    "    y[i+1]=y[i]*(1+rr)\n",
    "sum(y[T])*B"
   ]
  },
  {
   "cell_type": "code",
   "execution_count": 259,
   "metadata": {},
   "outputs": [
    {
     "data": {
      "image/png": "[encoded data removed]",
      "text/plain": [
       "<matplotlib.figure.Figure at 0x11029c88>"
      ]
     },
     "metadata": {},
     "output_type": "display_data"
    }
   ],
   "source": [
    "# Simulation\n",
    "import numpy as np\n",
    "import matplotlib.pyplot as plt\n",
    "simu=50\n",
    "T = 250\n",
    "m=6\n",
    "B=100 \n",
    "z_values = []\n",
    "for q in range(simu):\n",
    "    y = np.zeros((T+1,m))\n",
    "    y[0]=[x.value.item(0),x.value.item(1),x.value.item(2),x.value.item(3),x.value.item(4),x.value.item(5)]\n",
    "    for i in range(T):\n",
    "        rr=np.random.multivariate_normal(meanv,Cov)\n",
    "        y[i+1]=y[i]*(1+rr)\n",
    "    z_values.append(sum(y[T])*B)\n",
    "\n",
    "plt.hist(z_values, density=True )\n",
    "plt.xlabel('Portfolio')\n",
    "plt.ylabel('Probability')\n",
    "plt.title('Histogram of Returns')\n",
    "plt.show()"
   ]
  },
  {
   "cell_type": "code",
   "execution_count": 260,
   "metadata": {},
   "outputs": [
    {
     "data": {
      "image/png": "[encoded data removed]",
      "text/plain": [
       "<matplotlib.figure.Figure at 0xf678828>"
      ]
     },
     "metadata": {},
     "output_type": "display_data"
    }
   ],
   "source": [
    "ydf = pd.DataFrame(y)\n",
    "ydf.head(n=10)\n",
    "T_range = range(0,251,1)\n",
    "plt.plot(T_range,ydf[0], color='skyblue', label='Amazon')\n",
    "plt.plot(T_range,ydf[1], color='orangered', label='Apple')\n",
    "plt.plot(T_range,ydf[2], color='magenta', label='Ebay')\n",
    "plt.plot(T_range,ydf[3], color='cyan', label='FB')\n",
    "plt.plot(T_range,ydf[4], color='green', label='Google')\n",
    "plt.plot(T_range,ydf[5], color='red', label='Twitter')\n",
    "plt.xlabel('Trading Day')\n",
    "plt.ylabel('Stock Returns')\n",
    "plt.title('Stock Return Simulation')\n",
    "plt.legend()\n",
    "plt.show()"
   ]
  },
  {
   "cell_type": "code",
   "execution_count": 264,
   "metadata": {},
   "outputs": [
    {
     "data": {
      "image/png": "[encoded data removed]",
      "text/plain": [
       "<matplotlib.figure.Figure at 0x10cadc18>"
      ]
     },
     "metadata": {},
     "output_type": "display_data"
    }
   ],
   "source": [
    "ydf2 = pd.DataFrame(y)\n",
    "ydf2[6]=ydf[0]+ydf[1]+ydf[2]+ydf[4]+ydf[5]+ydf[3]\n",
    "ydf2[7]=100*ydf2[6]\n",
    "T_range = range(0,251,1)\n",
    "plt.plot(T_range,ydf2[7], color='skyblue', label='Optimal Portfolio')\n",
    "plt.xlabel('Trading Day')\n",
    "plt.ylabel('PortFolio Value')\n",
    "plt.title('Stock Return Simulation')\n",
    "plt.legend()\n",
    "plt.show()"
   ]
  },
  {
   "cell_type": "markdown",
   "metadata": {},
   "source": [
    "Part c"
   ]
  },
  {
   "cell_type": "code",
   "execution_count": 280,
   "metadata": {},
   "outputs": [],
   "source": [
    "Allo = []\n",
    "for gamma in [0.1,0.15,0.2]:\n",
    "    rr=sum_entries(mu*x)\n",
    "    Exp_return= rr - gamma*quad_form(x, Cov)\n",
    "    prob1 = Problem(Maximize(Exp_return), \n",
    "                   [sum_entries(x) == 1, \n",
    "                    x >= 0])\n",
    "    prob1.solve()\n",
    "    Allo.append(x.value.tolist())"
   ]
  },
  {
   "cell_type": "code",
   "execution_count": 281,
   "metadata": {},
   "outputs": [],
   "source": [
    "Allodf = pd.DataFrame(Allo)\n",
    "\n",
    "def values(list):\n",
    "          for val in list: return np.round(val,16)\n",
    "for i in range(0,6):\n",
    "     Allodf[i]=Allodf[i].apply(lambda x:values(x))"
   ]
  },
  {
   "cell_type": "code",
   "execution_count": 283,
   "metadata": {},
   "outputs": [
    {
     "data": {
      "text/html": [
       "<div>\n",
       "<style>\n",
       "    .dataframe thead tr:only-child th {\n",
       "        text-align: right;\n",
       "    }\n",
       "\n",
       "    .dataframe thead th {\n",
       "        text-align: left;\n",
       "    }\n",
       "\n",
       "    .dataframe tbody tr th {\n",
       "        vertical-align: top;\n",
       "    }\n",
       "</style>\n",
       "<table border=\"1\" class=\"dataframe\">\n",
       "  <thead>\n",
       "    <tr style=\"text-align: right;\">\n",
       "      <th></th>\n",
       "      <th>0</th>\n",
       "      <th>1</th>\n",
       "      <th>2</th>\n",
       "      <th>3</th>\n",
       "      <th>4</th>\n",
       "      <th>5</th>\n",
       "    </tr>\n",
       "  </thead>\n",
       "  <tbody>\n",
       "    <tr>\n",
       "      <th>0</th>\n",
       "      <td>1.0</td>\n",
       "      <td>1.545218e-08</td>\n",
       "      <td>1.473710e-08</td>\n",
       "      <td>5.023489e-09</td>\n",
       "      <td>1.063441e-08</td>\n",
       "      <td>1.486739e-08</td>\n",
       "    </tr>\n",
       "    <tr>\n",
       "      <th>1</th>\n",
       "      <td>1.0</td>\n",
       "      <td>7.690520e-09</td>\n",
       "      <td>7.191776e-09</td>\n",
       "      <td>2.447424e-09</td>\n",
       "      <td>4.995601e-09</td>\n",
       "      <td>7.916047e-09</td>\n",
       "    </tr>\n",
       "    <tr>\n",
       "      <th>2</th>\n",
       "      <td>1.0</td>\n",
       "      <td>5.310290e-09</td>\n",
       "      <td>4.855902e-09</td>\n",
       "      <td>2.000686e-09</td>\n",
       "      <td>3.314485e-09</td>\n",
       "      <td>5.944524e-09</td>\n",
       "    </tr>\n",
       "  </tbody>\n",
       "</table>\n",
       "</div>"
      ],
      "text/plain": [
       "     0             1             2             3             4             5\n",
       "0  1.0  1.545218e-08  1.473710e-08  5.023489e-09  1.063441e-08  1.486739e-08\n",
       "1  1.0  7.690520e-09  7.191776e-09  2.447424e-09  4.995601e-09  7.916047e-09\n",
       "2  1.0  5.310290e-09  4.855902e-09  2.000686e-09  3.314485e-09  5.944524e-09"
      ]
     },
     "execution_count": 283,
     "metadata": {},
     "output_type": "execute_result"
    }
   ],
   "source": [
    "Allodf"
   ]
  },
  {
   "cell_type": "code",
   "execution_count": 284,
   "metadata": {
    "collapsed": true
   },
   "outputs": [],
   "source": [
    "def obj(x):\n",
    "    o = norm(Q*x,2)\n",
    "    return o"
   ]
  },
  {
   "cell_type": "code",
   "execution_count": 193,
   "metadata": {
    "collapsed": true
   },
   "outputs": [],
   "source": [
    "Q = np.linalg.cholesky(Cov)"
   ]
  },
  {
   "cell_type": "code",
   "execution_count": 194,
   "metadata": {},
   "outputs": [
    {
     "ename": "DCPError",
     "evalue": "Problem does not follow DCP rules.",
     "output_type": "error",
     "traceback": [
      "\u001b[1;31m---------------------------------------------------------------------------\u001b[0m",
      "\u001b[1;31mDCPError\u001b[0m                                  Traceback (most recent call last)",
      "\u001b[1;32m<ipython-input-194-4390d16ab690>\u001b[0m in \u001b[0;36m<module>\u001b[1;34m()\u001b[0m\n\u001b[0;32m      5\u001b[0m                 constraints=[sum_entries(x) == 1, \n\u001b[0;32m      6\u001b[0m                     x >= 0])\n\u001b[1;32m----> 7\u001b[1;33m     \u001b[0mprob1\u001b[0m\u001b[1;33m.\u001b[0m\u001b[0msolve\u001b[0m\u001b[1;33m(\u001b[0m\u001b[1;33m)\u001b[0m\u001b[1;33m\u001b[0m\u001b[0m\n\u001b[0m\u001b[0;32m      8\u001b[0m     \u001b[0mAllo2\u001b[0m\u001b[1;33m.\u001b[0m\u001b[0mappend\u001b[0m\u001b[1;33m(\u001b[0m\u001b[0mx\u001b[0m\u001b[1;33m.\u001b[0m\u001b[0mvalues\u001b[0m\u001b[1;33m.\u001b[0m\u001b[0mtolist\u001b[0m\u001b[1;33m(\u001b[0m\u001b[1;33m)\u001b[0m\u001b[1;33m)\u001b[0m\u001b[1;33m\u001b[0m\u001b[0m\n",
      "\u001b[1;32mC:\\Users\\Neha\\Anaconda2\\lib\\site-packages\\cvxpy\\problems\\problem.pyc\u001b[0m in \u001b[0;36msolve\u001b[1;34m(self, *args, **kwargs)\u001b[0m\n\u001b[0;32m    207\u001b[0m             \u001b[1;32mreturn\u001b[0m \u001b[0mfunc\u001b[0m\u001b[1;33m(\u001b[0m\u001b[0mself\u001b[0m\u001b[1;33m,\u001b[0m \u001b[1;33m*\u001b[0m\u001b[0margs\u001b[0m\u001b[1;33m,\u001b[0m \u001b[1;33m**\u001b[0m\u001b[0mkwargs\u001b[0m\u001b[1;33m)\u001b[0m\u001b[1;33m\u001b[0m\u001b[0m\n\u001b[0;32m    208\u001b[0m         \u001b[1;32melse\u001b[0m\u001b[1;33m:\u001b[0m\u001b[1;33m\u001b[0m\u001b[0m\n\u001b[1;32m--> 209\u001b[1;33m             \u001b[1;32mreturn\u001b[0m \u001b[0mself\u001b[0m\u001b[1;33m.\u001b[0m\u001b[0m_solve\u001b[0m\u001b[1;33m(\u001b[0m\u001b[1;33m*\u001b[0m\u001b[0margs\u001b[0m\u001b[1;33m,\u001b[0m \u001b[1;33m**\u001b[0m\u001b[0mkwargs\u001b[0m\u001b[1;33m)\u001b[0m\u001b[1;33m\u001b[0m\u001b[0m\n\u001b[0m\u001b[0;32m    210\u001b[0m \u001b[1;33m\u001b[0m\u001b[0m\n\u001b[0;32m    211\u001b[0m     \u001b[1;33m@\u001b[0m\u001b[0mclassmethod\u001b[0m\u001b[1;33m\u001b[0m\u001b[0m\n",
      "\u001b[1;32mC:\\Users\\Neha\\Anaconda2\\lib\\site-packages\\cvxpy\\problems\\problem.pyc\u001b[0m in \u001b[0;36m_solve\u001b[1;34m(self, solver, ignore_dcp, warm_start, verbose, parallel, **kwargs)\u001b[0m\n\u001b[0;32m    281\u001b[0m                       \"Solving a convex relaxation.\")\n\u001b[0;32m    282\u001b[0m             \u001b[1;32melse\u001b[0m\u001b[1;33m:\u001b[0m\u001b[1;33m\u001b[0m\u001b[0m\n\u001b[1;32m--> 283\u001b[1;33m                 \u001b[1;32mraise\u001b[0m \u001b[0mDCPError\u001b[0m\u001b[1;33m(\u001b[0m\u001b[1;34m\"Problem does not follow DCP rules.\"\u001b[0m\u001b[1;33m)\u001b[0m\u001b[1;33m\u001b[0m\u001b[0m\n\u001b[0m\u001b[0;32m    284\u001b[0m \u001b[1;33m\u001b[0m\u001b[0m\n\u001b[0;32m    285\u001b[0m         \u001b[1;32mif\u001b[0m \u001b[0msolver\u001b[0m \u001b[1;33m==\u001b[0m \u001b[0ms\u001b[0m\u001b[1;33m.\u001b[0m\u001b[0mLS\u001b[0m\u001b[1;33m:\u001b[0m\u001b[1;33m\u001b[0m\u001b[0m\n",
      "\u001b[1;31mDCPError\u001b[0m: Problem does not follow DCP rules."
     ]
    }
   ],
   "source": [
    "Allo2 = []\n",
    "for gamma in [0.1,0.15,0.2]:\n",
    "    Exp_return= x.T*mu.T - gamma*sqrt(obj(x))\n",
    "    prob1 = Problem(Maximize(Exp_return), \n",
    "                constraints=[sum_entries(x) == 1, \n",
    "                    x >= 0])\n",
    "    prob1.solve()\n",
    "    Allo2.append(x.values.tolist())"
   ]
  },
  {
   "cell_type": "code",
   "execution_count": 158,
   "metadata": {},
   "outputs": [
    {
     "data": {
      "text/plain": [
       "(1L, 6L)"
      ]
     },
     "execution_count": 158,
     "metadata": {},
     "output_type": "execute_result"
    }
   ],
   "source": [
    "mu.shape"
   ]
  },
  {
   "cell_type": "code",
   "execution_count": 166,
   "metadata": {},
   "outputs": [
    {
     "data": {
      "text/plain": [
       "(cvxpy.expressions.variables.variable.Variable, Variable(6, 1))"
      ]
     },
     "execution_count": 166,
     "metadata": {},
     "output_type": "execute_result"
    }
   ],
   "source": [
    "type(x),x"
   ]
  },
  {
   "cell_type": "code",
   "execution_count": 175,
   "metadata": {},
   "outputs": [
    {
     "data": {
      "text/plain": [
       "Expression(AFFINE, UNKNOWN, (1, 6))"
      ]
     },
     "execution_count": 175,
     "metadata": {},
     "output_type": "execute_result"
    }
   ],
   "source": [
    "x.T"
   ]
  },
  {
   "cell_type": "code",
   "execution_count": 176,
   "metadata": {},
   "outputs": [
    {
     "data": {
      "text/plain": [
       "(6L, 6L)"
      ]
     },
     "execution_count": 176,
     "metadata": {},
     "output_type": "execute_result"
    }
   ],
   "source": [
    "Cov.shape"
   ]
  },
  {
   "cell_type": "code",
   "execution_count": 177,
   "metadata": {
    "collapsed": true
   },
   "outputs": [],
   "source": [
    "l=np.dot(x.T,Cov)"
   ]
  },
  {
   "cell_type": "code",
   "execution_count": 178,
   "metadata": {},
   "outputs": [
    {
     "data": {
      "text/plain": [
       "(6L, 6L)"
      ]
     },
     "execution_count": 178,
     "metadata": {},
     "output_type": "execute_result"
    }
   ],
   "source": [
    "l.shape"
   ]
  },
  {
   "cell_type": "code",
   "execution_count": 181,
   "metadata": {},
   "outputs": [
    {
     "ename": "ValueError",
     "evalue": "setting an array element with a sequence.",
     "output_type": "error",
     "traceback": [
      "\u001b[1;31m---------------------------------------------------------------------------\u001b[0m",
      "\u001b[1;31mValueError\u001b[0m                                Traceback (most recent call last)",
      "\u001b[1;32m<ipython-input-181-fd2fb41c196b>\u001b[0m in \u001b[0;36m<module>\u001b[1;34m()\u001b[0m\n\u001b[1;32m----> 1\u001b[1;33m \u001b[0msqrt\u001b[0m\u001b[1;33m(\u001b[0m\u001b[0mnp\u001b[0m\u001b[1;33m.\u001b[0m\u001b[0mdot\u001b[0m\u001b[1;33m(\u001b[0m\u001b[0mnp\u001b[0m\u001b[1;33m.\u001b[0m\u001b[0mdot\u001b[0m\u001b[1;33m(\u001b[0m\u001b[0mx\u001b[0m\u001b[1;33m.\u001b[0m\u001b[0mT\u001b[0m\u001b[1;33m,\u001b[0m\u001b[0mCov\u001b[0m\u001b[1;33m)\u001b[0m\u001b[1;33m,\u001b[0m\u001b[0mx\u001b[0m\u001b[1;33m)\u001b[0m\u001b[1;33m)\u001b[0m\u001b[1;33m\u001b[0m\u001b[0m\n\u001b[0m",
      "\u001b[1;32mC:\\Users\\Neha\\Anaconda2\\lib\\site-packages\\cvxpy\\atoms\\elementwise\\sqrt.pyc\u001b[0m in \u001b[0;36msqrt\u001b[1;34m(x)\u001b[0m\n\u001b[0;32m     20\u001b[0m \u001b[1;33m\u001b[0m\u001b[0m\n\u001b[0;32m     21\u001b[0m \u001b[1;32mdef\u001b[0m \u001b[0msqrt\u001b[0m\u001b[1;33m(\u001b[0m\u001b[0mx\u001b[0m\u001b[1;33m)\u001b[0m\u001b[1;33m:\u001b[0m\u001b[1;33m\u001b[0m\u001b[0m\n\u001b[1;32m---> 22\u001b[1;33m     \u001b[1;32mreturn\u001b[0m \u001b[0mpower\u001b[0m\u001b[1;33m(\u001b[0m\u001b[0mx\u001b[0m\u001b[1;33m,\u001b[0m \u001b[0mFraction\u001b[0m\u001b[1;33m(\u001b[0m\u001b[1;36m1\u001b[0m\u001b[1;33m,\u001b[0m \u001b[1;36m2\u001b[0m\u001b[1;33m)\u001b[0m\u001b[1;33m)\u001b[0m\u001b[1;33m\u001b[0m\u001b[0m\n\u001b[0m",
      "\u001b[1;32mC:\\Users\\Neha\\Anaconda2\\lib\\site-packages\\cvxpy\\atoms\\elementwise\\power.pyc\u001b[0m in \u001b[0;36m__init__\u001b[1;34m(self, x, p, max_denom)\u001b[0m\n\u001b[0;32m    146\u001b[0m         \u001b[0mself\u001b[0m\u001b[1;33m.\u001b[0m\u001b[0mapprox_error\u001b[0m \u001b[1;33m=\u001b[0m \u001b[0mfloat\u001b[0m\u001b[1;33m(\u001b[0m\u001b[0mabs\u001b[0m\u001b[1;33m(\u001b[0m\u001b[0mself\u001b[0m\u001b[1;33m.\u001b[0m\u001b[0mp\u001b[0m \u001b[1;33m-\u001b[0m \u001b[0mp_old\u001b[0m\u001b[1;33m)\u001b[0m\u001b[1;33m)\u001b[0m\u001b[1;33m\u001b[0m\u001b[0m\n\u001b[0;32m    147\u001b[0m \u001b[1;33m\u001b[0m\u001b[0m\n\u001b[1;32m--> 148\u001b[1;33m         \u001b[0msuper\u001b[0m\u001b[1;33m(\u001b[0m\u001b[0mpower\u001b[0m\u001b[1;33m,\u001b[0m \u001b[0mself\u001b[0m\u001b[1;33m)\u001b[0m\u001b[1;33m.\u001b[0m\u001b[0m__init__\u001b[0m\u001b[1;33m(\u001b[0m\u001b[0mx\u001b[0m\u001b[1;33m)\u001b[0m\u001b[1;33m\u001b[0m\u001b[0m\n\u001b[0m\u001b[0;32m    149\u001b[0m \u001b[1;33m\u001b[0m\u001b[0m\n\u001b[0;32m    150\u001b[0m     \u001b[1;33m@\u001b[0m\u001b[0mElementwise\u001b[0m\u001b[1;33m.\u001b[0m\u001b[0mnumpy_numeric\u001b[0m\u001b[1;33m\u001b[0m\u001b[0m\n",
      "\u001b[1;32mC:\\Users\\Neha\\Anaconda2\\lib\\site-packages\\cvxpy\\atoms\\atom.pyc\u001b[0m in \u001b[0;36m__init__\u001b[1;34m(self, *args)\u001b[0m\n\u001b[0;32m     37\u001b[0m             )\n\u001b[0;32m     38\u001b[0m         \u001b[1;31m# Convert raw values to Constants.\u001b[0m\u001b[1;33m\u001b[0m\u001b[1;33m\u001b[0m\u001b[0m\n\u001b[1;32m---> 39\u001b[1;33m         \u001b[0mself\u001b[0m\u001b[1;33m.\u001b[0m\u001b[0margs\u001b[0m \u001b[1;33m=\u001b[0m \u001b[1;33m[\u001b[0m\u001b[0mAtom\u001b[0m\u001b[1;33m.\u001b[0m\u001b[0mcast_to_const\u001b[0m\u001b[1;33m(\u001b[0m\u001b[0marg\u001b[0m\u001b[1;33m)\u001b[0m \u001b[1;32mfor\u001b[0m \u001b[0marg\u001b[0m \u001b[1;32min\u001b[0m \u001b[0margs\u001b[0m\u001b[1;33m]\u001b[0m\u001b[1;33m\u001b[0m\u001b[0m\n\u001b[0m\u001b[0;32m     40\u001b[0m         \u001b[0mself\u001b[0m\u001b[1;33m.\u001b[0m\u001b[0mvalidate_arguments\u001b[0m\u001b[1;33m(\u001b[0m\u001b[1;33m)\u001b[0m\u001b[1;33m\u001b[0m\u001b[0m\n\u001b[0;32m     41\u001b[0m         \u001b[0mself\u001b[0m\u001b[1;33m.\u001b[0m\u001b[0m_size\u001b[0m \u001b[1;33m=\u001b[0m \u001b[0mself\u001b[0m\u001b[1;33m.\u001b[0m\u001b[0msize_from_args\u001b[0m\u001b[1;33m(\u001b[0m\u001b[1;33m)\u001b[0m\u001b[1;33m\u001b[0m\u001b[0m\n",
      "\u001b[1;32mC:\\Users\\Neha\\Anaconda2\\lib\\site-packages\\cvxpy\\expressions\\expression.pyc\u001b[0m in \u001b[0;36mcast_to_const\u001b[1;34m(expr)\u001b[0m\n\u001b[0;32m    240\u001b[0m         \"\"\"Converts a non-Expression to a Constant.\n\u001b[0;32m    241\u001b[0m         \"\"\"\n\u001b[1;32m--> 242\u001b[1;33m         \u001b[1;32mreturn\u001b[0m \u001b[0mexpr\u001b[0m \u001b[1;32mif\u001b[0m \u001b[0misinstance\u001b[0m\u001b[1;33m(\u001b[0m\u001b[0mexpr\u001b[0m\u001b[1;33m,\u001b[0m \u001b[0mExpression\u001b[0m\u001b[1;33m)\u001b[0m \u001b[1;32melse\u001b[0m \u001b[0mcvxtypes\u001b[0m\u001b[1;33m.\u001b[0m\u001b[0mconstant\u001b[0m\u001b[1;33m(\u001b[0m\u001b[1;33m)\u001b[0m\u001b[1;33m(\u001b[0m\u001b[0mexpr\u001b[0m\u001b[1;33m)\u001b[0m\u001b[1;33m\u001b[0m\u001b[0m\n\u001b[0m\u001b[0;32m    243\u001b[0m \u001b[1;33m\u001b[0m\u001b[0m\n\u001b[0;32m    244\u001b[0m     \u001b[1;33m@\u001b[0m\u001b[0m_cast_other\u001b[0m\u001b[1;33m\u001b[0m\u001b[0m\n",
      "\u001b[1;32mC:\\Users\\Neha\\Anaconda2\\lib\\site-packages\\cvxpy\\expressions\\constants\\constant.pyc\u001b[0m in \u001b[0;36m__init__\u001b[1;34m(self, value)\u001b[0m\n\u001b[0;32m     37\u001b[0m             \u001b[1;32mif\u001b[0m \u001b[0misinstance\u001b[0m\u001b[1;33m(\u001b[0m\u001b[0mvalue\u001b[0m\u001b[1;33m,\u001b[0m \u001b[0mnp\u001b[0m\u001b[1;33m.\u001b[0m\u001b[0mndarray\u001b[0m\u001b[1;33m)\u001b[0m \u001b[1;32mand\u001b[0m \u001b[0mlen\u001b[0m\u001b[1;33m(\u001b[0m\u001b[0mvalue\u001b[0m\u001b[1;33m.\u001b[0m\u001b[0mshape\u001b[0m\u001b[1;33m)\u001b[0m \u001b[1;33m==\u001b[0m \u001b[1;36m1\u001b[0m\u001b[1;33m:\u001b[0m\u001b[1;33m\u001b[0m\u001b[0m\n\u001b[0;32m     38\u001b[0m                 \u001b[0mself\u001b[0m\u001b[1;33m.\u001b[0m\u001b[0mis_1D_array\u001b[0m \u001b[1;33m=\u001b[0m \u001b[0mTrue\u001b[0m\u001b[1;33m\u001b[0m\u001b[0m\n\u001b[1;32m---> 39\u001b[1;33m             \u001b[0mself\u001b[0m\u001b[1;33m.\u001b[0m\u001b[0m_value\u001b[0m \u001b[1;33m=\u001b[0m \u001b[0mintf\u001b[0m\u001b[1;33m.\u001b[0m\u001b[0mDEFAULT_INTF\u001b[0m\u001b[1;33m.\u001b[0m\u001b[0mconst_to_matrix\u001b[0m\u001b[1;33m(\u001b[0m\u001b[0mvalue\u001b[0m\u001b[1;33m)\u001b[0m\u001b[1;33m\u001b[0m\u001b[0m\n\u001b[0m\u001b[0;32m     40\u001b[0m             \u001b[0mself\u001b[0m\u001b[1;33m.\u001b[0m\u001b[0m_sparse\u001b[0m \u001b[1;33m=\u001b[0m \u001b[0mFalse\u001b[0m\u001b[1;33m\u001b[0m\u001b[0m\n\u001b[0;32m     41\u001b[0m         \u001b[1;31m# Set DCP attributes.\u001b[0m\u001b[1;33m\u001b[0m\u001b[1;33m\u001b[0m\u001b[0m\n",
      "\u001b[1;32mC:\\Users\\Neha\\Anaconda2\\lib\\site-packages\\cvxpy\\interface\\base_matrix_interface.pyc\u001b[0m in \u001b[0;36mnew_converter\u001b[1;34m(self, value, convert_scalars)\u001b[0m\n\u001b[0;32m     46\u001b[0m                 \u001b[1;32mreturn\u001b[0m \u001b[0mcvxpy\u001b[0m\u001b[1;33m.\u001b[0m\u001b[0minterface\u001b[0m\u001b[1;33m.\u001b[0m\u001b[0mmatrix_utilities\u001b[0m\u001b[1;33m.\u001b[0m\u001b[0mscalar_value\u001b[0m\u001b[1;33m(\u001b[0m\u001b[0mvalue\u001b[0m\u001b[1;33m)\u001b[0m\u001b[1;33m\u001b[0m\u001b[0m\n\u001b[0;32m     47\u001b[0m             \u001b[1;32melse\u001b[0m\u001b[1;33m:\u001b[0m\u001b[1;33m\u001b[0m\u001b[0m\n\u001b[1;32m---> 48\u001b[1;33m                 \u001b[1;32mreturn\u001b[0m \u001b[0mconverter\u001b[0m\u001b[1;33m(\u001b[0m\u001b[0mself\u001b[0m\u001b[1;33m,\u001b[0m \u001b[0mvalue\u001b[0m\u001b[1;33m)\u001b[0m\u001b[1;33m\u001b[0m\u001b[0m\n\u001b[0m\u001b[0;32m     49\u001b[0m         \u001b[1;32mreturn\u001b[0m \u001b[0mnew_converter\u001b[0m\u001b[1;33m\u001b[0m\u001b[0m\n\u001b[0;32m     50\u001b[0m \u001b[1;33m\u001b[0m\u001b[0m\n",
      "\u001b[1;32mC:\\Users\\Neha\\Anaconda2\\lib\\site-packages\\cvxpy\\interface\\numpy_interface\\matrix_interface.pyc\u001b[0m in \u001b[0;36mconst_to_matrix\u001b[1;34m(self, value, convert_scalars)\u001b[0m\n\u001b[0;32m     45\u001b[0m         \u001b[1;32melif\u001b[0m \u001b[0msp\u001b[0m\u001b[1;33m.\u001b[0m\u001b[0missparse\u001b[0m\u001b[1;33m(\u001b[0m\u001b[0mvalue\u001b[0m\u001b[1;33m)\u001b[0m\u001b[1;33m:\u001b[0m\u001b[1;33m\u001b[0m\u001b[0m\n\u001b[0;32m     46\u001b[0m             \u001b[0mvalue\u001b[0m \u001b[1;33m=\u001b[0m \u001b[0mvalue\u001b[0m\u001b[1;33m.\u001b[0m\u001b[0mtodense\u001b[0m\u001b[1;33m(\u001b[0m\u001b[1;33m)\u001b[0m\u001b[1;33m\u001b[0m\u001b[0m\n\u001b[1;32m---> 47\u001b[1;33m         \u001b[1;32mreturn\u001b[0m \u001b[0mnp\u001b[0m\u001b[1;33m.\u001b[0m\u001b[0masmatrix\u001b[0m\u001b[1;33m(\u001b[0m\u001b[0mvalue\u001b[0m\u001b[1;33m,\u001b[0m \u001b[0mdtype\u001b[0m\u001b[1;33m=\u001b[0m\u001b[1;34m'float64'\u001b[0m\u001b[1;33m)\u001b[0m\u001b[1;33m\u001b[0m\u001b[0m\n\u001b[0m\u001b[0;32m     48\u001b[0m \u001b[1;33m\u001b[0m\u001b[0m\n\u001b[0;32m     49\u001b[0m     \u001b[1;31m# Return an identity matrix.\u001b[0m\u001b[1;33m\u001b[0m\u001b[1;33m\u001b[0m\u001b[0m\n",
      "\u001b[1;32mC:\\Users\\Neha\\Anaconda2\\lib\\site-packages\\numpy\\matrixlib\\defmatrix.pyc\u001b[0m in \u001b[0;36masmatrix\u001b[1;34m(data, dtype)\u001b[0m\n\u001b[0;32m     96\u001b[0m \u001b[1;33m\u001b[0m\u001b[0m\n\u001b[0;32m     97\u001b[0m     \"\"\"\n\u001b[1;32m---> 98\u001b[1;33m     \u001b[1;32mreturn\u001b[0m \u001b[0mmatrix\u001b[0m\u001b[1;33m(\u001b[0m\u001b[0mdata\u001b[0m\u001b[1;33m,\u001b[0m \u001b[0mdtype\u001b[0m\u001b[1;33m=\u001b[0m\u001b[0mdtype\u001b[0m\u001b[1;33m,\u001b[0m \u001b[0mcopy\u001b[0m\u001b[1;33m=\u001b[0m\u001b[0mFalse\u001b[0m\u001b[1;33m)\u001b[0m\u001b[1;33m\u001b[0m\u001b[0m\n\u001b[0m\u001b[0;32m     99\u001b[0m \u001b[1;33m\u001b[0m\u001b[0m\n\u001b[0;32m    100\u001b[0m \u001b[1;32mdef\u001b[0m \u001b[0mmatrix_power\u001b[0m\u001b[1;33m(\u001b[0m\u001b[0mM\u001b[0m\u001b[1;33m,\u001b[0m \u001b[0mn\u001b[0m\u001b[1;33m)\u001b[0m\u001b[1;33m:\u001b[0m\u001b[1;33m\u001b[0m\u001b[0m\n",
      "\u001b[1;32mC:\\Users\\Neha\\Anaconda2\\lib\\site-packages\\numpy\\matrixlib\\defmatrix.pyc\u001b[0m in \u001b[0;36m__new__\u001b[1;34m(subtype, data, dtype, copy)\u001b[0m\n\u001b[0;32m    251\u001b[0m             \u001b[1;32mif\u001b[0m \u001b[1;33m(\u001b[0m\u001b[0mdtype2\u001b[0m \u001b[1;33m==\u001b[0m \u001b[0mdtype\u001b[0m\u001b[1;33m)\u001b[0m \u001b[1;32mand\u001b[0m \u001b[1;33m(\u001b[0m\u001b[1;32mnot\u001b[0m \u001b[0mcopy\u001b[0m\u001b[1;33m)\u001b[0m\u001b[1;33m:\u001b[0m\u001b[1;33m\u001b[0m\u001b[0m\n\u001b[0;32m    252\u001b[0m                 \u001b[1;32mreturn\u001b[0m \u001b[0mdata\u001b[0m\u001b[1;33m\u001b[0m\u001b[0m\n\u001b[1;32m--> 253\u001b[1;33m             \u001b[1;32mreturn\u001b[0m \u001b[0mdata\u001b[0m\u001b[1;33m.\u001b[0m\u001b[0mastype\u001b[0m\u001b[1;33m(\u001b[0m\u001b[0mdtype\u001b[0m\u001b[1;33m)\u001b[0m\u001b[1;33m\u001b[0m\u001b[0m\n\u001b[0m\u001b[0;32m    254\u001b[0m \u001b[1;33m\u001b[0m\u001b[0m\n\u001b[0;32m    255\u001b[0m         \u001b[1;32mif\u001b[0m \u001b[0misinstance\u001b[0m\u001b[1;33m(\u001b[0m\u001b[0mdata\u001b[0m\u001b[1;33m,\u001b[0m \u001b[0mN\u001b[0m\u001b[1;33m.\u001b[0m\u001b[0mndarray\u001b[0m\u001b[1;33m)\u001b[0m\u001b[1;33m:\u001b[0m\u001b[1;33m\u001b[0m\u001b[0m\n",
      "\u001b[1;31mValueError\u001b[0m: setting an array element with a sequence."
     ]
    }
   ],
   "source": [
    "sqrt(np.dot(np.dot(x.T,Cov),x))"
   ]
  },
  {
   "cell_type": "code",
   "execution_count": 285,
   "metadata": {},
   "outputs": [
    {
     "data": {
      "text/plain": [
       "176.80493302831707"
      ]
     },
     "execution_count": 285,
     "metadata": {},
     "output_type": "execute_result"
    }
   ],
   "source": [
    "import matplotlib.pyplot as plt\n",
    "import numpy as np\n",
    "import pandas as pd\n",
    "T = 300\n",
    "m=6\n",
    "B=100\n",
    "y = np.zeros((T+1,m))\n",
    "y[0]=[x.value.item(0),x.value.item(1),x.value.item(2),x.value.item(3),x.value.item(4),x.value.item(5)]\n",
    "for i in range(T):\n",
    "    rr=np.random.multivariate_normal(meanv,Cov)\n",
    "    y[i+1]=y[i]*(1+rr)\n",
    "sum(y[T])*B"
   ]
  },
  {
   "cell_type": "code",
   "execution_count": 286,
   "metadata": {},
   "outputs": [
    {
     "data": {
      "image/png": "[encoded data removed]",
      "text/plain": [
       "<matplotlib.figure.Figure at 0xf65e438>"
      ]
     },
     "metadata": {},
     "output_type": "display_data"
    }
   ],
   "source": [
    "# Simulation\n",
    "import numpy as np\n",
    "import matplotlib.pyplot as plt\n",
    "simu=50\n",
    "T = 250\n",
    "m=6\n",
    "B=100 \n",
    "z_values = []\n",
    "for q in range(simu):\n",
    "    y = np.zeros((T+1,m))\n",
    "    y[0]=[x.value.item(0),x.value.item(1),x.value.item(2),x.value.item(3),x.value.item(4),x.value.item(5)]\n",
    "    for i in range(T):\n",
    "        rr=np.random.multivariate_normal(meanv,Cov)\n",
    "        y[i+1]=y[i]*(1+rr)\n",
    "    z_values.append(sum(y[T])*B)\n",
    "\n",
    "plt.hist(z_values, density=True )\n",
    "plt.xlabel('Portfolio')\n",
    "plt.ylabel('Probability')\n",
    "plt.title('Histogram of Returns')\n",
    "plt.show()"
   ]
  },
  {
   "cell_type": "code",
   "execution_count": 287,
   "metadata": {},
   "outputs": [
    {
     "data": {
      "image/png": "[encoded data removed]",
      "text/plain": [
       "<matplotlib.figure.Figure at 0x10aee278>"
      ]
     },
     "metadata": {},
     "output_type": "display_data"
    }
   ],
   "source": [
    "ydf = pd.DataFrame(y)\n",
    "ydf.head(n=10)\n",
    "T_range = range(0,251,1)\n",
    "plt.plot(T_range,ydf[0], color='skyblue', label='Amazon')\n",
    "plt.plot(T_range,ydf[1], color='orangered', label='Apple')\n",
    "plt.plot(T_range,ydf[2], color='magenta', label='Ebay')\n",
    "plt.plot(T_range,ydf[3], color='cyan', label='FB')\n",
    "plt.plot(T_range,ydf[4], color='green', label='Google')\n",
    "plt.plot(T_range,ydf[5], color='red', label='Twitter')\n",
    "plt.xlabel('Trading Day')\n",
    "plt.ylabel('Stock Returns')\n",
    "plt.title('Stock Return Simulation')\n",
    "plt.legend()\n",
    "plt.show()"
   ]
  },
  {
   "cell_type": "code",
   "execution_count": 288,
   "metadata": {},
   "outputs": [
    {
     "data": {
      "image/png": "[encoded data removed]",
      "text/plain": [
       "<matplotlib.figure.Figure at 0xf5a4978>"
      ]
     },
     "metadata": {},
     "output_type": "display_data"
    }
   ],
   "source": [
    "ydf2 = pd.DataFrame(y)\n",
    "ydf2[6]=ydf[0]+ydf[1]+ydf[2]+ydf[4]+ydf[5]+ydf[3]\n",
    "ydf2[7]=100*ydf2[6]\n",
    "T_range = range(0,251,1)\n",
    "plt.plot(T_range,ydf2[7], color='skyblue', label='Optimal Portfolio')\n",
    "plt.xlabel('Trading Day')\n",
    "plt.ylabel('PortFolio Value')\n",
    "plt.title('Stock Return Simulation')\n",
    "plt.legend()\n",
    "plt.show()"
   ]
  },
  {
   "cell_type": "markdown",
   "metadata": {},
   "source": [
    "The Allocation is different because when maximizing return, we are only setting a risk tolerance while focusing on return, which is why the allocation is for a single stock. "
   ]
  },
  {
   "cell_type": "markdown",
   "metadata": {},
   "source": [
    "Part 2"
   ]
  },
  {
   "cell_type": "code",
   "execution_count": 265,
   "metadata": {
    "collapsed": true
   },
   "outputs": [],
   "source": [
    "import pandas as pd\n",
    "Data2 = pd.read_csv(r\"C:\\Users\\Neha\\Downloads\\datahomework2.csv\")"
   ]
  },
  {
   "cell_type": "code",
   "execution_count": 266,
   "metadata": {
    "collapsed": true
   },
   "outputs": [],
   "source": [
    "Data2 = Data2.iloc[399:]"
   ]
  },
  {
   "cell_type": "code",
   "execution_count": 267,
   "metadata": {},
   "outputs": [
    {
     "data": {
      "text/plain": [
       "(400, 6)"
      ]
     },
     "execution_count": 267,
     "metadata": {},
     "output_type": "execute_result"
    }
   ],
   "source": [
    "Data2.shape"
   ]
  },
  {
   "cell_type": "code",
   "execution_count": 268,
   "metadata": {
    "collapsed": true
   },
   "outputs": [],
   "source": [
    "Data2['Amz_return']=Data2['Amazon'].pct_change(fill_method='ffill')\n",
    "Data2['Apl_return']=Data2['Apple'].pct_change(fill_method='ffill')\n",
    "Data2['Ebay_return']=Data2['Ebay'].pct_change(fill_method='ffill')\n",
    "Data2['FB_return']=Data2['Facebook'].pct_change(fill_method='ffill')\n",
    "Data2['Ggl_return']=Data2['Google'].pct_change(fill_method='ffill')\n",
    "Data2['Twtr_return']=Data2['Twitter'].pct_change(fill_method='ffill')"
   ]
  },
  {
   "cell_type": "code",
   "execution_count": 269,
   "metadata": {
    "collapsed": true
   },
   "outputs": [],
   "source": [
    "dx1 = Data2['Amz_return'].apply(lambda x:x+1)\n",
    "dx2= Data2['Apl_return'].apply(lambda x:x+1)\n",
    "dx3 = Data2['Ebay_return'].apply(lambda x:x+1)\n",
    "dx4 = Data2['FB_return'].apply(lambda x:x+1)\n",
    "dx5 = Data2['Ggl_return'].apply(lambda x:x+1)\n",
    "dx6 = Data2['Twtr_return'].apply(lambda x:x+1)"
   ]
  },
  {
   "cell_type": "code",
   "execution_count": 270,
   "metadata": {},
   "outputs": [
    {
     "data": {
      "text/plain": [
       "[0.0014643013426303142,\n",
       " 0.0012608077573945664,\n",
       " 0.00080563270296596379,\n",
       " 0.00098041515941882373,\n",
       " 0.00087320254110712092,\n",
       " 0.0015031838880255055]"
      ]
     },
     "execution_count": 270,
     "metadata": {},
     "output_type": "execute_result"
    }
   ],
   "source": [
    "meanv2=[gmean(dx1[1:])-1,gmean(dx2[1:])-1,gmean(dx3[1:])-1,gmean(dx4[1:])-1,gmean(dx5[1:])-1,\\\n",
    "      gmean(dx6[1:])-1]\n",
    "meanv2"
   ]
  },
  {
   "cell_type": "code",
   "execution_count": 271,
   "metadata": {},
   "outputs": [
    {
     "data": {
      "text/html": [
       "<div>\n",
       "<style>\n",
       "    .dataframe thead tr:only-child th {\n",
       "        text-align: right;\n",
       "    }\n",
       "\n",
       "    .dataframe thead th {\n",
       "        text-align: left;\n",
       "    }\n",
       "\n",
       "    .dataframe tbody tr th {\n",
       "        vertical-align: top;\n",
       "    }\n",
       "</style>\n",
       "<table border=\"1\" class=\"dataframe\">\n",
       "  <thead>\n",
       "    <tr style=\"text-align: right;\">\n",
       "      <th></th>\n",
       "      <th>Amzn</th>\n",
       "      <th>Apl</th>\n",
       "      <th>Ebay</th>\n",
       "      <th>FB</th>\n",
       "      <th>Ggl</th>\n",
       "      <th>Twttr</th>\n",
       "    </tr>\n",
       "  </thead>\n",
       "  <tbody>\n",
       "    <tr>\n",
       "      <th>0</th>\n",
       "      <td>2.300889e-04</td>\n",
       "      <td>-0.000010</td>\n",
       "      <td>-3.671181e-07</td>\n",
       "      <td>-0.000002</td>\n",
       "      <td>-9.316624e-07</td>\n",
       "      <td>-0.000034</td>\n",
       "    </tr>\n",
       "    <tr>\n",
       "      <th>1</th>\n",
       "      <td>-9.806561e-06</td>\n",
       "      <td>0.000140</td>\n",
       "      <td>6.598452e-06</td>\n",
       "      <td>0.000003</td>\n",
       "      <td>6.913915e-06</td>\n",
       "      <td>-0.000011</td>\n",
       "    </tr>\n",
       "    <tr>\n",
       "      <th>2</th>\n",
       "      <td>-3.671181e-07</td>\n",
       "      <td>0.000007</td>\n",
       "      <td>2.367480e-04</td>\n",
       "      <td>-0.000013</td>\n",
       "      <td>1.879560e-06</td>\n",
       "      <td>-0.000026</td>\n",
       "    </tr>\n",
       "    <tr>\n",
       "      <th>3</th>\n",
       "      <td>-2.030911e-06</td>\n",
       "      <td>0.000003</td>\n",
       "      <td>-1.321101e-05</td>\n",
       "      <td>0.000159</td>\n",
       "      <td>2.138099e-05</td>\n",
       "      <td>-0.000002</td>\n",
       "    </tr>\n",
       "    <tr>\n",
       "      <th>4</th>\n",
       "      <td>-9.316624e-07</td>\n",
       "      <td>0.000007</td>\n",
       "      <td>1.879560e-06</td>\n",
       "      <td>0.000021</td>\n",
       "      <td>1.224945e-04</td>\n",
       "      <td>-0.000005</td>\n",
       "    </tr>\n",
       "    <tr>\n",
       "      <th>5</th>\n",
       "      <td>-3.373240e-05</td>\n",
       "      <td>-0.000011</td>\n",
       "      <td>-2.619704e-05</td>\n",
       "      <td>-0.000002</td>\n",
       "      <td>-5.323035e-06</td>\n",
       "      <td>0.001004</td>\n",
       "    </tr>\n",
       "  </tbody>\n",
       "</table>\n",
       "</div>"
      ],
      "text/plain": [
       "           Amzn       Apl          Ebay        FB           Ggl     Twttr\n",
       "0  2.300889e-04 -0.000010 -3.671181e-07 -0.000002 -9.316624e-07 -0.000034\n",
       "1 -9.806561e-06  0.000140  6.598452e-06  0.000003  6.913915e-06 -0.000011\n",
       "2 -3.671181e-07  0.000007  2.367480e-04 -0.000013  1.879560e-06 -0.000026\n",
       "3 -2.030911e-06  0.000003 -1.321101e-05  0.000159  2.138099e-05 -0.000002\n",
       "4 -9.316624e-07  0.000007  1.879560e-06  0.000021  1.224945e-04 -0.000005\n",
       "5 -3.373240e-05 -0.000011 -2.619704e-05 -0.000002 -5.323035e-06  0.001004"
      ]
     },
     "execution_count": 271,
     "metadata": {},
     "output_type": "execute_result"
    }
   ],
   "source": [
    "Datamat2 = Data2.iloc[1:,6:12]\n",
    "\n",
    "covmat2 = Datamat2.as_matrix()\n",
    "\n",
    "covmat2.shape\n",
    "\n",
    "covar2 = np.cov(covmat2.T)\n",
    "\n",
    "covdf2=pd.DataFrame(covar2,columns=['Amzn','Apl','Ebay','FB','Ggl','Twttr'])\n",
    "covdf2"
   ]
  },
  {
   "cell_type": "code",
   "execution_count": 272,
   "metadata": {},
   "outputs": [
    {
     "name": "stdout",
     "output_type": "stream",
     "text": [
      "[[ 0.16300095]\n",
      " [ 0.22955332]\n",
      " [ 0.14732037]\n",
      " [ 0.18900779]\n",
      " [ 0.22480208]\n",
      " [ 0.04631549]]\n"
     ]
    }
   ],
   "source": [
    "mu2=matrix(meanv2)\n",
    "Cov2=matrix(covar2)\n",
    "x=cvx.Variable(6)\n",
    "\n",
    "\n",
    "risk=quad_form(x, Cov2)\n",
    "rr=sum_entries(mu2*x)\n",
    "prob1 = Problem(Minimize(risk ), \n",
    "               [rr>=R,sum_entries(x) == 1, \n",
    "                x >= 0])\n",
    "prob1.solve()\n",
    "print(x.value)"
   ]
  },
  {
   "cell_type": "code",
   "execution_count": 273,
   "metadata": {},
   "outputs": [
    {
     "data": {
      "text/plain": [
       "160.00634948450335"
      ]
     },
     "execution_count": 273,
     "metadata": {},
     "output_type": "execute_result"
    }
   ],
   "source": [
    "T = 300\n",
    "m=6\n",
    "B=100\n",
    "y = np.zeros((T+1,m))\n",
    "y[0]=[x.value.item(0),x.value.item(1),x.value.item(2),x.value.item(3),x.value.item(4),x.value.item(5)]\n",
    "for i in range(T):\n",
    "    rr=np.random.multivariate_normal(meanv2,Cov2)\n",
    "    y[i+1]=y[i]*(1+rr)\n",
    "sum(y[T])*B"
   ]
  },
  {
   "cell_type": "code",
   "execution_count": 277,
   "metadata": {},
   "outputs": [
    {
     "data": {
      "image/png": "[encoded data removed]",
      "text/plain": [
       "<matplotlib.figure.Figure at 0x11582e48>"
      ]
     },
     "metadata": {},
     "output_type": "display_data"
    }
   ],
   "source": [
    "# Simulation\n",
    "import numpy as np\n",
    "import matplotlib.pyplot as plt\n",
    "simu=50\n",
    "T = 250\n",
    "m=6\n",
    "B=100 \n",
    "z_values = []\n",
    "for q in range(simu):\n",
    "    y = np.zeros((T+1,m))\n",
    "    y[0]=[x.value.item(0),x.value.item(1),x.value.item(2),x.value.item(3),x.value.item(4),x.value.item(5)]\n",
    "    for i in range(T):\n",
    "        rr=np.random.multivariate_normal(meanv2,Cov2)\n",
    "        y[i+1]=y[i]*(1+rr)\n",
    "    z_values.append(sum(y[T])*B)\n",
    "\n",
    "plt.hist(z_values, density=True )\n",
    "plt.xlabel('Portfolio')\n",
    "plt.ylabel('Probability')\n",
    "plt.title('Histogram of Returns')\n",
    "plt.show()"
   ]
  },
  {
   "cell_type": "code",
   "execution_count": 278,
   "metadata": {},
   "outputs": [
    {
     "data": {
      "image/png": "[encoded data removed]",
      "text/plain": [
       "<matplotlib.figure.Figure at 0xc242048>"
      ]
     },
     "metadata": {},
     "output_type": "display_data"
    }
   ],
   "source": [
    "ydf = pd.DataFrame(y)\n",
    "ydf.head(n=10)\n",
    "T_range = range(0,251,1)\n",
    "plt.plot(T_range,ydf[0], color='skyblue', label='Amazon')\n",
    "plt.plot(T_range,ydf[1], color='orangered', label='Apple')\n",
    "plt.plot(T_range,ydf[2], color='magenta', label='Ebay')\n",
    "plt.plot(T_range,ydf[3], color='cyan', label='FB')\n",
    "plt.plot(T_range,ydf[4], color='green', label='Google')\n",
    "plt.plot(T_range,ydf[5], color='red', label='Twitter')\n",
    "plt.xlabel('Trading Day')\n",
    "plt.ylabel('Stock Returns')\n",
    "plt.title('Stock Return Simulation')\n",
    "plt.legend()\n",
    "plt.show()"
   ]
  },
  {
   "cell_type": "code",
   "execution_count": 279,
   "metadata": {},
   "outputs": [
    {
     "data": {
      "image/png": "[encoded data removed]",
      "text/plain": [
       "<matplotlib.figure.Figure at 0xb2fecc0>"
      ]
     },
     "metadata": {},
     "output_type": "display_data"
    }
   ],
   "source": [
    "ydf2 = pd.DataFrame(y)\n",
    "ydf2[6]=ydf[0]+ydf[1]+ydf[2]+ydf[4]+ydf[5]+ydf[3]\n",
    "ydf2[7]=100*ydf2[6]\n",
    "T_range = range(0,251,1)\n",
    "plt.plot(T_range,ydf2[7], color='skyblue', label='Optimal Portfolio')\n",
    "plt.xlabel('Trading Day')\n",
    "plt.ylabel('PortFolio Value')\n",
    "plt.title('Stock Return Simulation')\n",
    "plt.legend()\n",
    "plt.show()"
   ]
  },
  {
   "cell_type": "markdown",
   "metadata": {},
   "source": [
    "Part 2 Part b"
   ]
  },
  {
   "cell_type": "code",
   "execution_count": 306,
   "metadata": {
    "collapsed": true
   },
   "outputs": [],
   "source": [
    "Allo = []\n",
    "for gamma in [0.1,0.15,0.2]:\n",
    "    rr=sum_entries(mu2*x)\n",
    "    Exp_return= rr - gamma*quad_form(x, Cov2)\n",
    "    prob1 = Problem(Maximize(Exp_return), \n",
    "                   [sum_entries(x) == 1, \n",
    "                    x >= 0])\n",
    "    prob1.solve()\n",
    "    Allo.append(x.value.tolist())"
   ]
  },
  {
   "cell_type": "code",
   "execution_count": 307,
   "metadata": {
    "collapsed": true
   },
   "outputs": [],
   "source": [
    "Allodf = pd.DataFrame(Allo)\n",
    "\n",
    "def values(list):\n",
    "          for val in list: return np.round(val,16)\n",
    "for i in range(0,6):\n",
    "     Allodf[i]=Allodf[i].apply(lambda x:values(x))"
   ]
  },
  {
   "cell_type": "code",
   "execution_count": 322,
   "metadata": {},
   "outputs": [
    {
     "data": {
      "text/html": [
       "<div>\n",
       "<style>\n",
       "    .dataframe thead tr:only-child th {\n",
       "        text-align: right;\n",
       "    }\n",
       "\n",
       "    .dataframe thead th {\n",
       "        text-align: left;\n",
       "    }\n",
       "\n",
       "    .dataframe tbody tr th {\n",
       "        vertical-align: top;\n",
       "    }\n",
       "</style>\n",
       "<table border=\"1\" class=\"dataframe\">\n",
       "  <thead>\n",
       "    <tr style=\"text-align: right;\">\n",
       "      <th></th>\n",
       "      <th>0</th>\n",
       "      <th>1</th>\n",
       "      <th>2</th>\n",
       "      <th>3</th>\n",
       "      <th>4</th>\n",
       "      <th>5</th>\n",
       "    </tr>\n",
       "  </thead>\n",
       "  <tbody>\n",
       "    <tr>\n",
       "      <th>0</th>\n",
       "      <td>0.647898</td>\n",
       "      <td>5.004163e-09</td>\n",
       "      <td>4.153381e-09</td>\n",
       "      <td>3.014599e-09</td>\n",
       "      <td>3.878702e-09</td>\n",
       "      <td>0.352102</td>\n",
       "    </tr>\n",
       "    <tr>\n",
       "      <th>1</th>\n",
       "      <td>0.697784</td>\n",
       "      <td>5.150558e-08</td>\n",
       "      <td>1.099801e-08</td>\n",
       "      <td>9.647515e-09</td>\n",
       "      <td>1.056625e-08</td>\n",
       "      <td>0.302216</td>\n",
       "    </tr>\n",
       "    <tr>\n",
       "      <th>2</th>\n",
       "      <td>0.722636</td>\n",
       "      <td>8.645693e-08</td>\n",
       "      <td>1.704552e-08</td>\n",
       "      <td>2.222525e-08</td>\n",
       "      <td>1.850183e-08</td>\n",
       "      <td>0.277364</td>\n",
       "    </tr>\n",
       "  </tbody>\n",
       "</table>\n",
       "</div>"
      ],
      "text/plain": [
       "          0             1             2             3             4         5\n",
       "0  0.647898  5.004163e-09  4.153381e-09  3.014599e-09  3.878702e-09  0.352102\n",
       "1  0.697784  5.150558e-08  1.099801e-08  9.647515e-09  1.056625e-08  0.302216\n",
       "2  0.722636  8.645693e-08  1.704552e-08  2.222525e-08  1.850183e-08  0.277364"
      ]
     },
     "execution_count": 322,
     "metadata": {},
     "output_type": "execute_result"
    }
   ],
   "source": [
    "Allodf"
   ]
  },
  {
   "cell_type": "code",
   "execution_count": 309,
   "metadata": {},
   "outputs": [
    {
     "data": {
      "text/plain": [
       "150.37914284165893"
      ]
     },
     "execution_count": 309,
     "metadata": {},
     "output_type": "execute_result"
    }
   ],
   "source": [
    "import matplotlib.pyplot as plt\n",
    "import numpy as np\n",
    "import pandas as pd\n",
    "T = 300\n",
    "m=6\n",
    "B=100\n",
    "y = np.zeros((T+1,m))\n",
    "y[0]=[x.value.item(0),x.value.item(1),x.value.item(2),x.value.item(3),x.value.item(4),x.value.item(5)]\n",
    "for i in range(T):\n",
    "    rr=np.random.multivariate_normal(meanv2,Cov2)\n",
    "    y[i+1]=y[i]*(1+rr)\n",
    "sum(y[T])*B"
   ]
  },
  {
   "cell_type": "code",
   "execution_count": 310,
   "metadata": {},
   "outputs": [
    {
     "data": {
      "image/png": "[encoded data removed]",
      "text/plain": [
       "<matplotlib.figure.Figure at 0x11035320>"
      ]
     },
     "metadata": {},
     "output_type": "display_data"
    }
   ],
   "source": [
    "# Simulation\n",
    "import numpy as np\n",
    "import matplotlib.pyplot as plt\n",
    "simu=50\n",
    "T = 250\n",
    "m=6\n",
    "B=100 \n",
    "z_values = []\n",
    "for q in range(simu):\n",
    "    y = np.zeros((T+1,m))\n",
    "    y[0]=[x.value.item(0),x.value.item(1),x.value.item(2),x.value.item(3),x.value.item(4),x.value.item(5)]\n",
    "    for i in range(T):\n",
    "        rr=np.random.multivariate_normal(meanv2,Cov2)\n",
    "        y[i+1]=y[i]*(1+rr)\n",
    "    z_values.append(sum(y[T])*B)\n",
    "\n",
    "plt.hist(z_values, density=True )\n",
    "plt.xlabel('Portfolio')\n",
    "plt.ylabel('Probability')\n",
    "plt.title('Histogram of Returns')\n",
    "plt.show()"
   ]
  },
  {
   "cell_type": "code",
   "execution_count": 311,
   "metadata": {},
   "outputs": [
    {
     "data": {
      "image/png": "[encoded data removed]",
      "text/plain": [
       "<matplotlib.figure.Figure at 0x10940780>"
      ]
     },
     "metadata": {},
     "output_type": "display_data"
    }
   ],
   "source": [
    "ydf = pd.DataFrame(y)\n",
    "ydf.head(n=10)\n",
    "T_range = range(0,251,1)\n",
    "plt.plot(T_range,ydf[0], color='skyblue', label='Amazon')\n",
    "plt.plot(T_range,ydf[1], color='orangered', label='Apple')\n",
    "plt.plot(T_range,ydf[2], color='magenta', label='Ebay')\n",
    "plt.plot(T_range,ydf[3], color='cyan', label='FB')\n",
    "plt.plot(T_range,ydf[4], color='green', label='Google')\n",
    "plt.plot(T_range,ydf[5], color='red', label='Twitter')\n",
    "plt.xlabel('Trading Day')\n",
    "plt.ylabel('Stock Returns')\n",
    "plt.title('Stock Return Simulation')\n",
    "plt.legend()\n",
    "plt.show()"
   ]
  },
  {
   "cell_type": "code",
   "execution_count": 312,
   "metadata": {},
   "outputs": [
    {
     "data": {
      "image/png": "[encoded data removed]",
      "text/plain": [
       "<matplotlib.figure.Figure at 0x112ec0f0>"
      ]
     },
     "metadata": {},
     "output_type": "display_data"
    }
   ],
   "source": [
    "ydf2 = pd.DataFrame(y)\n",
    "ydf2[6]=ydf[0]+ydf[1]+ydf[2]+ydf[4]+ydf[5]+ydf[3]\n",
    "ydf2[7]=100*ydf2[6]\n",
    "T_range = range(0,251,1)\n",
    "plt.plot(T_range,ydf2[7], color='skyblue', label='Optimal Portfolio')\n",
    "plt.xlabel('Trading Day')\n",
    "plt.ylabel('PortFolio Value')\n",
    "plt.title('Stock Return Simulation')\n",
    "plt.legend()\n",
    "plt.show()"
   ]
  },
  {
   "cell_type": "markdown",
   "metadata": {},
   "source": [
    "The Allocation is different because when maximizing return, we are only setting a risk tolerance while focusing on return, which is why the allocation is for only two stock. "
   ]
  },
  {
   "cell_type": "markdown",
   "metadata": {},
   "source": [
    "The Allocation is different because when considering different range of days, the average return and variance covariance differs. In the second case when we take more recent data, we allocate to two stocks when maximizing return. "
   ]
  },
  {
   "cell_type": "code",
   "execution_count": null,
   "metadata": {
    "collapsed": true
   },
   "outputs": [],
   "source": []
  }
 ],
 "metadata": {
  "kernelspec": {
   "display_name": "Python 2",
   "language": "python",
   "name": "python2"
  },
  "language_info": {
   "codemirror_mode": {
    "name": "ipython",
    "version": 2
   },
   "file_extension": ".py",
   "mimetype": "text/x-python",
   "name": "python",
   "nbconvert_exporter": "python",
   "pygments_lexer": "ipython2",
   "version": "2.7.13"
  }
 },
 "nbformat": 4,
 "nbformat_minor": 2
}
